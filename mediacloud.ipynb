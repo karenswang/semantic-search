{
 "cells": [
  {
   "cell_type": "code",
   "execution_count": 18,
   "metadata": {},
   "outputs": [],
   "source": [
    "from waybacknews.searchapi import SearchApiClient\n",
    "from mediacloud import api\n",
    "from datetime import datetime\n",
    "from IPython.display import display, HTML\n",
    "import pandas as pd\n"
   ]
  },
  {
   "cell_type": "code",
   "execution_count": 12,
   "metadata": {},
   "outputs": [],
   "source": [
    "# Query parameters\n",
    "query_term = 'police shooting'\n",
    "start =  datetime(2023, 8, 24)\n",
    "end = datetime.today()\n",
    "language = \"en\""
   ]
  },
  {
   "cell_type": "code",
   "execution_count": 14,
   "metadata": {},
   "outputs": [
    {
     "data": {
      "text/plain": [
       "'police shooting AND language:en AND domain:(nytimes.com OR cnn.com OR foxnews.com OR nypost.com OR washingtonpost.com OR usatoday.com OR cnbc.com OR theguardian.com OR breakingnews.com OR buzzfeed.com OR cbsnews.com OR reuters.com OR huffingtonpost.com OR usnews.com OR latimes.com OR politico.com OR newsweek.com OR breitbart.com)'"
      ]
     },
     "execution_count": 14,
     "metadata": {},
     "output_type": "execute_result"
    }
   ],
   "source": [
    "domains = ['nytimes.com','cnn.com','foxnews.com','nypost.com','washingtonpost.com','usatoday.com','cnbc.com',\n",
    "              'theguardian.com','breakingnews.com','buzzfeed.com','cbsnews.com','reuters.com','huffingtonpost.com',\n",
    "              'usnews.com','latimes.com','politico.com','newsweek.com','breitbart.com',]\n",
    "domains_str = f\"domain:({' OR '.join(domains)})\"\n",
    "\n",
    "query = f\"{query_term} AND language:{language} AND {domains_str}\"\n",
    "query"
   ]
  },
  {
   "cell_type": "code",
   "execution_count": 15,
   "metadata": {},
   "outputs": [],
   "source": [
    "# Instantiate API\n",
    "api = SearchApiClient(\"mediacloud\")\n",
    "article_generator = api.all_articles(query, start, end)\n",
    "\n"
   ]
  },
  {
   "cell_type": "code",
   "execution_count": 16,
   "metadata": {},
   "outputs": [],
   "source": [
    "# Run Summary Queries\n",
    "count   = api.count(query, start, end)\n",
    "sources = api.top_sources(query, start, end)\n",
    "tlds    = api.top_tlds(query, start, end)"
   ]
  },
  {
   "cell_type": "code",
   "execution_count": 19,
   "metadata": {},
   "outputs": [
    {
     "data": {
      "text/html": [
       "<h3>Query</h3>"
      ],
      "text/plain": [
       "<IPython.core.display.HTML object>"
      ]
     },
     "metadata": {},
     "output_type": "display_data"
    },
    {
     "name": "stdout",
     "output_type": "stream",
     "text": [
      "police shooting AND language:en AND domain:(nytimes.com OR cnn.com OR foxnews.com OR nypost.com OR washingtonpost.com OR usatoday.com OR cnbc.com OR theguardian.com OR breakingnews.com OR buzzfeed.com OR cbsnews.com OR reuters.com OR huffingtonpost.com OR usnews.com OR latimes.com OR politico.com OR newsweek.com OR breitbart.com)\n",
      "August 24, 2023 00:00 - November 07, 2023 11:51\n"
     ]
    },
    {
     "data": {
      "text/html": [
       "<h3>Summary of results</h3>"
      ],
      "text/plain": [
       "<IPython.core.display.HTML object>"
      ]
     },
     "metadata": {},
     "output_type": "display_data"
    },
    {
     "name": "stdout",
     "output_type": "stream",
     "text": [
      "Found 3151 articles\n",
      "\n"
     ]
    },
    {
     "ename": "ImportError",
     "evalue": "Missing optional dependency 'Jinja2'. DataFrame.style requires jinja2. Use pip or conda to install Jinja2.",
     "output_type": "error",
     "traceback": [
      "\u001b[0;31m---------------------------------------------------------------------------\u001b[0m",
      "\u001b[0;31mModuleNotFoundError\u001b[0m                       Traceback (most recent call last)",
      "File \u001b[0;32m~/.virtualenvs/semantic-search/lib/python3.11/site-packages/pandas/compat/_optional.py:132\u001b[0m, in \u001b[0;36mimport_optional_dependency\u001b[0;34m(name, extra, errors, min_version)\u001b[0m\n\u001b[1;32m    131\u001b[0m \u001b[39mtry\u001b[39;00m:\n\u001b[0;32m--> 132\u001b[0m     module \u001b[39m=\u001b[39m importlib\u001b[39m.\u001b[39;49mimport_module(name)\n\u001b[1;32m    133\u001b[0m \u001b[39mexcept\u001b[39;00m \u001b[39mImportError\u001b[39;00m:\n",
      "File \u001b[0;32m/opt/homebrew/Cellar/python@3.11/3.11.5/Frameworks/Python.framework/Versions/3.11/lib/python3.11/importlib/__init__.py:126\u001b[0m, in \u001b[0;36mimport_module\u001b[0;34m(name, package)\u001b[0m\n\u001b[1;32m    125\u001b[0m         level \u001b[39m+\u001b[39m\u001b[39m=\u001b[39m \u001b[39m1\u001b[39m\n\u001b[0;32m--> 126\u001b[0m \u001b[39mreturn\u001b[39;00m _bootstrap\u001b[39m.\u001b[39;49m_gcd_import(name[level:], package, level)\n",
      "File \u001b[0;32m<frozen importlib._bootstrap>:1204\u001b[0m, in \u001b[0;36m_gcd_import\u001b[0;34m(name, package, level)\u001b[0m\n",
      "File \u001b[0;32m<frozen importlib._bootstrap>:1176\u001b[0m, in \u001b[0;36m_find_and_load\u001b[0;34m(name, import_)\u001b[0m\n",
      "File \u001b[0;32m<frozen importlib._bootstrap>:1140\u001b[0m, in \u001b[0;36m_find_and_load_unlocked\u001b[0;34m(name, import_)\u001b[0m\n",
      "\u001b[0;31mModuleNotFoundError\u001b[0m: No module named 'jinja2'",
      "\nDuring handling of the above exception, another exception occurred:\n",
      "\u001b[0;31mImportError\u001b[0m                               Traceback (most recent call last)",
      "\u001b[1;32m/Users/karenwang/Projects/semantic-search/mediacloud.ipynb Cell 6\u001b[0m line \u001b[0;36m1\n\u001b[1;32m      <a href='vscode-notebook-cell:/Users/karenwang/Projects/semantic-search/mediacloud.ipynb#X10sZmlsZQ%3D%3D?line=8'>9</a>\u001b[0m display(HTML(\u001b[39m\"\u001b[39m\u001b[39m<h3>Summary of results</h3>\u001b[39m\u001b[39m\"\u001b[39m))\n\u001b[1;32m     <a href='vscode-notebook-cell:/Users/karenwang/Projects/semantic-search/mediacloud.ipynb#X10sZmlsZQ%3D%3D?line=9'>10</a>\u001b[0m \u001b[39mprint\u001b[39m(\u001b[39mf\u001b[39m\u001b[39m\"\u001b[39m\u001b[39mFound \u001b[39m\u001b[39m{\u001b[39;00mcount\u001b[39m}\u001b[39;00m\u001b[39m articles\u001b[39m\u001b[39m\\n\u001b[39;00m\u001b[39m\"\u001b[39m)\n\u001b[0;32m---> <a href='vscode-notebook-cell:/Users/karenwang/Projects/semantic-search/mediacloud.ipynb#X10sZmlsZQ%3D%3D?line=10'>11</a>\u001b[0m display(pd\u001b[39m.\u001b[39;49mDataFrame(sources)\u001b[39m.\u001b[39;49mhead(n)\u001b[39m.\u001b[39;49mstyle\u001b[39m.\u001b[39mset_caption(\u001b[39mf\u001b[39m\u001b[39m\"\u001b[39m\u001b[39mTop \u001b[39m\u001b[39m{\u001b[39;00mn\u001b[39m}\u001b[39;00m\u001b[39m sources\u001b[39m\u001b[39m\"\u001b[39m))\n\u001b[1;32m     <a href='vscode-notebook-cell:/Users/karenwang/Projects/semantic-search/mediacloud.ipynb#X10sZmlsZQ%3D%3D?line=11'>12</a>\u001b[0m display(pd\u001b[39m.\u001b[39mDataFrame(tlds)\u001b[39m.\u001b[39mhead(n)\u001b[39m.\u001b[39mstyle\u001b[39m.\u001b[39mset_caption(\u001b[39mf\u001b[39m\u001b[39m\"\u001b[39m\u001b[39mTop \u001b[39m\u001b[39m{\u001b[39;00mn\u001b[39m}\u001b[39;00m\u001b[39m tlds\u001b[39m\u001b[39m\"\u001b[39m))\n",
      "File \u001b[0;32m~/.virtualenvs/semantic-search/lib/python3.11/site-packages/pandas/core/frame.py:1338\u001b[0m, in \u001b[0;36mDataFrame.style\u001b[0;34m(self)\u001b[0m\n\u001b[1;32m   1318\u001b[0m \u001b[39m@property\u001b[39m\n\u001b[1;32m   1319\u001b[0m \u001b[39mdef\u001b[39;00m \u001b[39mstyle\u001b[39m(\u001b[39mself\u001b[39m) \u001b[39m-\u001b[39m\u001b[39m>\u001b[39m Styler:\n\u001b[1;32m   1320\u001b[0m \u001b[39m    \u001b[39m\u001b[39m\"\"\"\u001b[39;00m\n\u001b[1;32m   1321\u001b[0m \u001b[39m    Returns a Styler object.\u001b[39;00m\n\u001b[1;32m   1322\u001b[0m \n\u001b[0;32m   (...)\u001b[0m\n\u001b[1;32m   1336\u001b[0m \u001b[39m    `Table Visualization <../../user_guide/style.ipynb>`_ for more examples.\u001b[39;00m\n\u001b[1;32m   1337\u001b[0m \u001b[39m    \"\"\"\u001b[39;00m\n\u001b[0;32m-> 1338\u001b[0m     \u001b[39mfrom\u001b[39;00m \u001b[39mpandas\u001b[39;00m\u001b[39m.\u001b[39;00m\u001b[39mio\u001b[39;00m\u001b[39m.\u001b[39;00m\u001b[39mformats\u001b[39;00m\u001b[39m.\u001b[39;00m\u001b[39mstyle\u001b[39;00m \u001b[39mimport\u001b[39;00m Styler\n\u001b[1;32m   1340\u001b[0m     \u001b[39mreturn\u001b[39;00m Styler(\u001b[39mself\u001b[39m)\n",
      "File \u001b[0;32m~/.virtualenvs/semantic-search/lib/python3.11/site-packages/pandas/io/formats/style.py:44\u001b[0m\n\u001b[1;32m     40\u001b[0m \u001b[39mfrom\u001b[39;00m \u001b[39mpandas\u001b[39;00m\u001b[39m.\u001b[39;00m\u001b[39mcore\u001b[39;00m\u001b[39m.\u001b[39;00m\u001b[39mshared_docs\u001b[39;00m \u001b[39mimport\u001b[39;00m _shared_docs\n\u001b[1;32m     42\u001b[0m \u001b[39mfrom\u001b[39;00m \u001b[39mpandas\u001b[39;00m\u001b[39m.\u001b[39;00m\u001b[39mio\u001b[39;00m\u001b[39m.\u001b[39;00m\u001b[39mformats\u001b[39;00m\u001b[39m.\u001b[39;00m\u001b[39mformat\u001b[39;00m \u001b[39mimport\u001b[39;00m save_to_buffer\n\u001b[0;32m---> 44\u001b[0m jinja2 \u001b[39m=\u001b[39m import_optional_dependency(\u001b[39m\"\u001b[39;49m\u001b[39mjinja2\u001b[39;49m\u001b[39m\"\u001b[39;49m, extra\u001b[39m=\u001b[39;49m\u001b[39m\"\u001b[39;49m\u001b[39mDataFrame.style requires jinja2.\u001b[39;49m\u001b[39m\"\u001b[39;49m)\n\u001b[1;32m     46\u001b[0m \u001b[39mfrom\u001b[39;00m \u001b[39mpandas\u001b[39;00m\u001b[39m.\u001b[39;00m\u001b[39mio\u001b[39;00m\u001b[39m.\u001b[39;00m\u001b[39mformats\u001b[39;00m\u001b[39m.\u001b[39;00m\u001b[39mstyle_render\u001b[39;00m \u001b[39mimport\u001b[39;00m (\n\u001b[1;32m     47\u001b[0m     CSSProperties,\n\u001b[1;32m     48\u001b[0m     CSSStyles,\n\u001b[0;32m   (...)\u001b[0m\n\u001b[1;32m     56\u001b[0m     refactor_levels,\n\u001b[1;32m     57\u001b[0m )\n\u001b[1;32m     59\u001b[0m \u001b[39mif\u001b[39;00m TYPE_CHECKING:\n",
      "File \u001b[0;32m~/.virtualenvs/semantic-search/lib/python3.11/site-packages/pandas/compat/_optional.py:135\u001b[0m, in \u001b[0;36mimport_optional_dependency\u001b[0;34m(name, extra, errors, min_version)\u001b[0m\n\u001b[1;32m    133\u001b[0m \u001b[39mexcept\u001b[39;00m \u001b[39mImportError\u001b[39;00m:\n\u001b[1;32m    134\u001b[0m     \u001b[39mif\u001b[39;00m errors \u001b[39m==\u001b[39m \u001b[39m\"\u001b[39m\u001b[39mraise\u001b[39m\u001b[39m\"\u001b[39m:\n\u001b[0;32m--> 135\u001b[0m         \u001b[39mraise\u001b[39;00m \u001b[39mImportError\u001b[39;00m(msg)\n\u001b[1;32m    136\u001b[0m     \u001b[39mreturn\u001b[39;00m \u001b[39mNone\u001b[39;00m\n\u001b[1;32m    138\u001b[0m \u001b[39m# Handle submodules: if we have submodule, grab parent module from sys.modules\u001b[39;00m\n",
      "\u001b[0;31mImportError\u001b[0m: Missing optional dependency 'Jinja2'. DataFrame.style requires jinja2. Use pip or conda to install Jinja2."
     ]
    }
   ],
   "source": [
    "# Display Query\n",
    "pattern = '%B %d, %Y %H:%M'\n",
    "display(HTML(\"<h3>Query</h3>\"))\n",
    "print(query)\n",
    "print(f\"{start.strftime(pattern)} - {end.strftime(pattern)}\")\n",
    "\n",
    "# Display Summaries of Results\n",
    "n = 25\n",
    "display(HTML(\"<h3>Summary of results</h3>\"))\n",
    "print(f\"Found {count} articles\\n\")\n",
    "display(pd.DataFrame(sources).head(n).style.set_caption(f\"Top {n} sources\"))\n",
    "display(pd.DataFrame(tlds).head(n).style.set_caption(f\"Top {n} tlds\"))"
   ]
  },
  {
   "cell_type": "code",
   "execution_count": 20,
   "metadata": {},
   "outputs": [
    {
     "name": "stdout",
     "output_type": "stream",
     "text": [
      "all_articles endpoint: 3151 articles\n",
      "count endpoint: 3151 articles\n"
     ]
    }
   ],
   "source": [
    "articles = []\n",
    "for list_of_articles in article_generator:\n",
    "    articles += list_of_articles    \n",
    "\n",
    "print(f\"all_articles endpoint: {len(articles)} articles\")\n",
    "print(f\"count endpoint: {count} articles\")"
   ]
  },
  {
   "cell_type": "code",
   "execution_count": 22,
   "metadata": {},
   "outputs": [
    {
     "data": {
      "text/html": [
       "<div>\n",
       "<style scoped>\n",
       "    .dataframe tbody tr th:only-of-type {\n",
       "        vertical-align: middle;\n",
       "    }\n",
       "\n",
       "    .dataframe tbody tr th {\n",
       "        vertical-align: top;\n",
       "    }\n",
       "\n",
       "    .dataframe thead th {\n",
       "        text-align: right;\n",
       "    }\n",
       "</style>\n",
       "<table border=\"1\" class=\"dataframe\">\n",
       "  <thead>\n",
       "    <tr style=\"text-align: right;\">\n",
       "      <th></th>\n",
       "      <th>title</th>\n",
       "      <th>publication_date</th>\n",
       "      <th>capture_time</th>\n",
       "      <th>language</th>\n",
       "      <th>domain</th>\n",
       "      <th>url</th>\n",
       "      <th>original_capture_url</th>\n",
       "      <th>archive_playback_url</th>\n",
       "      <th>article_url</th>\n",
       "    </tr>\n",
       "  </thead>\n",
       "  <tbody>\n",
       "    <tr>\n",
       "      <th>2737</th>\n",
       "      <td>Biden Mourns With Lewiston After Mass Shooting...</td>\n",
       "      <td>2023-11-03</td>\n",
       "      <td>2023-11-04T04:40:34Z</td>\n",
       "      <td>en</td>\n",
       "      <td>nytimes.com</td>\n",
       "      <td>https://www.nytimes.com/2023/11/03/us/politics...</td>\n",
       "      <td>https://web.archive.org/web/20231104044034id_/...</td>\n",
       "      <td>https://web.archive.org/web/20231104044034/htt...</td>\n",
       "      <td>https://wayback-api.archive.org/colsearch/v1/m...</td>\n",
       "    </tr>\n",
       "    <tr>\n",
       "      <th>2735</th>\n",
       "      <td>Murder Victim’s Daughter Helps Clear Brooklyn ...</td>\n",
       "      <td>2023-11-03</td>\n",
       "      <td>2023-11-04T03:38:55Z</td>\n",
       "      <td>en</td>\n",
       "      <td>nytimes.com</td>\n",
       "      <td>https://www.nytimes.com/2023/11/03/nyregion/br...</td>\n",
       "      <td>https://web.archive.org/web/20231104033855id_/...</td>\n",
       "      <td>https://web.archive.org/web/20231104033855/htt...</td>\n",
       "      <td>https://wayback-api.archive.org/colsearch/v1/m...</td>\n",
       "    </tr>\n",
       "    <tr>\n",
       "      <th>325</th>\n",
       "      <td>Biden mourns the loss of \"18 precious souls\" i...</td>\n",
       "      <td>2023-11-03</td>\n",
       "      <td>2023-11-04T04:42:18Z</td>\n",
       "      <td>en</td>\n",
       "      <td>cbsnews.com</td>\n",
       "      <td>https://www.cbsnews.com/live-updates/joe-biden...</td>\n",
       "      <td>https://web.archive.org/web/20231104044218id_/...</td>\n",
       "      <td>https://web.archive.org/web/20231104044218/htt...</td>\n",
       "      <td>https://wayback-api.archive.org/colsearch/v1/m...</td>\n",
       "    </tr>\n",
       "    <tr>\n",
       "      <th>1943</th>\n",
       "      <td>WI sheriff’s deputy fatally shoots armed fugit...</td>\n",
       "      <td>2023-11-03</td>\n",
       "      <td>2023-11-04T02:10:47Z</td>\n",
       "      <td>en</td>\n",
       "      <td>foxnews.com</td>\n",
       "      <td>https://www.foxnews.com/us/wi-sheriffs-deputy-...</td>\n",
       "      <td>https://web.archive.org/web/20231104021047id_/...</td>\n",
       "      <td>https://web.archive.org/web/20231104021047/htt...</td>\n",
       "      <td>https://wayback-api.archive.org/colsearch/v1/m...</td>\n",
       "    </tr>\n",
       "    <tr>\n",
       "      <th>1953</th>\n",
       "      <td>2 dead, 1 injured in Mexico City-area graveyar...</td>\n",
       "      <td>2023-11-03</td>\n",
       "      <td>2023-11-04T02:21:01Z</td>\n",
       "      <td>en</td>\n",
       "      <td>foxnews.com</td>\n",
       "      <td>https://www.foxnews.com/world/2-dead-1-injured...</td>\n",
       "      <td>https://web.archive.org/web/20231104022101id_/...</td>\n",
       "      <td>https://web.archive.org/web/20231104022101/htt...</td>\n",
       "      <td>https://wayback-api.archive.org/colsearch/v1/m...</td>\n",
       "    </tr>\n",
       "    <tr>\n",
       "      <th>...</th>\n",
       "      <td>...</td>\n",
       "      <td>...</td>\n",
       "      <td>...</td>\n",
       "      <td>...</td>\n",
       "      <td>...</td>\n",
       "      <td>...</td>\n",
       "      <td>...</td>\n",
       "      <td>...</td>\n",
       "      <td>...</td>\n",
       "    </tr>\n",
       "    <tr>\n",
       "      <th>570</th>\n",
       "      <td>Woman injured in Miami Gardens shooting</td>\n",
       "      <td>2023-08-24</td>\n",
       "      <td>2023-08-26T07:04:35Z</td>\n",
       "      <td>en</td>\n",
       "      <td>cbsnews.com</td>\n",
       "      <td>https://www.cbsnews.com/miami/video/woman-inju...</td>\n",
       "      <td>https://web.archive.org/web/20230826070435id_/...</td>\n",
       "      <td>https://web.archive.org/web/20230826070435/htt...</td>\n",
       "      <td>https://wayback-api.archive.org/colsearch/v1/m...</td>\n",
       "    </tr>\n",
       "    <tr>\n",
       "      <th>590</th>\n",
       "      <td>Dispatcher fatally shot in Arkansas ambulance ...</td>\n",
       "      <td>2023-08-24</td>\n",
       "      <td>2023-08-26T05:59:57Z</td>\n",
       "      <td>en</td>\n",
       "      <td>cbsnews.com</td>\n",
       "      <td>https://www.cbsnews.com/news/cassandra-pena-ro...</td>\n",
       "      <td>https://web.archive.org/web/20230826055957id_/...</td>\n",
       "      <td>https://web.archive.org/web/20230826055957/htt...</td>\n",
       "      <td>https://wayback-api.archive.org/colsearch/v1/m...</td>\n",
       "    </tr>\n",
       "    <tr>\n",
       "      <th>593</th>\n",
       "      <td>Colorado father killed after confronting alleg...</td>\n",
       "      <td>2023-08-24</td>\n",
       "      <td>2023-08-26T06:11:35Z</td>\n",
       "      <td>en</td>\n",
       "      <td>cbsnews.com</td>\n",
       "      <td>https://www.cbsnews.com/news/colorado-father-k...</td>\n",
       "      <td>https://web.archive.org/web/20230826061135id_/...</td>\n",
       "      <td>https://web.archive.org/web/20230826061135/htt...</td>\n",
       "      <td>https://wayback-api.archive.org/colsearch/v1/m...</td>\n",
       "    </tr>\n",
       "    <tr>\n",
       "      <th>1894</th>\n",
       "      <td>Texas man who shot at apartment burglary suspe...</td>\n",
       "      <td>2023-08-24</td>\n",
       "      <td>2023-08-26T06:57:03Z</td>\n",
       "      <td>en</td>\n",
       "      <td>foxnews.com</td>\n",
       "      <td>https://www.foxnews.com/us/texas-man-shot-apar...</td>\n",
       "      <td>https://web.archive.org/web/20230826065703id_/...</td>\n",
       "      <td>https://web.archive.org/web/20230826065703/htt...</td>\n",
       "      <td>https://wayback-api.archive.org/colsearch/v1/m...</td>\n",
       "    </tr>\n",
       "    <tr>\n",
       "      <th>0</th>\n",
       "      <td>3 Dead at CA Bar After Former Cop Opens Fire o...</td>\n",
       "      <td>2023-08-24</td>\n",
       "      <td>2023-08-26T07:02:30Z</td>\n",
       "      <td>en</td>\n",
       "      <td>breitbart.com</td>\n",
       "      <td>https://www.breitbart.com/2nd-amendment/2023/0...</td>\n",
       "      <td>https://web.archive.org/web/20230826070230id_/...</td>\n",
       "      <td>https://web.archive.org/web/20230826070230/htt...</td>\n",
       "      <td>https://wayback-api.archive.org/colsearch/v1/m...</td>\n",
       "    </tr>\n",
       "  </tbody>\n",
       "</table>\n",
       "<p>3151 rows × 9 columns</p>\n",
       "</div>"
      ],
      "text/plain": [
       "                                                  title publication_date  \\\n",
       "2737  Biden Mourns With Lewiston After Mass Shooting...       2023-11-03   \n",
       "2735  Murder Victim’s Daughter Helps Clear Brooklyn ...       2023-11-03   \n",
       "325   Biden mourns the loss of \"18 precious souls\" i...       2023-11-03   \n",
       "1943  WI sheriff’s deputy fatally shoots armed fugit...       2023-11-03   \n",
       "1953  2 dead, 1 injured in Mexico City-area graveyar...       2023-11-03   \n",
       "...                                                 ...              ...   \n",
       "570             Woman injured in Miami Gardens shooting       2023-08-24   \n",
       "590   Dispatcher fatally shot in Arkansas ambulance ...       2023-08-24   \n",
       "593   Colorado father killed after confronting alleg...       2023-08-24   \n",
       "1894  Texas man who shot at apartment burglary suspe...       2023-08-24   \n",
       "0     3 Dead at CA Bar After Former Cop Opens Fire o...       2023-08-24   \n",
       "\n",
       "              capture_time language         domain  \\\n",
       "2737  2023-11-04T04:40:34Z       en    nytimes.com   \n",
       "2735  2023-11-04T03:38:55Z       en    nytimes.com   \n",
       "325   2023-11-04T04:42:18Z       en    cbsnews.com   \n",
       "1943  2023-11-04T02:10:47Z       en    foxnews.com   \n",
       "1953  2023-11-04T02:21:01Z       en    foxnews.com   \n",
       "...                    ...      ...            ...   \n",
       "570   2023-08-26T07:04:35Z       en    cbsnews.com   \n",
       "590   2023-08-26T05:59:57Z       en    cbsnews.com   \n",
       "593   2023-08-26T06:11:35Z       en    cbsnews.com   \n",
       "1894  2023-08-26T06:57:03Z       en    foxnews.com   \n",
       "0     2023-08-26T07:02:30Z       en  breitbart.com   \n",
       "\n",
       "                                                    url  \\\n",
       "2737  https://www.nytimes.com/2023/11/03/us/politics...   \n",
       "2735  https://www.nytimes.com/2023/11/03/nyregion/br...   \n",
       "325   https://www.cbsnews.com/live-updates/joe-biden...   \n",
       "1943  https://www.foxnews.com/us/wi-sheriffs-deputy-...   \n",
       "1953  https://www.foxnews.com/world/2-dead-1-injured...   \n",
       "...                                                 ...   \n",
       "570   https://www.cbsnews.com/miami/video/woman-inju...   \n",
       "590   https://www.cbsnews.com/news/cassandra-pena-ro...   \n",
       "593   https://www.cbsnews.com/news/colorado-father-k...   \n",
       "1894  https://www.foxnews.com/us/texas-man-shot-apar...   \n",
       "0     https://www.breitbart.com/2nd-amendment/2023/0...   \n",
       "\n",
       "                                   original_capture_url  \\\n",
       "2737  https://web.archive.org/web/20231104044034id_/...   \n",
       "2735  https://web.archive.org/web/20231104033855id_/...   \n",
       "325   https://web.archive.org/web/20231104044218id_/...   \n",
       "1943  https://web.archive.org/web/20231104021047id_/...   \n",
       "1953  https://web.archive.org/web/20231104022101id_/...   \n",
       "...                                                 ...   \n",
       "570   https://web.archive.org/web/20230826070435id_/...   \n",
       "590   https://web.archive.org/web/20230826055957id_/...   \n",
       "593   https://web.archive.org/web/20230826061135id_/...   \n",
       "1894  https://web.archive.org/web/20230826065703id_/...   \n",
       "0     https://web.archive.org/web/20230826070230id_/...   \n",
       "\n",
       "                                   archive_playback_url  \\\n",
       "2737  https://web.archive.org/web/20231104044034/htt...   \n",
       "2735  https://web.archive.org/web/20231104033855/htt...   \n",
       "325   https://web.archive.org/web/20231104044218/htt...   \n",
       "1943  https://web.archive.org/web/20231104021047/htt...   \n",
       "1953  https://web.archive.org/web/20231104022101/htt...   \n",
       "...                                                 ...   \n",
       "570   https://web.archive.org/web/20230826070435/htt...   \n",
       "590   https://web.archive.org/web/20230826055957/htt...   \n",
       "593   https://web.archive.org/web/20230826061135/htt...   \n",
       "1894  https://web.archive.org/web/20230826065703/htt...   \n",
       "0     https://web.archive.org/web/20230826070230/htt...   \n",
       "\n",
       "                                            article_url  \n",
       "2737  https://wayback-api.archive.org/colsearch/v1/m...  \n",
       "2735  https://wayback-api.archive.org/colsearch/v1/m...  \n",
       "325   https://wayback-api.archive.org/colsearch/v1/m...  \n",
       "1943  https://wayback-api.archive.org/colsearch/v1/m...  \n",
       "1953  https://wayback-api.archive.org/colsearch/v1/m...  \n",
       "...                                                 ...  \n",
       "570   https://wayback-api.archive.org/colsearch/v1/m...  \n",
       "590   https://wayback-api.archive.org/colsearch/v1/m...  \n",
       "593   https://wayback-api.archive.org/colsearch/v1/m...  \n",
       "1894  https://wayback-api.archive.org/colsearch/v1/m...  \n",
       "0     https://wayback-api.archive.org/colsearch/v1/m...  \n",
       "\n",
       "[3151 rows x 9 columns]"
      ]
     },
     "execution_count": 22,
     "metadata": {},
     "output_type": "execute_result"
    }
   ],
   "source": [
    "stories = pd.DataFrame(articles)\\\n",
    "        .sort_values(by='publication_date', ascending=False)\n",
    "\n",
    "stories.to_csv('data_storage/stories_df.csv', index=False)\n",
    "\n",
    "stories"
   ]
  }
 ],
 "metadata": {
  "kernelspec": {
   "display_name": "semantic-search",
   "language": "python",
   "name": "python3"
  },
  "language_info": {
   "codemirror_mode": {
    "name": "ipython",
    "version": 3
   },
   "file_extension": ".py",
   "mimetype": "text/x-python",
   "name": "python",
   "nbconvert_exporter": "python",
   "pygments_lexer": "ipython3",
   "version": "3.11.5"
  }
 },
 "nbformat": 4,
 "nbformat_minor": 2
}
