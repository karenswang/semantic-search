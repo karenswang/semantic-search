{
 "cells": [
  {
   "cell_type": "code",
   "execution_count": 15,
   "metadata": {},
   "outputs": [],
   "source": [
    "from waybacknews.searchapi import SearchApiClient\n",
    "from datetime import datetime\n",
    "import pandas as pd\n",
    "import requests\n",
    "from retrying import retry\n",
    "import requests_cache\n",
    "from tqdm import tqdm\n",
    "import mediacloud.api\n",
    "from newspaper import Article\n",
    "# import unicodedata\n",
    "import concurrent.futures"
   ]
  },
  {
   "cell_type": "code",
   "execution_count": 16,
   "metadata": {},
   "outputs": [],
   "source": [
    "collection_id = \"38379429\"\n",
    "directory_api = mediacloud.api.DirectoryApi(auth_token='e85cce24da8b73eaa05329d258146c044ef055db')\n",
    "api = SearchApiClient(\"mediacloud\")"
   ]
  },
  {
   "cell_type": "code",
   "execution_count": 17,
   "metadata": {},
   "outputs": [],
   "source": [
    "# Function to split the domain list into chunks\n",
    "def split_into_chunks(domains, chunk_size):\n",
    "    for i in range(0, len(domains), chunk_size):\n",
    "        yield domains[i:i + chunk_size]\n"
   ]
  },
  {
   "cell_type": "code",
   "execution_count": 18,
   "metadata": {},
   "outputs": [
    {
     "name": "stdout",
     "output_type": "stream",
     "text": [
      "Number of sources: 8913\n"
     ]
    }
   ],
   "source": [
    "all_domains = []\n",
    "# Pagination setup\n",
    "offset = 0\n",
    "limit = 100  # seems to have a 100 limit\n",
    "more_pages = True\n",
    "\n",
    "while more_pages:\n",
    "    # Fetch sources with current offset\n",
    "    sources_response = directory_api.source_list(collection_id=collection_id, limit=limit, offset=offset)\n",
    "    sources = sources_response.get('results', [])\n",
    "    domains = [source['homepage'] for source in sources]\n",
    "    all_domains.extend(domains)\n",
    "    \n",
    "    # Update the offset\n",
    "    offset += limit\n",
    "    \n",
    "    # Check if there are more pages to fetch\n",
    "    more_pages = len(sources) == limit\n",
    "\n",
    "# Cleaning up domains\n",
    "cleaned_domains = [\n",
    "    domain.replace('https://www.', '').replace('http://www.', '').replace('https://','').replace('http://','').rstrip('/')\n",
    "    for domain in all_domains\n",
    "    if domain  # Ensure the domain is not None or empty\n",
    "]\n",
    "print(f\"Number of sources: {len(cleaned_domains)}\")"
   ]
  },
  {
   "cell_type": "code",
   "execution_count": 21,
   "metadata": {},
   "outputs": [
    {
     "name": "stdout",
     "output_type": "stream",
     "text": [
      "all_articles endpoint: 622 articles\n",
      "all_articles endpoint: 261 articles\n",
      "all_articles endpoint: 67 articles\n",
      "all_articles endpoint: 15 articles\n",
      "all_articles endpoint: 34 articles\n",
      "all_articles endpoint: 25 articles\n",
      "all_articles endpoint: 14 articles\n",
      "all_articles endpoint: 14 articles\n",
      "all_articles endpoint: 2 articles\n",
      "                                                 title publication_date  \\\n",
      "256  Antioch: Man wanted for homicide is shot by po...       2023-10-01   \n",
      "112  Antioch: Man wanted for homicide is shot by po...       2023-10-01   \n",
      "328  1 killed in police shooting at Pa. traffic sto...       2023-10-01   \n",
      "417  St. Louis police shoot man who threatened rela...       2023-10-01   \n",
      "173  Demonstrators call for justice after deadly po...       2023-10-01   \n",
      "\n",
      "             capture_time language            domain  \\\n",
      "256  2023-10-03T11:47:16Z       en   mercurynews.com   \n",
      "112  2023-10-03T13:10:17Z       en  eastbaytimes.com   \n",
      "328  2023-10-13T01:29:15Z       en      pennlive.com   \n",
      "417  2023-10-08T19:59:04Z       en      stltoday.com   \n",
      "173  2023-10-03T04:00:43Z       en          ktla.com   \n",
      "\n",
      "                                                   url  \\\n",
      "256  https://www.mercurynews.com/2023/10/01/antioch...   \n",
      "112  https://www.eastbaytimes.com/2023/10/01/antioc...   \n",
      "328  https://www.pennlive.com/news/2023/10/1-killed...   \n",
      "417  https://www.stltoday.com/news/local/crime-cour...   \n",
      "173  https://ktla.com/news/local-news/demonstrators...   \n",
      "\n",
      "                                  original_capture_url  \\\n",
      "256  https://web.archive.org/web/20231003114716id_/...   \n",
      "112  https://web.archive.org/web/20231003131017id_/...   \n",
      "328  https://web.archive.org/web/20231013012915id_/...   \n",
      "417  https://web.archive.org/web/20231008195904id_/...   \n",
      "173  https://web.archive.org/web/20231003040043id_/...   \n",
      "\n",
      "                                  archive_playback_url  \\\n",
      "256  https://web.archive.org/web/20231003114716/htt...   \n",
      "112  https://web.archive.org/web/20231003131017/htt...   \n",
      "328  https://web.archive.org/web/20231013012915/htt...   \n",
      "417  https://web.archive.org/web/20231008195904/htt...   \n",
      "173  https://web.archive.org/web/20231003040043/htt...   \n",
      "\n",
      "                                           article_url  \n",
      "256  https://wayback-api.archive.org/colsearch/v1/m...  \n",
      "112  https://wayback-api.archive.org/colsearch/v1/m...  \n",
      "328  https://wayback-api.archive.org/colsearch/v1/m...  \n",
      "417  https://wayback-api.archive.org/colsearch/v1/m...  \n",
      "173  https://wayback-api.archive.org/colsearch/v1/m...  \n"
     ]
    }
   ],
   "source": [
    "domain_chunks = list(split_into_chunks(cleaned_domains, 1000))\n",
    "\n",
    "# sources_response = directory_api.source_list(collection_id=collection_id)\n",
    "# domains = [source['homepage'] for source in sources_response['results']]\n",
    "# num_sources = len(sources_response['results'])\n",
    "# print(f\"Number of sources: {num_sources}\")\n",
    "\n",
    "# cleaned_domains = [domain.replace('https://www.', '').replace('http://www.', '').replace('https://','').replace('http://','') for domain in domains]\n",
    "# cleaned_domains = [url.rstrip('/') for url in cleaned_domains]\n",
    "# print(cleaned_domains)\n",
    "\n",
    "# Enable requests cache\n",
    "requests_cache.install_cache('article_cache', backend='filesystem', expire_after=3600)\n",
    "\n",
    "\n",
    "# Query parameters\n",
    "query_term = '(\"police shooting\" OR \"shot by police\" OR \"police shot\" OR \"officer-involved shooting\" OR \"police-involved shooting\" OR \"police officer shooting\" OR \"police shot\" OR \"officer shot\")'\n",
    "# query_term = '(\"police shooting\" OR \"shot by police\" OR \"police shot\" OR \"officer-involved shooting\" OR \"police-involved shooting\" OR \"police officer shooting\" OR \"police shot\" OR \"officer shot\" OR \"deputy shot\" OR \"sheriff shot\" OR \"cop shot\")'\n",
    "# query_term = 'police AND shot'\n",
    "start = datetime(2023, 9, 1) #11/6 - 11/15\n",
    "end = datetime(2023, 10, 1) \n",
    "language = \"en\"\n",
    "\n",
    "# DataFrame to store combined results\n",
    "combined_results = pd.DataFrame()\n",
    "results_list = []\n",
    "\n",
    "for chunk in domain_chunks:\n",
    "    domains_str = f\"domain:({' OR '.join(chunk)})\"\n",
    "    query = f\"{query_term} AND language:{language} AND {domains_str}\"\n",
    "    \n",
    "    # Perform the search with the current chunk\n",
    "    articles = []\n",
    "    for list_of_articles in api.all_articles(query, start, end):\n",
    "        articles.extend(list_of_articles)\n",
    "        print(f\"all_articles endpoint: {len(articles)} articles\")\n",
    "    \n",
    "    if articles:\n",
    "        chunk_results = pd.DataFrame(articles)\n",
    "        results_list.append(chunk_results)\n",
    "    \n",
    "\n",
    "# Concatenate all DataFrames in the list\n",
    "combined_results = pd.concat(results_list, ignore_index=True)\n",
    "combined_results.sort_values(by='publication_date', ascending=False, inplace=True)\n",
    "print(combined_results.head())\n"
   ]
  },
  {
   "cell_type": "code",
   "execution_count": 22,
   "metadata": {},
   "outputs": [
    {
     "data": {
      "text/plain": [
       "(1054, 9)"
      ]
     },
     "execution_count": 22,
     "metadata": {},
     "output_type": "execute_result"
    }
   ],
   "source": [
    "combined_results.shape"
   ]
  },
  {
   "cell_type": "code",
   "execution_count": 23,
   "metadata": {},
   "outputs": [],
   "source": [
    "def get_snippet_from_newspaper3k(url):\n",
    "    extracted_article = Article(url)\n",
    "    extracted_article.download()\n",
    "    extracted_article.parse()\n",
    "    return extracted_article.text\n",
    "\n",
    "def get_snippet_from_wayback_machine(url):\n",
    "    response = requests.get(url)\n",
    "    response.raise_for_status()\n",
    "    snippet = response.json().get('snippet', '')\n",
    "    # return response.text \n",
    "    return snippet\n",
    "\n",
    "def fetch_snippet(article_url, wayback_url):\n",
    "    with concurrent.futures.ThreadPoolExecutor(max_workers=2) as executor:\n",
    "        future_to_method = {\n",
    "            executor.submit(get_snippet_from_newspaper3k, article_url): 'newspaper3k',\n",
    "            executor.submit(get_snippet_from_wayback_machine, wayback_url): 'wayback'\n",
    "        }\n",
    "        for future in concurrent.futures.as_completed(future_to_method):\n",
    "            method = future_to_method[future]\n",
    "            try:\n",
    "                data = future.result()\n",
    "                return data, method\n",
    "            except Exception as exc:\n",
    "                print(f\"{method} method failed with exception: {exc}\")\n",
    "\n",
    "\n",
    "def sanitize_snippet(snippet):\n",
    "    sanitized_snippet = snippet.replace('\\n', ' ').replace('\\r', '').strip()\n",
    "    # Normalize Unicode characters\n",
    "    # normalized_snippet = unicodedata.normalize('NFKD', sanitized_snippet)\n",
    "    return sanitized_snippet"
   ]
  },
  {
   "cell_type": "code",
   "execution_count": 24,
   "metadata": {},
   "outputs": [
    {
     "name": "stderr",
     "output_type": "stream",
     "text": [
      "  0%|          | 1/1054 [00:09<2:38:28,  9.03s/it]"
     ]
    },
    {
     "name": "stdout",
     "output_type": "stream",
     "text": [
      "Snippet fetched using newspaper3k method for URL: https://www.mercurynews.com/2023/10/01/antioch-man-wanted-for-homicide-earlier-this-year-shot-by-police-during-pursuit/\n"
     ]
    },
    {
     "name": "stderr",
     "output_type": "stream",
     "text": [
      "  0%|          | 2/1054 [00:25<3:59:23, 13.65s/it]"
     ]
    },
    {
     "name": "stdout",
     "output_type": "stream",
     "text": [
      "Snippet fetched using newspaper3k method for URL: https://www.eastbaytimes.com/2023/10/01/antioch-man-wanted-for-homicide-earlier-this-year-shot-by-police-during-pursuit/\n"
     ]
    },
    {
     "name": "stderr",
     "output_type": "stream",
     "text": [
      "  0%|          | 3/1054 [00:26<2:16:54,  7.82s/it]"
     ]
    },
    {
     "name": "stdout",
     "output_type": "stream",
     "text": [
      "Snippet fetched using wayback method for URL: https://www.pennlive.com/news/2023/10/1-killed-in-police-shooting-at-pa-traffic-stop-reports.html\n"
     ]
    },
    {
     "name": "stderr",
     "output_type": "stream",
     "text": [
      "  0%|          | 4/1054 [00:27<1:27:53,  5.02s/it]"
     ]
    },
    {
     "name": "stdout",
     "output_type": "stream",
     "text": [
      "Snippet fetched using wayback method for URL: https://www.stltoday.com/news/local/crime-courts/st-louis-police-shoot-man-who-threatened-relatives-with-gun-shot-at-officers-police-say/article_15c7fc48-5fa7-11ee-96ab-77443b13065e.html\n"
     ]
    },
    {
     "name": "stderr",
     "output_type": "stream",
     "text": [
      "  0%|          | 5/1054 [00:28<1:04:57,  3.72s/it]"
     ]
    },
    {
     "name": "stdout",
     "output_type": "stream",
     "text": [
      "Snippet fetched using wayback method for URL: https://ktla.com/news/local-news/demonstrators-call-for-justice-after-deadly-police-shooting-in-south-l-a/\n"
     ]
    },
    {
     "name": "stderr",
     "output_type": "stream",
     "text": [
      "  1%|          | 6/1054 [00:29<44:22,  2.54s/it]  "
     ]
    },
    {
     "name": "stdout",
     "output_type": "stream",
     "text": [
      "Snippet fetched using newspaper3k method for URL: https://www.newsday.com/long-island/whitney-pond-park-manhasset-daniels-law-mszq6hcp\n"
     ]
    },
    {
     "name": "stderr",
     "output_type": "stream",
     "text": [
      "  1%|          | 7/1054 [00:41<1:41:24,  5.81s/it]"
     ]
    },
    {
     "name": "stdout",
     "output_type": "stream",
     "text": [
      "Snippet fetched using newspaper3k method for URL: https://www.campustimes.org/2023/10/01/penis/\n"
     ]
    },
    {
     "name": "stderr",
     "output_type": "stream",
     "text": [
      "  1%|          | 8/1054 [00:59<2:45:01,  9.47s/it]"
     ]
    },
    {
     "name": "stdout",
     "output_type": "stream",
     "text": [
      "Snippet fetched using newspaper3k method for URL: https://www.kron4.com/news/bay-area/homicide-suspect-shot-by-antioch-police-taken-to-hospital/\n"
     ]
    },
    {
     "name": "stderr",
     "output_type": "stream",
     "text": [
      "  1%|          | 9/1054 [00:59<1:57:05,  6.72s/it]"
     ]
    },
    {
     "name": "stdout",
     "output_type": "stream",
     "text": [
      "Snippet fetched using wayback method for URL: https://www.wbbjtv.com/2023/10/01/tbi-investigating-officer-involved-shooting-in-hamilton-co/\n"
     ]
    },
    {
     "name": "stderr",
     "output_type": "stream",
     "text": [
      "  1%|          | 10/1054 [01:00<1:24:20,  4.85s/it]"
     ]
    },
    {
     "name": "stdout",
     "output_type": "stream",
     "text": [
      "Snippet fetched using wayback method for URL: https://www.clickondetroit.com/news/local/2023/10/01/detroit-police-officer-struck-by-vehicle-shoots-injures-driver/\n"
     ]
    },
    {
     "name": "stderr",
     "output_type": "stream",
     "text": [
      "  1%|          | 11/1054 [01:01<1:02:04,  3.57s/it]"
     ]
    },
    {
     "name": "stdout",
     "output_type": "stream",
     "text": [
      "Snippet fetched using wayback method for URL: https://mynewsla.com/business/2023/10/01/another-laco-das-office-employee-sues-for-retaliation/\n",
      "newspaper3k method failed with exception: Article `download()` failed with 404 Client Error: Not Found for url: https://foxwilmington.com/headlines/at-least-2-dead-2-injured-in-houston-area-family-dispute-report/ on URL https://foxwilmington.com/headlines/at-least-2-dead-2-injured-in-houston-area-family-dispute-report/\n"
     ]
    },
    {
     "name": "stderr",
     "output_type": "stream",
     "text": [
      "  1%|          | 12/1054 [01:07<1:16:48,  4.42s/it]"
     ]
    },
    {
     "name": "stdout",
     "output_type": "stream",
     "text": [
      "Snippet fetched using wayback method for URL: https://foxwilmington.com/headlines/at-least-2-dead-2-injured-in-houston-area-family-dispute-report/\n"
     ]
    },
    {
     "name": "stderr",
     "output_type": "stream",
     "text": [
      "  1%|          | 13/1054 [01:12<1:21:22,  4.69s/it]"
     ]
    },
    {
     "name": "stdout",
     "output_type": "stream",
     "text": [
      "Snippet fetched using newspaper3k method for URL: https://www.campustimes.org/2023/10/01/man-shot-by-rpd-officer-during-skirmish/\n"
     ]
    },
    {
     "name": "stderr",
     "output_type": "stream",
     "text": [
      "  1%|▏         | 14/1054 [01:15<1:10:13,  4.05s/it]"
     ]
    },
    {
     "name": "stdout",
     "output_type": "stream",
     "text": [
      "Snippet fetched using newspaper3k method for URL: https://ktvz.com/news/national-world/cnn-world/2023/09/30/one-year-on-from-stadium-disaster-that-killed-135-these-families-are-still-seeking-answers/\n"
     ]
    },
    {
     "name": "stderr",
     "output_type": "stream",
     "text": [
      "  2%|▏         | 16/1054 [01:42<2:15:46,  7.85s/it]"
     ]
    },
    {
     "name": "stdout",
     "output_type": "stream",
     "text": [
      "Snippet fetched using newspaper3k method for URL: https://republicmonews.com/2023/09/30/foot-pursuit-suspect-struck-by-officers-gunfire-in-northeast-houston-according-to-hpd/\n"
     ]
    },
    {
     "name": "stderr",
     "output_type": "stream",
     "text": [
      "  2%|▏         | 17/1054 [01:42<1:36:59,  5.61s/it]"
     ]
    },
    {
     "name": "stdout",
     "output_type": "stream",
     "text": [
      "Snippet fetched using wayback method for URL: https://ktar.com/story/5542142/police-fatally-shoot-suicidal-man-brandishing-knife-in-mesa/\n"
     ]
    },
    {
     "name": "stderr",
     "output_type": "stream",
     "text": [
      "  2%|▏         | 18/1054 [01:43<1:11:22,  4.13s/it]"
     ]
    },
    {
     "name": "stdout",
     "output_type": "stream",
     "text": [
      "Snippet fetched using wayback method for URL: https://localnews8.com/news/national-world/cnn-world/2023/09/30/one-year-on-from-stadium-disaster-that-killed-135-these-families-are-still-seeking-answers/\n"
     ]
    },
    {
     "name": "stderr",
     "output_type": "stream",
     "text": [
      "  2%|▏         | 19/1054 [01:44<53:08,  3.08s/it]  "
     ]
    },
    {
     "name": "stdout",
     "output_type": "stream",
     "text": [
      "Snippet fetched using wayback method for URL: https://abc17news.com/news/national-world/cnn-world/2023/09/30/one-year-on-from-stadium-disaster-that-killed-135-these-families-are-still-seeking-answers/\n",
      "Snippet fetched using wayback method for URL: https://ktvz.com/news/national-world/cnn-world/2023/09/30/one-year-on-from-stadium-disaster-that-killed-135-these-families-are-still-seeking-answers/\n"
     ]
    },
    {
     "name": "stderr",
     "output_type": "stream",
     "text": [
      "  2%|▏         | 21/1054 [01:44<31:42,  1.84s/it]"
     ]
    },
    {
     "name": "stdout",
     "output_type": "stream",
     "text": [
      "Snippet fetched using wayback method for URL: https://kion546.com/news/national-world/cnn-national/2023/09/29/two-former-chicago-police-officers-acquitted-of-shooting-unarmed-man/\n"
     ]
    },
    {
     "name": "stderr",
     "output_type": "stream",
     "text": [
      "  2%|▏         | 22/1054 [01:45<26:43,  1.55s/it]"
     ]
    },
    {
     "name": "stdout",
     "output_type": "stream",
     "text": [
      "Snippet fetched using wayback method for URL: https://ktvz.com/news/national-world/cnn-national/2023/09/29/two-former-chicago-police-officers-acquitted-of-shooting-unarmed-man/\n"
     ]
    },
    {
     "name": "stderr",
     "output_type": "stream",
     "text": [
      "  2%|▏         | 23/1054 [01:48<33:51,  1.97s/it]"
     ]
    },
    {
     "name": "stdout",
     "output_type": "stream",
     "text": [
      "Snippet fetched using newspaper3k method for URL: https://www.wbrz.com/news/electrical-mishap-sparks-small-grass-fire-knocks-out-power-along-college-drive/\n"
     ]
    },
    {
     "name": "stderr",
     "output_type": "stream",
     "text": [
      "  2%|▏         | 24/1054 [01:51<39:01,  2.27s/it]"
     ]
    },
    {
     "name": "stdout",
     "output_type": "stream",
     "text": [
      "Snippet fetched using newspaper3k method for URL: https://www.wbrz.com/news/ebrso-looking-for-missing-woman-with-dementia-161514/\n"
     ]
    },
    {
     "name": "stderr",
     "output_type": "stream",
     "text": [
      "  2%|▏         | 25/1054 [02:08<1:46:49,  6.23s/it]"
     ]
    },
    {
     "name": "stdout",
     "output_type": "stream",
     "text": [
      "Snippet fetched using newspaper3k method for URL: https://www.wbrz.com/news/little-brother-beating-big-brother-to-the-field-for-lsu-football/\n"
     ]
    },
    {
     "name": "stderr",
     "output_type": "stream",
     "text": [
      "  2%|▏         | 26/1054 [02:40<3:52:28, 13.57s/it]"
     ]
    },
    {
     "name": "stdout",
     "output_type": "stream",
     "text": [
      "Snippet fetched using newspaper3k method for URL: https://www.wbrz.com/news/louisiana-s-struggle-with-influx-of-salt-water-prompts-a-request-for-biden-to-declare-an-emergency/\n"
     ]
    },
    {
     "name": "stderr",
     "output_type": "stream",
     "text": [
      "  3%|▎         | 27/1054 [03:10<5:17:17, 18.54s/it]"
     ]
    },
    {
     "name": "stdout",
     "output_type": "stream",
     "text": [
      "Snippet fetched using newspaper3k method for URL: https://cbs4indy.com/news/man-dead-following-officer-involved-shooting-in-bedford/\n"
     ]
    },
    {
     "name": "stderr",
     "output_type": "stream",
     "text": [
      "  3%|▎         | 28/1054 [03:12<3:53:09, 13.64s/it]"
     ]
    },
    {
     "name": "stdout",
     "output_type": "stream",
     "text": [
      "Snippet fetched using wayback method for URL: https://cbs4indy.com/news/indycrime/2-impd-officers-indicted-after-shooting-man-who-was-sleeping-in-grandmas-driveway/\n"
     ]
    },
    {
     "name": "stderr",
     "output_type": "stream",
     "text": [
      "  3%|▎         | 29/1054 [03:13<2:47:30,  9.81s/it]"
     ]
    },
    {
     "name": "stdout",
     "output_type": "stream",
     "text": [
      "Snippet fetched using wayback method for URL: https://www.wbrz.com/news/north-korea-says-it-will-expel-the-us-soldier-who-crossed-into-the-country-in-july/\n"
     ]
    },
    {
     "name": "stderr",
     "output_type": "stream",
     "text": [
      "  3%|▎         | 30/1054 [03:13<2:01:12,  7.10s/it]"
     ]
    },
    {
     "name": "stdout",
     "output_type": "stream",
     "text": [
      "Snippet fetched using wayback method for URL: https://abc17news.com/news/national-world/cnn-national/2023/09/29/two-former-chicago-police-officers-acquitted-of-shooting-unarmed-man/\n"
     ]
    },
    {
     "name": "stderr",
     "output_type": "stream",
     "text": [
      "  3%|▎         | 31/1054 [03:14<1:28:16,  5.18s/it]"
     ]
    },
    {
     "name": "stdout",
     "output_type": "stream",
     "text": [
      "Snippet fetched using wayback method for URL: https://www.wbrz.com/news/michael-gambon-actor-who-played-prof-dumbledore-in-6-harry-potter-movies-dies-at-age-82/\n"
     ]
    },
    {
     "name": "stderr",
     "output_type": "stream",
     "text": [
      "  3%|▎         | 32/1054 [03:15<1:07:24,  3.96s/it]"
     ]
    },
    {
     "name": "stdout",
     "output_type": "stream",
     "text": [
      "Snippet fetched using newspaper3k method for URL: https://www.wbrz.com/news/team-2-traffic-i-10-wb-shut-down-before-whiskey-bay-due-to-vehicle-fire/\n"
     ]
    },
    {
     "name": "stderr",
     "output_type": "stream",
     "text": [
      "  3%|▎         | 33/1054 [03:16<50:06,  2.94s/it]  "
     ]
    },
    {
     "name": "stdout",
     "output_type": "stream",
     "text": [
      "Snippet fetched using wayback method for URL: https://indianapolisrecorder.com/two-officers-indicted-for-roles-in-shooting-of-man-sleeping-in-grandmothers-driveway/\n"
     ]
    },
    {
     "name": "stderr",
     "output_type": "stream",
     "text": [
      "  3%|▎         | 34/1054 [03:17<42:33,  2.50s/it]"
     ]
    },
    {
     "name": "stdout",
     "output_type": "stream",
     "text": [
      "Snippet fetched using newspaper3k method for URL: https://www.wbrz.com/news/state-will-allow-individual-parishes-to-opt-out-of-statewide-burn-ban/\n"
     ]
    },
    {
     "name": "stderr",
     "output_type": "stream",
     "text": [
      "  3%|▎         | 35/1054 [03:18<35:19,  2.08s/it]"
     ]
    },
    {
     "name": "stdout",
     "output_type": "stream",
     "text": [
      "Snippet fetched using newspaper3k method for URL: https://www.wbrz.com/news/what-would-a-government-shutdown-mean-for-me-snap-student-loans-and-travel-impacts-explained/\n"
     ]
    },
    {
     "name": "stderr",
     "output_type": "stream",
     "text": [
      "  3%|▎         | 36/1054 [03:19<28:01,  1.65s/it]"
     ]
    },
    {
     "name": "stdout",
     "output_type": "stream",
     "text": [
      "Snippet fetched using wayback method for URL: http://www.westsideconnect.com/news/local_news/deputy-shoots-carjacking-suspect/article_3b622d28-5f36-11ee-bedb-3f4a48282005.html\n"
     ]
    },
    {
     "name": "stderr",
     "output_type": "stream",
     "text": [
      "/Users/karenwang/.virtualenvs/semantic-search/lib/python3.11/site-packages/dateutil/parser/_parser.py:1207: UnknownTimezoneWarning: tzname CDT identified but not understood.  Pass `tzinfos` argument in order to correctly return a timezone-aware datetime.  In a future version, this will raise an exception.\n",
      "  warnings.warn(\"tzname {tzname} identified but not understood.  \"\n",
      "  4%|▎         | 37/1054 [03:21<28:19,  1.67s/it]"
     ]
    },
    {
     "name": "stdout",
     "output_type": "stream",
     "text": [
      "Snippet fetched using newspaper3k method for URL: https://www.wfaa.com/article/news/crime/dealership-customers-thursday-night-shooting-arlington/287-fb72bad4-8913-499f-a926-844121416e7d\n"
     ]
    },
    {
     "name": "stderr",
     "output_type": "stream",
     "text": [
      "  4%|▎         | 38/1054 [03:22<24:30,  1.45s/it]"
     ]
    },
    {
     "name": "stdout",
     "output_type": "stream",
     "text": [
      "Snippet fetched using newspaper3k method for URL: https://www.eastbaytimes.com/2023/09/29/martinez-police-release-body-worn-camera-footage-of-fatal-aug-18-shooting/\n"
     ]
    },
    {
     "name": "stderr",
     "output_type": "stream",
     "text": [
      "  4%|▎         | 39/1054 [03:24<28:31,  1.69s/it]"
     ]
    },
    {
     "name": "stdout",
     "output_type": "stream",
     "text": [
      "Snippet fetched using newspaper3k method for URL: https://www.eastbaytimes.com/2023/09/29/fairfield-police-officer-shot-man-brandishing-bb-gun-near-school/\n"
     ]
    },
    {
     "name": "stderr",
     "output_type": "stream",
     "text": [
      "  4%|▍         | 40/1054 [03:28<40:14,  2.38s/it]"
     ]
    },
    {
     "name": "stdout",
     "output_type": "stream",
     "text": [
      "Snippet fetched using newspaper3k method for URL: https://www.wbrz.com/news/pig-carcasses-scattered-along-mississippi-river-bridge-after-animals-fell-out-of-truck-hit-by-drivers/\n"
     ]
    },
    {
     "name": "stderr",
     "output_type": "stream",
     "text": [
      "  4%|▍         | 41/1054 [03:29<32:49,  1.94s/it]"
     ]
    },
    {
     "name": "stdout",
     "output_type": "stream",
     "text": [
      "Snippet fetched using newspaper3k method for URL: https://www.wfaa.com/article/news/local/dog-bites-fort-worth-cop-shot-kentwood-place/287-0d5e0323-c6b3-4232-a595-e0600186056b\n"
     ]
    },
    {
     "name": "stderr",
     "output_type": "stream",
     "text": [
      "  4%|▍         | 42/1054 [03:30<26:51,  1.59s/it]"
     ]
    },
    {
     "name": "stdout",
     "output_type": "stream",
     "text": [
      "Snippet fetched using newspaper3k method for URL: https://www.wfaa.com/article/news/world/mexican-migrants-killed-tecate-baja-california-mexico/269-82c920a9-0534-4aa8-9ae3-15d6db241fe1\n"
     ]
    },
    {
     "name": "stderr",
     "output_type": "stream",
     "text": [
      "  4%|▍         | 43/1054 [03:30<21:15,  1.26s/it]"
     ]
    },
    {
     "name": "stdout",
     "output_type": "stream",
     "text": [
      "Snippet fetched using wayback method for URL: https://whdh.com/news/authorities-investigating-officer-involved-shooting-in-lakeville/\n"
     ]
    },
    {
     "name": "stderr",
     "output_type": "stream",
     "text": [
      "  4%|▍         | 44/1054 [03:31<19:03,  1.13s/it]"
     ]
    },
    {
     "name": "stdout",
     "output_type": "stream",
     "text": [
      "Snippet fetched using wayback method for URL: https://www.whec.com/top-news/several-city-council-members-object-to-3-members-statement-on-shooting-involving-rpd-officer/\n"
     ]
    },
    {
     "name": "stderr",
     "output_type": "stream",
     "text": [
      "  4%|▍         | 45/1054 [03:32<21:25,  1.27s/it]"
     ]
    },
    {
     "name": "stdout",
     "output_type": "stream",
     "text": [
      "Snippet fetched using newspaper3k method for URL: https://www.wbrz.com/news/one-week-after-his-son-s-arrest-high-ranking-brpd-officer-placed-on-leave-as-feds-investigate-department/\n"
     ]
    },
    {
     "name": "stderr",
     "output_type": "stream",
     "text": [
      "  4%|▍         | 46/1054 [03:35<26:32,  1.58s/it]"
     ]
    },
    {
     "name": "stdout",
     "output_type": "stream",
     "text": [
      "Snippet fetched using wayback method for URL: https://www.wishtv.com/news/crime-watch-8/impd-ids-3-officers-in-shooting-that-killed-man-hurt-woman-outside-lucas-oil-stadium/\n"
     ]
    },
    {
     "name": "stderr",
     "output_type": "stream",
     "text": [
      "  4%|▍         | 47/1054 [03:37<29:08,  1.74s/it]"
     ]
    },
    {
     "name": "stdout",
     "output_type": "stream",
     "text": [
      "Snippet fetched using wayback method for URL: https://www.wishtv.com/news/local-news/man-dies-following-bedford-police-shooting/\n"
     ]
    },
    {
     "name": "stderr",
     "output_type": "stream",
     "text": [
      "  5%|▍         | 48/1054 [03:39<32:42,  1.95s/it]"
     ]
    },
    {
     "name": "stdout",
     "output_type": "stream",
     "text": [
      "Snippet fetched using wayback method for URL: https://www.wpri.com/news/local-news/se-mass/lakeville-police-investigating-officer-involved-shooting/\n",
      "Snippet fetched using wayback method for URL: https://ktvz.com/news/national-world/cnn-national/2023/09/29/two-former-chicago-police-officers-acquitted-of-shooting-unarmed-man/\n"
     ]
    },
    {
     "name": "stderr",
     "output_type": "stream",
     "text": [
      "  5%|▍         | 50/1054 [03:49<54:44,  3.27s/it]"
     ]
    },
    {
     "name": "stdout",
     "output_type": "stream",
     "text": [
      "Snippet fetched using newspaper3k method for URL: https://www.wtae.com/article/pittsburgh-shooting-justified-da-zappala/45375990\n"
     ]
    },
    {
     "name": "stderr",
     "output_type": "stream",
     "text": [
      "  5%|▍         | 51/1054 [04:23<3:04:22, 11.03s/it]"
     ]
    },
    {
     "name": "stdout",
     "output_type": "stream",
     "text": [
      "Snippet fetched using newspaper3k method for URL: https://www.wbrz.com/news/a-new-tropical-storm-forms-east-of-philippe-in-the-central-atlantic/\n"
     ]
    },
    {
     "name": "stderr",
     "output_type": "stream",
     "text": [
      "  5%|▍         | 52/1054 [04:24<2:18:26,  8.29s/it]"
     ]
    },
    {
     "name": "stdout",
     "output_type": "stream",
     "text": [
      "Snippet fetched using wayback method for URL: https://www.wbrz.com/news/disheartened-and-dismayed-baton-rouge-union-of-police-blasts-brpd-for-placing-deputy-chief-on-leave/\n"
     ]
    },
    {
     "name": "stderr",
     "output_type": "stream",
     "text": [
      "  5%|▌         | 53/1054 [04:25<1:43:29,  6.20s/it]"
     ]
    },
    {
     "name": "stdout",
     "output_type": "stream",
     "text": [
      "Snippet fetched using wayback method for URL: https://localnews8.com/news/national-world/cnn-national/2023/09/29/two-former-chicago-police-officers-acquitted-of-shooting-unarmed-man/\n"
     ]
    },
    {
     "name": "stderr",
     "output_type": "stream",
     "text": [
      "  5%|▌         | 54/1054 [04:27<1:24:18,  5.06s/it]"
     ]
    },
    {
     "name": "stdout",
     "output_type": "stream",
     "text": [
      "Snippet fetched using wayback method for URL: https://www.wearegreenbay.com/news/local-news/officer-involved-in-kaukauna-shooting-identified-investigation-continues/\n"
     ]
    },
    {
     "name": "stderr",
     "output_type": "stream",
     "text": [
      "  5%|▌         | 55/1054 [04:28<1:05:47,  3.95s/it]"
     ]
    },
    {
     "name": "stdout",
     "output_type": "stream",
     "text": [
      "Snippet fetched using wayback method for URL: https://www.abc6.com/man-shot-during-confrontation-with-police-in-lakeville/\n"
     ]
    },
    {
     "name": "stderr",
     "output_type": "stream",
     "text": [
      "  5%|▌         | 56/1054 [04:29<51:43,  3.11s/it]  "
     ]
    },
    {
     "name": "stdout",
     "output_type": "stream",
     "text": [
      "Snippet fetched using wayback method for URL: https://www.abc6.com/one-injured-during-early-morning-officer-involved-shooting-in-lakeville/\n"
     ]
    },
    {
     "name": "stderr",
     "output_type": "stream",
     "text": [
      "  5%|▌         | 57/1054 [04:31<45:12,  2.72s/it]"
     ]
    },
    {
     "name": "stdout",
     "output_type": "stream",
     "text": [
      "Snippet fetched using wayback method for URL: https://www.startribune.com/ruling-likely-puts-pressure-on-minneapolis-to-settle-lawsuit-by-journalists-observers-say/600308686/\n"
     ]
    },
    {
     "name": "stderr",
     "output_type": "stream",
     "text": [
      "  6%|▌         | 58/1054 [04:33<44:20,  2.67s/it]"
     ]
    },
    {
     "name": "stdout",
     "output_type": "stream",
     "text": [
      "Snippet fetched using wayback method for URL: https://www.baltimoresun.com/maryland/baltimore-city/bs-md-ci-west-lafayette-avenue-shooting-20230929-uf2osclhubb6phhr4khdlu3pq4-story.html\n",
      "newspaper3k method failed with exception: Article `download()` failed with 410 Client Error: Gone for url: https://www.sfgate.com/news/world/article/2-mexican-migrants-shot-dead-3-injured-in-dawn-18397735.php on URL https://www.sfgate.com/news/world/article/2-mexican-migrants-shot-dead-3-injured-in-dawn-18397735.php\n"
     ]
    },
    {
     "name": "stderr",
     "output_type": "stream",
     "text": [
      "  6%|▌         | 59/1054 [04:34<34:44,  2.09s/it]"
     ]
    },
    {
     "name": "stdout",
     "output_type": "stream",
     "text": [
      "Snippet fetched using wayback method for URL: https://www.sfgate.com/news/world/article/2-mexican-migrants-shot-dead-3-injured-in-dawn-18397735.php\n"
     ]
    },
    {
     "name": "stderr",
     "output_type": "stream",
     "text": [
      "  6%|▌         | 60/1054 [04:34<26:01,  1.57s/it]"
     ]
    },
    {
     "name": "stdout",
     "output_type": "stream",
     "text": [
      "Snippet fetched using wayback method for URL: https://www.seattlepi.com/news/world/article/2-mexican-migrants-shot-dead-3-injured-in-dawn-18397735.php\n"
     ]
    },
    {
     "name": "stderr",
     "output_type": "stream",
     "text": [
      "  6%|▌         | 61/1054 [04:36<26:25,  1.60s/it]"
     ]
    },
    {
     "name": "stdout",
     "output_type": "stream",
     "text": [
      "Snippet fetched using wayback method for URL: https://martinezgazette.com/update-on-martinez-officer-involved-shooting/\n"
     ]
    },
    {
     "name": "stderr",
     "output_type": "stream",
     "text": [
      "  6%|▌         | 62/1054 [04:38<27:04,  1.64s/it]"
     ]
    },
    {
     "name": "stdout",
     "output_type": "stream",
     "text": [
      "Snippet fetched using newspaper3k method for URL: https://www.local10.com/news/local/2023/09/29/officers-shoot-armed-man-in-northwest-miami-dade-police-say/\n"
     ]
    },
    {
     "name": "stderr",
     "output_type": "stream",
     "text": [
      "  6%|▌         | 63/1054 [04:38<22:14,  1.35s/it]"
     ]
    },
    {
     "name": "stdout",
     "output_type": "stream",
     "text": [
      "Snippet fetched using wayback method for URL: https://www.sandiegouniontribune.com/news/nation-world/story/2023-09-29/2-mexican-migrants-shot-dead-3-injured-in-dawn-attack-on-us-border-near-tecate-mexico\n"
     ]
    },
    {
     "name": "stderr",
     "output_type": "stream",
     "text": [
      "  6%|▌         | 64/1054 [04:39<16:56,  1.03s/it]"
     ]
    },
    {
     "name": "stdout",
     "output_type": "stream",
     "text": [
      "Snippet fetched using newspaper3k method for URL: https://nypost.com/2023/09/29/influencer-meatball-regrets-part-in-riots-family-ashamed/\n"
     ]
    },
    {
     "name": "stderr",
     "output_type": "stream",
     "text": [
      "  6%|▌         | 64/1054 [04:40<1:12:20,  4.38s/it]\n"
     ]
    },
    {
     "ename": "KeyboardInterrupt",
     "evalue": "",
     "output_type": "error",
     "traceback": [
      "\u001b[0;31m---------------------------------------------------------------------------\u001b[0m",
      "\u001b[0;31mKeyboardInterrupt\u001b[0m                         Traceback (most recent call last)",
      "\u001b[1;32m/Users/karenwang/Projects/semantic-search/data_retrieval/mediacloud_data.ipynb Cell 8\u001b[0m line \u001b[0;36m4\n\u001b[1;32m      <a href='vscode-notebook-cell:/Users/karenwang/Projects/semantic-search/data_retrieval/mediacloud_data.ipynb#W4sZmlsZQ%3D%3D?line=1'>2</a>\u001b[0m article_url \u001b[39m=\u001b[39m article[\u001b[39m'\u001b[39m\u001b[39murl\u001b[39m\u001b[39m'\u001b[39m]\n\u001b[1;32m      <a href='vscode-notebook-cell:/Users/karenwang/Projects/semantic-search/data_retrieval/mediacloud_data.ipynb#W4sZmlsZQ%3D%3D?line=2'>3</a>\u001b[0m wayback_url \u001b[39m=\u001b[39m article[\u001b[39m'\u001b[39m\u001b[39marticle_url\u001b[39m\u001b[39m'\u001b[39m]\n\u001b[0;32m----> <a href='vscode-notebook-cell:/Users/karenwang/Projects/semantic-search/data_retrieval/mediacloud_data.ipynb#W4sZmlsZQ%3D%3D?line=3'>4</a>\u001b[0m snippet, method_used \u001b[39m=\u001b[39m fetch_snippet(article_url, wayback_url)\n\u001b[1;32m      <a href='vscode-notebook-cell:/Users/karenwang/Projects/semantic-search/data_retrieval/mediacloud_data.ipynb#W4sZmlsZQ%3D%3D?line=4'>5</a>\u001b[0m \u001b[39mif\u001b[39;00m snippet:\n\u001b[1;32m      <a href='vscode-notebook-cell:/Users/karenwang/Projects/semantic-search/data_retrieval/mediacloud_data.ipynb#W4sZmlsZQ%3D%3D?line=5'>6</a>\u001b[0m     sanitized_snippet \u001b[39m=\u001b[39m sanitize_snippet(snippet)\n",
      "\u001b[1;32m/Users/karenwang/Projects/semantic-search/data_retrieval/mediacloud_data.ipynb Cell 8\u001b[0m line \u001b[0;36m2\n\u001b[1;32m     <a href='vscode-notebook-cell:/Users/karenwang/Projects/semantic-search/data_retrieval/mediacloud_data.ipynb#W4sZmlsZQ%3D%3D?line=14'>15</a>\u001b[0m \u001b[39mwith\u001b[39;00m concurrent\u001b[39m.\u001b[39mfutures\u001b[39m.\u001b[39mThreadPoolExecutor(max_workers\u001b[39m=\u001b[39m\u001b[39m2\u001b[39m) \u001b[39mas\u001b[39;00m executor:\n\u001b[1;32m     <a href='vscode-notebook-cell:/Users/karenwang/Projects/semantic-search/data_retrieval/mediacloud_data.ipynb#W4sZmlsZQ%3D%3D?line=15'>16</a>\u001b[0m     future_to_method \u001b[39m=\u001b[39m {\n\u001b[1;32m     <a href='vscode-notebook-cell:/Users/karenwang/Projects/semantic-search/data_retrieval/mediacloud_data.ipynb#W4sZmlsZQ%3D%3D?line=16'>17</a>\u001b[0m         executor\u001b[39m.\u001b[39msubmit(get_snippet_from_newspaper3k, article_url): \u001b[39m'\u001b[39m\u001b[39mnewspaper3k\u001b[39m\u001b[39m'\u001b[39m,\n\u001b[1;32m     <a href='vscode-notebook-cell:/Users/karenwang/Projects/semantic-search/data_retrieval/mediacloud_data.ipynb#W4sZmlsZQ%3D%3D?line=17'>18</a>\u001b[0m         executor\u001b[39m.\u001b[39msubmit(get_snippet_from_wayback_machine, wayback_url): \u001b[39m'\u001b[39m\u001b[39mwayback\u001b[39m\u001b[39m'\u001b[39m\n\u001b[1;32m     <a href='vscode-notebook-cell:/Users/karenwang/Projects/semantic-search/data_retrieval/mediacloud_data.ipynb#W4sZmlsZQ%3D%3D?line=18'>19</a>\u001b[0m     }\n\u001b[0;32m---> <a href='vscode-notebook-cell:/Users/karenwang/Projects/semantic-search/data_retrieval/mediacloud_data.ipynb#W4sZmlsZQ%3D%3D?line=19'>20</a>\u001b[0m     \u001b[39mfor\u001b[39;49;00m future \u001b[39min\u001b[39;49;00m concurrent\u001b[39m.\u001b[39;49mfutures\u001b[39m.\u001b[39;49mas_completed(future_to_method):\n\u001b[1;32m     <a href='vscode-notebook-cell:/Users/karenwang/Projects/semantic-search/data_retrieval/mediacloud_data.ipynb#W4sZmlsZQ%3D%3D?line=20'>21</a>\u001b[0m         method \u001b[39m=\u001b[39;49m future_to_method[future]\n\u001b[1;32m     <a href='vscode-notebook-cell:/Users/karenwang/Projects/semantic-search/data_retrieval/mediacloud_data.ipynb#W4sZmlsZQ%3D%3D?line=21'>22</a>\u001b[0m         \u001b[39mtry\u001b[39;49;00m:\n",
      "File \u001b[0;32m/opt/homebrew/Cellar/python@3.11/3.11.5/Frameworks/Python.framework/Versions/3.11/lib/python3.11/concurrent/futures/_base.py:243\u001b[0m, in \u001b[0;36mas_completed\u001b[0;34m(fs, timeout)\u001b[0m\n\u001b[1;32m    238\u001b[0m     \u001b[39mif\u001b[39;00m wait_timeout \u001b[39m<\u001b[39m \u001b[39m0\u001b[39m:\n\u001b[1;32m    239\u001b[0m         \u001b[39mraise\u001b[39;00m \u001b[39mTimeoutError\u001b[39;00m(\n\u001b[1;32m    240\u001b[0m                 \u001b[39m'\u001b[39m\u001b[39m%d\u001b[39;00m\u001b[39m (of \u001b[39m\u001b[39m%d\u001b[39;00m\u001b[39m) futures unfinished\u001b[39m\u001b[39m'\u001b[39m \u001b[39m%\u001b[39m (\n\u001b[1;32m    241\u001b[0m                 \u001b[39mlen\u001b[39m(pending), total_futures))\n\u001b[0;32m--> 243\u001b[0m waiter\u001b[39m.\u001b[39;49mevent\u001b[39m.\u001b[39;49mwait(wait_timeout)\n\u001b[1;32m    245\u001b[0m \u001b[39mwith\u001b[39;00m waiter\u001b[39m.\u001b[39mlock:\n\u001b[1;32m    246\u001b[0m     finished \u001b[39m=\u001b[39m waiter\u001b[39m.\u001b[39mfinished_futures\n",
      "File \u001b[0;32m/opt/homebrew/Cellar/python@3.11/3.11.5/Frameworks/Python.framework/Versions/3.11/lib/python3.11/threading.py:622\u001b[0m, in \u001b[0;36mEvent.wait\u001b[0;34m(self, timeout)\u001b[0m\n\u001b[1;32m    620\u001b[0m signaled \u001b[39m=\u001b[39m \u001b[39mself\u001b[39m\u001b[39m.\u001b[39m_flag\n\u001b[1;32m    621\u001b[0m \u001b[39mif\u001b[39;00m \u001b[39mnot\u001b[39;00m signaled:\n\u001b[0;32m--> 622\u001b[0m     signaled \u001b[39m=\u001b[39m \u001b[39mself\u001b[39;49m\u001b[39m.\u001b[39;49m_cond\u001b[39m.\u001b[39;49mwait(timeout)\n\u001b[1;32m    623\u001b[0m \u001b[39mreturn\u001b[39;00m signaled\n",
      "File \u001b[0;32m/opt/homebrew/Cellar/python@3.11/3.11.5/Frameworks/Python.framework/Versions/3.11/lib/python3.11/threading.py:320\u001b[0m, in \u001b[0;36mCondition.wait\u001b[0;34m(self, timeout)\u001b[0m\n\u001b[1;32m    318\u001b[0m \u001b[39mtry\u001b[39;00m:    \u001b[39m# restore state no matter what (e.g., KeyboardInterrupt)\u001b[39;00m\n\u001b[1;32m    319\u001b[0m     \u001b[39mif\u001b[39;00m timeout \u001b[39mis\u001b[39;00m \u001b[39mNone\u001b[39;00m:\n\u001b[0;32m--> 320\u001b[0m         waiter\u001b[39m.\u001b[39;49macquire()\n\u001b[1;32m    321\u001b[0m         gotit \u001b[39m=\u001b[39m \u001b[39mTrue\u001b[39;00m\n\u001b[1;32m    322\u001b[0m     \u001b[39melse\u001b[39;00m:\n",
      "\u001b[0;31mKeyboardInterrupt\u001b[0m: "
     ]
    }
   ],
   "source": [
    "for index, article in tqdm(combined_results.iterrows(), total=combined_results.shape[0]):\n",
    "    article_url = article['url']\n",
    "    wayback_url = article['article_url']\n",
    "    snippet, method_used = fetch_snippet(article_url, wayback_url)\n",
    "    if snippet:\n",
    "        sanitized_snippet = sanitize_snippet(snippet)\n",
    "        combined_results.loc[index, 'snippet'] = sanitized_snippet\n",
    "        print(f\"Snippet fetched using {method_used} method for URL: {article_url}\")"
   ]
  },
  {
   "cell_type": "code",
   "execution_count": null,
   "metadata": {},
   "outputs": [],
   "source": [
    "combined_results.to_csv(f'./data_storage/{start}.csv', index=False)\n",
    "print(f\"Data retrieval complete. Results saved to './data_storage/{start}.csv'.\")"
   ]
  }
 ],
 "metadata": {
  "kernelspec": {
   "display_name": "semantic-search",
   "language": "python",
   "name": "python3"
  },
  "language_info": {
   "codemirror_mode": {
    "name": "ipython",
    "version": 3
   },
   "file_extension": ".py",
   "mimetype": "text/x-python",
   "name": "python",
   "nbconvert_exporter": "python",
   "pygments_lexer": "ipython3",
   "version": "3.11.5"
  }
 },
 "nbformat": 4,
 "nbformat_minor": 2
}
