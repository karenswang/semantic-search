{
 "cells": [
  {
   "cell_type": "code",
   "execution_count": 37,
   "metadata": {},
   "outputs": [],
   "source": [
    "from waybacknews.searchapi import SearchApiClient\n",
    "from datetime import datetime\n",
    "import pandas as pd\n",
    "import requests\n",
    "from retrying import retry\n",
    "import requests_cache\n",
    "from tqdm import tqdm\n",
    "import mediacloud.api\n",
    "from newspaper import Article\n",
    "# import unicodedata\n",
    "import concurrent.futures\n",
    "from utils.utils import split_into_chunks, fetch_snippet, sanitize_snippet, get_snippet_from_wayback_machine\n",
    "\n",
    "import weaviate\n",
    "import json\n",
    "import os"
   ]
  },
  {
   "cell_type": "code",
   "execution_count": 71,
   "metadata": {},
   "outputs": [],
   "source": [
    "# set up weaviate client\n",
    "OPENAI_APIKEY = os.environ['OPENAI_API_KEY']\n",
    "# HuggingFace_APIKEY = os.environ['HuggingFace_API_KEY']\n",
    "client = weaviate.Client(\n",
    "    url = \"https://semantic-search-cluster-mp9jmm6o.weaviate.network\",  # Replace with your endpoint\n",
    "    auth_client_secret=weaviate.AuthApiKey(api_key=\"kEzuSpJyK8J7IDLLsmzoBlH8mOtkrfkCjIH6\"),  # Replace w/ your Weaviate instance API key\n",
    "    additional_headers = {\n",
    "        \"X-OpenAI-Api-Key\": OPENAI_APIKEY\n",
    "        # \"X-Huggingface-Api-Key\": HuggingFace_APIKEY\n",
    "    }\n",
    ")\n",
    "\n",
    "if client.schema.exists(\"Article\"):\n",
    "    client.schema.delete_class(\"Article\")"
   ]
  },
  {
   "cell_type": "code",
   "execution_count": 72,
   "metadata": {},
   "outputs": [],
   "source": [
    "#for raw text\n",
    "# class_obj = {\n",
    "#     \"class\": \"Article\",\n",
    "#     \"vectorizer\": \"text2vec-huggingface\",  # \"text2vec-openai\"\n",
    "#     \"moduleConfig\": {\n",
    "#         \"text2vec-huggingface\": {\n",
    "#             \"model\": \"sentence-transformers/all-MiniLM-L6-v2\"\n",
    "#         #     \"options\": {\n",
    "#         #         \"waitForModel\": True,\n",
    "#         #         \"useGPU\": True,\n",
    "#         #         \"useCache\": True}\n",
    "#         },\n",
    "#         # \"text2vec-openai\": {},\n",
    "#         \"generative-openai\": {}  # Ensure the `generative-openai` module is used for generative queries\n",
    "#     }\n",
    "# }\n",
    "\n",
    "# for pre-vectorized data\n",
    "class_obj = {\n",
    "    \"class\": \"Article\",\n",
    "    \"vectorizer\": \"none\"\n",
    "}\n",
    "\n",
    "client.schema.create_class(class_obj)"
   ]
  },
  {
   "cell_type": "code",
   "execution_count": 76,
   "metadata": {},
   "outputs": [
    {
     "name": "stdout",
     "output_type": "stream",
     "text": [
      "Collection has 8913 sources\n",
      "Number of sources: 8913\n",
      "Found 149 articles\n",
      "Found 110 articles\n",
      "Found 22 articles\n",
      "Found 6 articles\n",
      "Found 10 articles\n",
      "Found 8 articles\n",
      "Found 1 articles\n",
      "Found 0 articles\n",
      "Found 1 articles\n",
      "(307, 9)\n",
      "after dropping duplicates:  (156, 9)\n"
     ]
    },
    {
     "name": "stderr",
     "output_type": "stream",
     "text": [
      "100%|██████████| 156/156 [02:39<00:00,  1.02s/it]"
     ]
    },
    {
     "name": "stdout",
     "output_type": "stream",
     "text": [
      "(156, 10)\n",
      "after dropping null snippets:  (156, 10)\n",
      "Data retrieval complete. Results saved to './data_storage/2023-12-01 00:00:00.csv'.\n"
     ]
    },
    {
     "name": "stderr",
     "output_type": "stream",
     "text": [
      "\n"
     ]
    }
   ],
   "source": [
    "import mediacloud.api\n",
    "collection_id = \"38379429\"\n",
    "api = SearchApiClient(\"mediacloud\")\n",
    "\n",
    "SOURCES_PER_PAGE = 100  # the number of sources retrieved per page\n",
    "mc_directory = mediacloud.api.DirectoryApi('e85cce24da8b73eaa05329d258146c044ef055db')\n",
    "sources = []\n",
    "offset = 0   # offset for paging through\n",
    "while True:\n",
    "    # grab a page of sources in the collection\n",
    "    response = mc_directory.source_list(collection_id=collection_id, limit=SOURCES_PER_PAGE, offset=offset)\n",
    "    # add it to our running list of all the sources in the collection\n",
    "    sources += response['results']\n",
    "    # if there is no next page then we're done so bail out\n",
    "    if response['next'] is None:\n",
    "        break\n",
    "    # otherwise setup to fetch the next page of sources\n",
    "    offset += len(response['results'])\n",
    "print(\"Collection has {} sources\".format(len(sources)))\n",
    "all_domains = [s['name'] for s in sources]\n",
    "\n",
    "# Cleaning up domains\n",
    "cleaned_domains = [\n",
    "    domain.replace('https://www.', '')\n",
    "          .replace('http://www.', '')\n",
    "          .replace('https://', '')\n",
    "          .replace('http://', '')\n",
    "          .replace('#spider', '')\n",
    "          .replace('/#spider', '')\n",
    "          .rstrip('/')\n",
    "    for domain in all_domains\n",
    "    if domain  # Ensure the domain is not None or empty\n",
    "]\n",
    "print(f\"Number of sources: {len(cleaned_domains)}\")\n",
    "domains_df = pd.DataFrame(cleaned_domains, columns=['Domain'])\n",
    "# Save the DataFrame to a CSV file\n",
    "# domains_df.to_csv('domains.csv', index=False)\n",
    "\n",
    "domain_chunks = list(split_into_chunks(cleaned_domains, 1000))\n",
    "\n",
    "# Enable requests cache\n",
    "requests_cache.install_cache('article_cache', backend='filesystem', expire_after=3600)\n",
    "\n",
    "\n",
    "# Query parameters\n",
    "# query_term = '(\"police shooting\" OR \"shot by police\" OR \"police shot\" OR \"officer-involved shooting\" OR \"police-involved shooting\" OR \"police officer shooting\" OR \"police shot\" OR \"officer shot\")'\n",
    "query_term = '(\"police shooting\" OR \"shot by police\" OR \"police shot\" OR \"officer-involved shooting\" OR \"police-involved shooting\" OR \"police officer shooting\" OR \"officer shot\" OR \"deputy shot\" OR \"sheriff shot\" OR \"cop shot\" OR \"trooper shot\" OR \"shot by officer\" OR \"shot by deputy\" OR \"shot by sheriff\" OR \"shot by cop\" OR \"shot by trooper\" OR \\\n",
    "    \"killed by police\" OR \"killed by officer\" OR \"killed by deputy\" OR \"killed by sheriff\" OR \"killed by cop\" OR \"killed by trooper\")'\n",
    "\n",
    "# query_term = 'police AND shot'\n",
    "start = datetime(2023, 12, 1) #11/6 - 11/15\n",
    "end = datetime(2023, 12, 4) \n",
    "language = \"en\"\n",
    "\n",
    "# DataFrame to store combined results\n",
    "combined_results = pd.DataFrame()\n",
    "results_list = []\n",
    "\n",
    "for chunk in domain_chunks:\n",
    "    domains_str = f\"domain:({' OR '.join(chunk)})\"\n",
    "    query = f\"{query_term} AND language:{language} AND {domains_str}\"\n",
    "    \n",
    "    # Perform the search with the current chunk\n",
    "    articles = []\n",
    "    for list_of_articles in api.all_articles(query, start, end):\n",
    "        articles.extend(list_of_articles)\n",
    "        print(f\"Found {len(articles)} articles\")\n",
    "    \n",
    "    if articles:\n",
    "        chunk_results = pd.DataFrame(articles)\n",
    "        results_list.append(chunk_results)\n",
    "    \n",
    "\n",
    "# Concatenate all DataFrames in the list\n",
    "combined_results = pd.concat(results_list, ignore_index=True)\n",
    "# results = pd.DataFrame(articles).sort_values(by='publication_date', ascending=False)\n",
    "combined_results.sort_values(by='publication_date', ascending=False, inplace=True)\n",
    "print(combined_results.shape)\n",
    "combined_results.drop_duplicates(subset=['title'], keep='first', inplace=True)\n",
    "print(\"after dropping duplicates: \", combined_results.shape)\n",
    "combined_results.to_csv(f'../data_storage/{start}_no_snippet.csv', index=False)\n",
    "\n",
    "\n",
    "for index, article in tqdm(combined_results.iterrows(), total=combined_results.shape[0]):\n",
    "    # only use wayback machine\n",
    "    wayback_url = article['article_url']\n",
    "    snippet = get_snippet_from_wayback_machine(wayback_url)\n",
    "    if snippet:\n",
    "        sanitized_snippet = sanitize_snippet(snippet)\n",
    "        combined_results.loc[index, 'snippet'] = sanitized_snippet\n",
    "        \n",
    "    # or concurrently run mediacloud wayback machine and newspaper3k\n",
    "    # article_url = article['url']\n",
    "    # wayback_url = article['article_url']\n",
    "    # snippet, method_used = fetch_snippet(article_url, wayback_url)\n",
    "    # if snippet:\n",
    "    #     sanitized_snippet = sanitize_snippet(snippet)\n",
    "    #     combined_results.loc[index, 'snippet'] = sanitized_snippet\n",
    "    #     # print(f\"Snippet fetched using {method_used} method for URL: {article_url}\")\n",
    "\n",
    "print(combined_results.shape)\n",
    "combined_results.dropna(subset=['snippet'], inplace=True)\n",
    "combined_results.reset_index(drop=True, inplace=True)\n",
    "print(\"after dropping null snippets: \", combined_results.shape)\n",
    "combined_results.to_csv(f'../data_storage/{start}.csv', index=False)\n",
    "print(f\"Data retrieval complete. Results saved to './data_storage/{start}.csv'.\")\n",
    "\n"
   ]
  },
  {
   "cell_type": "code",
   "execution_count": 70,
   "metadata": {},
   "outputs": [
    {
     "name": "stderr",
     "output_type": "stream",
     "text": [
      "<frozen importlib._bootstrap>:188: ResourceWarning: unclosed <ssl.SSLSocket fd=82, family=2, type=1, proto=0, laddr=('10.1.246.8', 61065), raddr=('207.241.237.8', 443)>\n",
      "ResourceWarning: Enable tracemalloc to get the object allocation traceback\n",
      "<frozen importlib._bootstrap>:188: ResourceWarning: unclosed <ssl.SSLSocket fd=75, family=2, type=1, proto=0, laddr=('10.1.246.8', 61094), raddr=('207.241.237.8', 443)>\n",
      "ResourceWarning: Enable tracemalloc to get the object allocation traceback\n",
      "/Users/karenwang/.virtualenvs/semantic-search/lib/python3.11/site-packages/tqdm/auto.py:21: TqdmWarning: IProgress not found. Please update jupyter and ipywidgets. See https://ipywidgets.readthedocs.io/en/stable/user_install.html\n",
      "  from .autonotebook import tqdm as notebook_tqdm\n",
      "/Users/karenwang/.virtualenvs/semantic-search/lib/python3.11/site-packages/huggingface_hub/inference/_text_generation.py:121: PydanticDeprecatedSince20: Pydantic V1 style `@validator` validators are deprecated. You should migrate to Pydantic V2 style `@field_validator` validators, see the migration guide for more details. Deprecated in Pydantic V2.0 to be removed in V3.0. See Pydantic V2 Migration Guide at https://errors.pydantic.dev/2.4/migration/\n",
      "  @validator(\"best_of\")\n",
      "/Users/karenwang/.virtualenvs/semantic-search/lib/python3.11/site-packages/huggingface_hub/inference/_text_generation.py:140: PydanticDeprecatedSince20: Pydantic V1 style `@validator` validators are deprecated. You should migrate to Pydantic V2 style `@field_validator` validators, see the migration guide for more details. Deprecated in Pydantic V2.0 to be removed in V3.0. See Pydantic V2 Migration Guide at https://errors.pydantic.dev/2.4/migration/\n",
      "  @validator(\"repetition_penalty\")\n",
      "/Users/karenwang/.virtualenvs/semantic-search/lib/python3.11/site-packages/huggingface_hub/inference/_text_generation.py:146: PydanticDeprecatedSince20: Pydantic V1 style `@validator` validators are deprecated. You should migrate to Pydantic V2 style `@field_validator` validators, see the migration guide for more details. Deprecated in Pydantic V2.0 to be removed in V3.0. See Pydantic V2 Migration Guide at https://errors.pydantic.dev/2.4/migration/\n",
      "  @validator(\"seed\")\n",
      "/Users/karenwang/.virtualenvs/semantic-search/lib/python3.11/site-packages/huggingface_hub/inference/_text_generation.py:152: PydanticDeprecatedSince20: Pydantic V1 style `@validator` validators are deprecated. You should migrate to Pydantic V2 style `@field_validator` validators, see the migration guide for more details. Deprecated in Pydantic V2.0 to be removed in V3.0. See Pydantic V2 Migration Guide at https://errors.pydantic.dev/2.4/migration/\n",
      "  @validator(\"temperature\")\n",
      "/Users/karenwang/.virtualenvs/semantic-search/lib/python3.11/site-packages/huggingface_hub/inference/_text_generation.py:158: PydanticDeprecatedSince20: Pydantic V1 style `@validator` validators are deprecated. You should migrate to Pydantic V2 style `@field_validator` validators, see the migration guide for more details. Deprecated in Pydantic V2.0 to be removed in V3.0. See Pydantic V2 Migration Guide at https://errors.pydantic.dev/2.4/migration/\n",
      "  @validator(\"top_k\")\n",
      "/Users/karenwang/.virtualenvs/semantic-search/lib/python3.11/site-packages/huggingface_hub/inference/_text_generation.py:164: PydanticDeprecatedSince20: Pydantic V1 style `@validator` validators are deprecated. You should migrate to Pydantic V2 style `@field_validator` validators, see the migration guide for more details. Deprecated in Pydantic V2.0 to be removed in V3.0. See Pydantic V2 Migration Guide at https://errors.pydantic.dev/2.4/migration/\n",
      "  @validator(\"top_p\")\n",
      "/Users/karenwang/.virtualenvs/semantic-search/lib/python3.11/site-packages/huggingface_hub/inference/_text_generation.py:170: PydanticDeprecatedSince20: Pydantic V1 style `@validator` validators are deprecated. You should migrate to Pydantic V2 style `@field_validator` validators, see the migration guide for more details. Deprecated in Pydantic V2.0 to be removed in V3.0. See Pydantic V2 Migration Guide at https://errors.pydantic.dev/2.4/migration/\n",
      "  @validator(\"truncate\")\n",
      "/Users/karenwang/.virtualenvs/semantic-search/lib/python3.11/site-packages/huggingface_hub/inference/_text_generation.py:176: PydanticDeprecatedSince20: Pydantic V1 style `@validator` validators are deprecated. You should migrate to Pydantic V2 style `@field_validator` validators, see the migration guide for more details. Deprecated in Pydantic V2.0 to be removed in V3.0. See Pydantic V2 Migration Guide at https://errors.pydantic.dev/2.4/migration/\n",
      "  @validator(\"typical_p\")\n",
      "/Users/karenwang/.virtualenvs/semantic-search/lib/python3.11/site-packages/huggingface_hub/inference/_text_generation.py:204: PydanticDeprecatedSince20: Pydantic V1 style `@validator` validators are deprecated. You should migrate to Pydantic V2 style `@field_validator` validators, see the migration guide for more details. Deprecated in Pydantic V2.0 to be removed in V3.0. See Pydantic V2 Migration Guide at https://errors.pydantic.dev/2.4/migration/\n",
      "  @validator(\"inputs\")\n",
      "/Users/karenwang/.virtualenvs/semantic-search/lib/python3.11/site-packages/huggingface_hub/inference/_text_generation.py:210: PydanticDeprecatedSince20: Pydantic V1 style `@validator` validators are deprecated. You should migrate to Pydantic V2 style `@field_validator` validators, see the migration guide for more details. Deprecated in Pydantic V2.0 to be removed in V3.0. See Pydantic V2 Migration Guide at https://errors.pydantic.dev/2.4/migration/\n",
      "  @validator(\"stream\")\n"
     ]
    },
    {
     "name": "stdout",
     "output_type": "stream",
     "text": [
      "Max Sequence Length: 256\n"
     ]
    }
   ],
   "source": [
    "# pre-vectorize the snippet to avoid using huggingface API which costs money\n",
    "from sentence_transformers import SentenceTransformer\n",
    "model = SentenceTransformer('all-MiniLM-L6-v2')\n",
    "print(\"Max Sequence Length:\", model.max_seq_length)\n",
    "model.max_seq_length = 512"
   ]
  },
  {
   "cell_type": "code",
   "execution_count": 77,
   "metadata": {},
   "outputs": [
    {
     "name": "stderr",
     "output_type": "stream",
     "text": [
      "100%|██████████| 156/156 [00:09<00:00, 16.58it/s]"
     ]
    },
    {
     "name": "stdout",
     "output_type": "stream",
     "text": [
      "(156, 11)\n"
     ]
    },
    {
     "name": "stderr",
     "output_type": "stream",
     "text": [
      "\n"
     ]
    }
   ],
   "source": [
    "from tqdm import tqdm\n",
    "combined_results['snippet_vector'] = None\n",
    "\n",
    "for index, row in tqdm(combined_results.iterrows(), total=combined_results.shape[0]):\n",
    "    snippet = row['snippet']\n",
    "    snippet_vector = model.encode(snippet).tolist()\n",
    "\n",
    "    # Store embeddings in DataFrame\n",
    "    combined_results.at[index, 'snippet_vector'] = snippet_vector\n",
    "\n",
    "print(combined_results.shape)\n"
   ]
  },
  {
   "cell_type": "code",
   "execution_count": 79,
   "metadata": {},
   "outputs": [],
   "source": [
    "# for raw text\n",
    "# print(combined_results.shape)\n",
    "# with client.batch(batch_size=100) as batch:\n",
    "#     for index, row in (combined_results.iterrows()):\n",
    "#         properties = {\n",
    "#             \"title\": row['title'],\n",
    "#             \"publication_date\": row['publication_date'],\n",
    "#             \"snippet\": row['snippet']\n",
    "#         }\n",
    "#         batch.add_data_object(properties, \"Article\")\n",
    "#         print(f\"Importing article: {index + 1}\")\n",
    "\n",
    "# for pre-vectorized data\n",
    "client.batch.configure(batch_size=100)\n",
    "with client.batch as batch:\n",
    "    for index, row in (combined_results.iterrows()):\n",
    "        properties = {\n",
    "            \"title\": row['title'],\n",
    "            \"publication_date\": row['publication_date'],\n",
    "            \"snippet\": row['snippet']\n",
    "        }\n",
    "        batch.add_data_object(properties, \"Article\", vector=row[\"snippet_vector\"])"
   ]
  },
  {
   "cell_type": "code",
   "execution_count": 85,
   "metadata": {},
   "outputs": [
    {
     "name": "stdout",
     "output_type": "stream",
     "text": [
      "{\n",
      "    \"data\": {\n",
      "        \"Get\": {\n",
      "            \"Article\": [\n",
      "                {\n",
      "                    \"publication_date\": \"2023-12-04\",\n",
      "                    \"snippet\": \"O\\u2019FALLON, Mo. \\u2013 Police shot and killed a suspect after shots were fired just outside O\\u2019Fallon City Hall. He is identified as 34-year-old Douglas Alan Phipps. Phipps is accused of firing shots at the clock tower just feet from O\\u2019Fallon City Hall Sunday afternoon. There is damage to three of the four sides of the clock. A resident who lives near City Hall told FOX 2 that they heard the gunshots. Police said that they don\\u2019t know why the individual was firing shots at the clock tower. Police were able to get a description of the vehicle that authorities shared that the suspect was driving. O\\u2019Fallon officers tried to pull over the vehicle, but the driver failed to stop and a pursuit started. It ended near Spring Court in unincorporated St. Charles County. Police say Phipps was armed with a shotgun and pointed it at officers. He was shot and killed during a shootout with the police. No officers were injured in the shooting. The officers involved in the shooting are 47 years old and 28 years old. The St. Charles County Critical Incident Response Team is investigating the incident. A motive for the shooting, police chase, and shootout have not yet been revealed.\",\n",
      "                    \"title\": \"O\\u2019Fallon clock tower shooter identified after fatal shoot-out\"\n",
      "                },\n",
      "                {\n",
      "                    \"publication_date\": \"2023-12-04\",\n",
      "                    \"snippet\": \"The latest mass killing in the United States happened Sunday in New York City when a 38-year-old man used a knife to kill four relatives, including two children, and stab another woman and two police officers before one of the officers fatally shot him. A young girl called 911 to report that her cousin was killing her family at a house in Queens. An 11-year-old girl found outside the house died at a hospital. After extinguishing a fire the man had set, authorities who entered the home found a 12-year-old boy, a 44-year-old woman and a man in his 30s who had all been fatally stabbed. A 61-year-old woman was also critically wounded during the attack. The two injured police officers are expected to recover. It was the country\\u00e2s 39th mass killing this year, according to a database maintained by The Associated Press and USA Today in partnership with Northeastern University. At least 203 people have died this year in those killings, which are defined as incidents in which four or more people have died within a 24-hour period, not including the killer \\u00e2 the same definition used by the FBI. Here\\u00e2s what happened in the other U.S. mass killings this year. MEMPHIS, TENNESSEE: Dec. 2 Police believe a 52-year-old man killed four of his female relatives \\u00e2 three women and a teenage girl \\u00e2 and seriously injured a fifth teen girl in a series of shootings at three different locations. The man fled but then died of a self-inflicted gunshot wound the next day. Authorities found his body in his car. CLINTON, NORTH CAROLINA: Oct. 26 Five people \\u00e2 ages 73, 58, 47, 39 and 33 \\u00e2 were found fatally shot in a home shortly before 1 a.m. Authorities said they received a 911 call from someone who spoke to a victim earlier that night and later found the bodies upon entering the home. The local sheriff did not immediately have information about a suspect but said his department was investigating some people of interest. LEWISTON, MAINE: Oct. 25 A 40-year-old man opened fire at a bowling alley and a restaurant, killing at least 18 people and wounding at least 13. He was a U.S. Army reservist and firearms instructor. Police found him dead two days later from a self-inflicted gunshot wound at a recycling facility where he had recently worked. Fellow service members had raised flags about his behavior, mental health state and potential for violence before the shootings. ROMEOVILLE, ILLINOIS: Sept. 17 A couple, their two children \\u00e2 ages 7 and 9 \\u00e2 and three dogs were found fatally shot in their suburban Chicago home. Police were asked to check on the family after one member did not show for work that morning and phone calls went unanswered, authorities said. A 32-year-old man was suspected in the deaths. He died days later after a fiery crash in Oklahoma, along with a passenger, and had a relationship with the victims, police said. LAKE TOWNSHIP, OHIO: Aug. 24 Five members of a family, including three children, were found dead at a home in Lake Township, Ohio, by police officers performing a welfare check. Authorities say a husband and wife and their two daughters and son died from gunshot wounds and their deaths are being investigated as a domestic dispute that turned deadly. It\\u00e2s unclear who fired the shots. OKLAHOMA CITY: Aug. 16 Police in Oklahoma City said a 28-year-old man fatally shot three young children \\u00e2 ages 9, 5 and 2 \\u00e2 and his estranged wife before taking his own life. Officers visited the family home following a report of a domestic disturbance. Authorities described the couple as married but separated and said police had never been called to a domestic disturbance at the home before. They added that investigators have not yet determined a motive. HAMPTON, GEORGIA: July 15 A 40-year-old man is accused of fatally shooting four people, all in their 60s, in a suburb south of Atlanta. Police said the man\\u00e2s motive was not immediately clear. The killings set off a massive search that ended with a shootout that killed the man in another suburb about 15 miles (24 kilometers) away. The exchange of gunfire wounded a sheriff\\u00e2s deputy and two police officers. SHREVEPORT, LOUISIANA: July 4 Multiple males are believed to have exchanged gunfire at an annual Independence Day block party just before midnight, leaving at least four people dead and at least seven others injured, according to police. Suspects were not quickly identified, and arrests were not immediately made. PHILADELPHIA: July 3 A 40-year-old man is accused of opening fire randomly with an AR-15-style rifle, killing four people and wounding four others, including a 2-year-old, in a southwest Philadelphia neighborhood. Authorities said the man fatally shot another person in a row house the day before. GREEN POND, SOUTH CAROLINA: July 2 A 33-year-old man was charged with murder in the killings of his sister-in-law and 11-year-old daughter after authorities found six people dead and one person in critical condition at a home while responding to reports of a house fire and stabbings, officials said. They did not immediately identify a motive. The man was later charged in connection with the other four deaths, according to media reports. KELLOGG, IDAHO: June 18 A 31-year-old man is accused of fatally shooting four members of a neighboring family in their apartment on Father\\u2019s Day. The man was upset that the neighbor\\u2019s 18-year-old son had reportedly exposed himself to the man\\u00e2s children, a police document alleges. SEQUATCHIE, TENNESSEE: June 15 A 48-year-old man is thought to be responsible for killing himself and five others \\u00e2 including three children and his estranged wife \\u00e2 in a home where police responded to a shooting and arrived to find the residence ablaze, authorities said. A seventh person suffered gunshot wounds and was found alive at the home after firefighters extinguished the flames. MESA, ARIZONA: May 26 A 20-year-old man shot four men to death and wounded a woman in a 12-hour crime spree in metro Phoenix, authorities said. He told police that he met the victims at random that day at a range of places, including a park and a convenience store, and became angry when the subject of drugs came up. NASH, TEXAS: May 23 Authorities jailed an 18-year-old man in connection with the shootings of his parents, sister and brother inside a home. A victim\\u2019s co-worker who went to the home after one of the victims failed to show up for work told police that the man said \\u00e2he had killed his family because they were cannibals, and they were going to eat him.\\u00e2 ALLEN, TEXAS: May 6 A 33-year-old man with an arsenal of legally-purchased firearms killed eight people and wounded seven others at a Dallas-area shopping center. He had posted online about his white supremacist and misogynistic views. A police officer fatally shot him within four minutes. LAKE WALES, FLORIDA: May 2 A 38-year-old man was suspected of fatally shooting a woman and her three children after police were called to an apartment complex where they found the bodies. After an hourslong standoff at a motel, police fatally shot the man. HENRYETTA, OKLAHOMA: May 1 A 39-year-old man fatally shot his wife, her three children and their two friends before killing himself, authorities said. They were all found dead on his rural property. He was a convicted rapist who had been freed from prison early, despite facing new sex charges in a separate case. MOJAVE, CALIFORNIA: April 30 Four people were found fatally shot inside an RV in a remote Mojave Desert community, authorities said. There were no immediate arrests, but two people were being sought for questioning as \\u00e2persons of interest.\\u00e2 CLEVELAND, TEXAS: April 28 A 38-year-old man was arrested after a four-day search. Authorities allege that the man charged into a neighbor\\u2019s home and killed five people, including a 9-year-old boy, after his neighbors asked him to stop firing his AR-style rifle because a baby was trying to sleep. BOWDOIN, MAINE: April 18 A 32-year-old man confessed to fatally shooting four people, including his parents, at a home. From there he fled and fired shots at moving vehicles on a highway. Several vehicles were hit by gunfire but the three people injured were a family all in the same car. DADEVILLE, ALABAMA: April 15 Six suspects \\u00e2 ages 15 to 20 \\u00e2 were charged with reckless murder in connection with a shooting at a Sweet 16 birthday party that killed four people and injured at least 32 others. Two high school seniors were killed. The other two killed were 19 and 23. LOUISVILLE, KENTUCKY: April 10 A 25-year-old bank employee armed with a rifle opened fire at his workplace, killing five people \\u00e2 including a close friend of Kentucky\\u00e2s governor \\u00e2 while livestreaming the attack on Instagram, authorities said. Police arrived as shots were still being fired inside Old National Bank and killed the shooter during an exchange of gunfire. MONROE, LOUISIANA: March 31 A 37-year-old man was arrested on arson and murder charges after a fire killed four people in a home, KNOE-TV reported. NASHVILLE, TENNESSEE: March 27 A 28-year-old killed three children and three adults in a shooting at a small Christian elementary school before being killed by police. The shooter was a former student there. Police have said the shooter \\u00e2was assigned female at birth\\u00e2 but used masculine pronouns on social media. SUMTER, SOUTH CAROLINA: March 21 A 42-year-old former soldier shot and killed three children as they slept in their home while their mother frantically sought help, authorities said. He also killed an Army soldier who was at the home before killing himself. The shooter and the children\\u2019s mother were divorced. BIRMINGHAM, ALABAMA: March 13 to 14 A 28-year-old man was suspected of killing four people in overnight shootings. Authorities said the man approached a police officer and said he had shot two people in Birmingham and two people in St. Clair County. DALLAS, TEXAS: March 12 An 18-year-old man and 20-year-old woman were charged in the fatal shootings of four people at an apartment. They told police they\\u00e2d broken into the home to take money. The man admitted to shooting all of the victims. The woman had dated one of the victims, and they were involved in a custody dispute over their son. An infant was found unharmed at the scene. MIAMI LAKES, FLORIDA: March 10 Police found three females and two males dead from apparent gunshot wounds inside a home, officials said. The wounds of one man appeared to be self-inflicted, leading investigators to believe the case was a murder-suicide. COCOA, FLORIDA: March 1 A 36-year-old man was arrested after fatally shooting his teenage daughter, her mother and two other people, authorities said. Deputies responded after one of two surviving children had called a relative for help. DAPHNE, ALABAMA: Feb. 22 A 21-year-old man was accused of killing his grandparents, his brother and a family friend with a handgun and pickaxe. Their bodies were found in the backyard of his grandparents\\u2019 home and inside a bedroom in the house, police said. ARKABUTLA, MISSISSIPPI: Feb. 17 A 52-year-old man shot and killed six people including his ex-wife and stepfather at multiple locations in a tiny rural community, authorities said. The man was armed with a shotgun and two handguns. A family friend said he had a history of mental illness. One victim was shot and killed while sitting in a pickup truck outside a convenience store. LUTTRELL, TENNESSEE: Jan. 29 A 52-year-old man who complained of having \\u00e2a devil in his head\\u00e2 fatally shot four children in his home before setting the residence ablaze and shooting himself, according to a prosecutor. The children were ages 5 to 15. HALF MOON BAY, CALIFORNIA: Jan. 23 A 66-year-old man was charged with killing seven people in back-to-back shootings at two mushroom farms. He pleaded not guilty. Prosecutors said he opened fire at the mushroom farm where he worked, killing four co-workers and wounding another one. They said he then drove to a mushroom farm he was fired from in 2015 and fatally shot three former co-workers. MONTEREY PARK, CALIFORNIA: Jan. 21 A 72-year-old man opened fire on a mostly elderly crowd at a Lunar New Year dance, killing 11 people and wounding nine. The man later died of an apparent self-inflicted gunshot wound. The massacre has been called the deadliest shooting in Los Angeles County history. GOSHEN, CALIFORNIA: Jan. 16 Authorities announced more than two dozen arrests during a gang crackdown following the fatal shootings of six people \\u00e2 including a teenage mother and her baby \\u00e2 that investigators believe stemmed from a gang rivalry. Two men have pleaded not guilty to the murder charges. CLEVELAND, OHIO: Jan. 13 A 41-year-old man was accused of fatally shooting his father, sister and nephew as well as another man and critically wounding an 8-year-old girl. The man pleaded not guilty. Police alleged that he shot victims in the head in different rooms of a home, then flagged down a police cruiser and directed officers to the scene. HIGH POINT, NORTH CAROLINA: Jan. 7 A 45-year-old man fatally shot his wife and three children and then himself. Authorities said all five lived together in the home. Two others escaped the house. One of the survivors was a relative of the family and another was an acquaintance. Both were in their 20s. ENOCH, UTAH: Jan. 4 A 42-year-old man fatally shot his five children, his mother-in-law and his wife and then killed himself two weeks after his wife filed for divorce. Child protective services had opened an investigation of the man on child abuse and threats to his family just weeks before the killing. Copyright \\u00a9 2023 The Associated Press. All rights reserved. This material may not be published, broadcast, written or redistributed.\",\n",
      "                    \"title\": \"A list of mass killings in the United States since January\"\n",
      "                },\n",
      "                {\n",
      "                    \"publication_date\": \"2023-12-02\",\n",
      "                    \"snippet\": \"Woman shot, killed by police after allegedly setting fire to Chatsworth home Los Angeles police officers shot and killed a woman in her 50s during a confrontation after she set a house on fire in Chatsworth, according to authorities. The incident was reported at 1:50 p.m. Friday in the 9600 block of Laramie Avenue, according to the Los Angeles Fire Department. Police were called to the scene for a reported assault involving a suspect with a gun. When officers arrived, they found firefighters working to extinguish a fire at the residence. The fire was knocked down within 23 minutes, officials said. Police officers located a woman in the home\\u00e2s backyard. During an ensuing confrontation, officers shot the woman. She was pronounced dead at a hospital. Her identity had not been released as of Friday night. Police allege the woman had threatened her sister with a gun and set fire to the home. No other injuries were reported, according to authorities. The incident remains under investigation by the Los Angeles Police Department\\u00e2s force investigation unit. Start your day right Sign up for Essential California for news, features and recommendations from the L.A. Times and beyond in your inbox six days a week. You may occasionally receive promotional content from the Los Angeles Times.\",\n",
      "                    \"title\": \"Woman shot, killed by police after allegedly setting fire to Chatsworth home\"\n",
      "                },\n",
      "                {\n",
      "                    \"publication_date\": \"2023-12-04\",\n",
      "                    \"snippet\": \"ST. CHARLES COUNTY \\u00e2 O'Fallon police on Sunday shot and killed a man they say fired shots at a clock tower outside the O'Fallon, Missouri, City Hall, led officers on a chase, then pointed a shotgun at them and exchanged gunfire.\\u00c2 Douglas Alan Phipps, 34, was pronounced dead at the scene of the shooting in the Royal Oaks subdivision of St. Charles County. The neighborhood is about 3 miles north of city hall.\\u00c2 Phipps pointed a shotgun at officers after stepping out of his vehicle after stopping at a cul-de-sac on Spring Court, O'Fallon Sgt. Bryan Harr said in a news release. Officers then shot at Phipps, who returned fire before he was killed by officers.\\u00c2 Harr said the two officers are a 47-year-old officer with 24 years of experience and a 28-year-old officer with five years of experience. Neither officer was injured.\\u00c2 People are also reading\\u2026 The incident began at about 4:15 p.m. Sunday when police received reports that someone was firing shots at the clock tower near City Hall on North Main Street, Harr said. The suspect was described as a white man driving a maroon car.\\u00c2 Police tried to stop the car at the intersection of Main Street and Highway P, about a mile north of City Hall. The vehicle did not stop, and police pursued it west down Highway P and into the Royal Oaks subdivision.\\u00c2 Surveillance video from a homeowner captured the pursuit when it turned off Highway P and into the subdivision. In the video, sirens can be heard before a red sedan enters the subdivision at a slow speed, followed closely by four police vehicles with lights and sirens activated.\\u00c2 Ten more O'Fallon and St. Charles County police vehicles drove into the subdivision as the suspect led police on a slow drive looping through the neighborhood, said Keith Barker, who took the video from his home near Royal Oaks and Fawn Ridge drives. The video was taken at about 4:26 p.m., but a time stamp on the video is an hour ahead, Barker said.\\u00c2 Police placed spike strips at Highway P and Royal Oaks, one of the entrances to the neighborhood, but Phipps instead turned the opposite direction on Royal Oaks and accelerated farther into the neighborhood and out of sight, Barker said. Barker, who has lived in the neighborhood for 24 years, said he didn't recognize Phipps. He often hears sirens on Highway P, but they're usually ambulances or firetrucks, he said. \\\"To hear sirens and then see this unusually slow pursuit was very unusual,\\\" Barker said. \\\"It was nothing like you would see on TV. \\\"This is going to be talked about in our subdivision for quite a long time.\\\" The clock tower had visible damage on Monday.\\u00c2 Sunday's shooting was the third\\u00c2 fatal police shooting in O'Fallon since January 2019, when an officer shot and killed an armed 64-year-old man during a mental health check\\u00c2 at the man's home. O\\u00e2Fallon police said at the time that the officer feared for his and a mental health worker's life. The man's family sued the police department in August of this year claiming wrongful death. And in January 2022, police officers shot and killed a teen in a car on a cul-de-sac while responding to a call for a \\\"suspicious vehicle.\\\" Police said they loudly knocked on the car window and spotted a handgun in the front seat before the driver reversed the car into a police vehicle and tried to drive off. The teen's family said he and a friend were sleeping in the car after visiting another friend in the area. The St. Charles County Prosecutor's office later declined to press charges against the officers, releasing video of the incident and saying the officers believed their lives were at risk.\\u00c2 The incident Sunday is being investigated by the county's\\u00c2 Critical Incident Response team, a group formed in 2022 that includes lieutenant commanders and detectives from the St. Charles County, Cottleville, Lake St. Louis, O\\u00e2Fallon, St. Charles, St. Peters and Wentzville police departments. The investigators eventually turn over their findings to the St. Charles County prosecutor. Phipps' family could not be reached Monday. O'Fallon police released a mugshot of Phipps but did not provide information about whether he was previously known to the department. Court records show Phipps had a lengthy criminal history in St. Charles, Lincoln and Warren counties including domestic assault, burglary, theft, trespassing and driving while intoxicated. Phipps also had several restraining orders filed against him, including two in 2022.\\u00c2 The shooting in O'Fallon happened hours before a man was\\u00c2 killed by a police officer in Lake St. Louis\\u00c2 after a struggle over a gun. In that case, police said they were investigating a report of a shooting when a man walked toward them with two handguns and fought with police when they tried to disarm him.\\u00c2 Kim Bell of the Post-Dispatch contributed to this report.\\u00c2\",\n",
      "                    \"title\": \"Police kill gunman in shootout after pursuit from O'Fallon, Mo., City Hall\"\n",
      "                },\n",
      "                {\n",
      "                    \"publication_date\": \"2023-12-04\",\n",
      "                    \"snippet\": \"LANSING, Mich. (WLNS) \\u2014 Lansing Police Department on Sunday released the name of the victim in Friday-night\\u2019s police shooting. In a news conference, Chief Ellery Sosebee said LPD had shot and killed 33-year-old Stephen Romero after they responded to a reported domestic dispute. He said LPD will release body camera footage from incident soon. Romero\\u2019s family did not want to go on camera, but they said they have hired a lawyer. 6 News on Sunday spoke with a neighbor of the family from two houses down, who recalled the events leading up to the shooting incident. \\u201cI woke up to a loud bang. A couple of loud bangs,\\u201d Sean Fidler said. \\u201cAnd then I stepped outside and seen a whole bunch of police.\\u201d Fidler recalls, \\u201cYou know, I went back in the house and called it a night. And then caught the news the next day to see what happened.\\u201d He said he had seen Romero just a few days before with one of his children. \\u201cHe was out here with his daughter,\\u201d Romero said. \\u201cWalking her in her stroller. It\\u2019s just sad that all this happened. You know, it really is.\\u201d Since the time of the deadly shooting, 6 News has received updates from police and from Romero\\u2019s family. \\u201cThey were trying to put him in custody, and a gun was presented,\\u201d LPD Chief Sosebee said in the news conference on Sunday. LPD had said a female, who was present at the time of the shooting, had called dispatch about a domestic situation. A second caller then alleged that the woman had been shot. When police arrived, officers said they told Romero to put up his hands\\u2013and that\\u2019s when they saw a gun. A reporter at the news conference asked whether Romero had shot at officers. His response was, \\u201cI\\u2019m not going to share any of that information at this point.\\u201d Sosebee also declined to share at the news conference whether anyone else had been injured in the incident, though no other injuries have been reported. Police discovered before beginning CPR on Romero that the woman involved had not been shot after all, according to Sosebee\\u2019s statement. 6 News spoke to Romero\\u2019s wife off-camera. She said the Detroit-based Geoffrey Fieger Law Firm is representing the family, and that police should not have shot her husband. Neighbor Sean Fidler has a message for the family: \\u201cMy condolences. I\\u2019m sorry. It\\u2019s a tragedy; it really is.\\u201d The two officers involved in the shooting are on paid administrative leave, which is standard procedure in such cases. Michigan State Police is handling the investigation.\",\n",
      "                    \"title\": \"Neighbor recalls officer-involved shooting in Lansing; latest from police\"\n",
      "                },\n",
      "                {\n",
      "                    \"publication_date\": \"2023-12-03\",\n",
      "                    \"snippet\": \"DECATUR, Ala. (AP) \\u00e2 An Alabama city has fired three police officers connected to the fatal shooting of a Black man in front of his own home during a dispute with a tow truck driver. Decatur Mayor Tab Bowling announced the decision Thursday night after the conclusion of personnel hearings. The mayor\\u2019s office did not name the officers or the specific reasons for their dismissal. The city police chief said previously that departmental policies were violated with the shooting. A fourth officer was suspended, the mayor said. The Alabama Law Enforcement Agency\\u00e2s review of the shooting is ongoing, a spokesman said Friday. The findings will be turned over to the local district attorney and grand jury to determine if criminal charges are merited or if the officers acted within the bounds of the law. Steve Perkins, 39, was shot and killed by police on Sept. 29 when officers accompanied a tow truck driver trying to repossess Perkins\\u00e2 truck. Authorities said in September that Perkins had brandished a handgun, which was also equipped with a light, \\u00e2causing the officer to fire at Perkins.\\u00e2 Video from a neighbor\\u00e2s home surveillance camera video, published by WAFF-TV, captured the shooting. The video shows the tow truck back into the driveway and Perkins come out of his house. An officer or officers appear to run out from beside the house. One is heard shouting, \\u00e2Police, get on the ground,\\u00e2 and a large number of shots are immediately fired in rapid succession. The Perkins family issued a statement calling the dismissals a \\u00e2step in the right direction,\\u00e2 but they want to see more done. \\u00e2Three officers being fired and one being suspended is no comparison to Catrela losing her husband, me losing my brother, my mom losing her son, that\\u00e2s not justified. We want these officers prosecuted\\u00e2 Nicholas Perkins told WHNT-TV. \\u00e2We deserve more, Catrela definitely deserves more, this Perkins Family deserves more. And so we won\\u00e2t give up until we get what we deserve.\\u00e2 The fatal shooting has drawn regular protests in the north Alabama city. Protestors carried signs reading \\u00e2You could have knocked\\u00e2 and \\u00e2We need answers.\\u00e2 Police have not released the race of the officers. The Decatur Police Department\\u00e2s initial statement in September about the shooting said that officers were called to the scene by the tow truck driver, who said the homeowner pulled a gun when he tried to take the truck. The department said that after officers accompanied the tow truck driver back to the home, Perkins threatened the driver and \\u00e2turned the gun toward one of the officers.\\u00e2 Perkins\\u00e2 family said that the neighbor\\u2019s security camera video refutes that version of events. An attorney for the family said officers immediately opened fire on Perkins and that he did not appear aware of their presence until he was being shot. Perkins\\u00e2 family issued a statement saying the truck payments were up to date, so the truck shouldn\\u00e2t have been towed. Decatur Police Chief Todd Pinion in October issued a public apology saying the department had initially given inaccurate information about the shooting. The department\\u00e2s initial September statement said that before opening fire that officers ordered Perkins to drop his weapon and that he refused to do so. Pinion said officers did not tell him to drop his weapon but had said, \\u201cget on the ground.\\u00e2 Pinion said Thursday that he and the mayor visited with Perkins\\u2019 family to deliver the news about the dismissals. \\u00e2I have pledged to take action to ensure something like this never happens in Decatur again, and that process has begun in earnest,\\u00e2 Pinion wrote in a statement. Copyright \\u00a9 2023 The Associated Press. All rights reserved. This material may not be published, broadcast, written or redistributed.\",\n",
      "                    \"title\": \"3 Alabama officers fired in connection to fatal shooting of Black man at his home\"\n",
      "                },\n",
      "                {\n",
      "                    \"publication_date\": \"2023-12-01\",\n",
      "                    \"snippet\": \"click to enlarge - EPD - A map of the route Matthew Robert Williams reportedly took from where an officer stopped a vehicle he was a passenger in to where he was shot by police after allegedly pulling a firearm, according to EPD. The Eureka Police Department has identified the man killed by officers in a shooting Sunday as Matthew Robert Williams, 31, of Cutten. EPD issued a press release this afternoon, offering a bit more detail on the shooting that followed a traffic stop at about 9:35 a.m. Sunday, leaving Williams dead and two officers on administrative leave. According to EPD, the incident began when an officers pulled over a vehicle on M Street, north of Second Street, for having an expired registration tag. When the vehicle stopped, Williams, the right front passenger, got out and fled on foot, according to the release, which details that he ran east on a walkway north of the Ingomar Club toward the north side of the Humboldt County Library. According to the release, the officer who had pulled the vehicle over did not pursue Williams, instead staying with the car and its two occupants as nearby officers responded to search the area for the fleeing man. \\u00e2An officer located the male as he was attempting to scale a fence to the north side of the Clara Mayberry Park, which was closed,\\u00e2 the release states, adding that the officer gave Williams commands to stop. \\u00e2However, the male refused to comply and a physical altercation ensued.\\u00e2 The release states that as a second officer arrived to assist, Williams allegedly pulled a pistol, which he held with his right hand, and at some point chambered a round. \\u00e2At this point during the alteration, shots were fired by officers and the male was struck by the gunfire,\\u00e2 the release states. \\u00e2It\\u00e2s unknown at this time if the male fired his handgun during the alteration.\\u00e2 Williams was pronounced dead at the scene and an autopsy has been scheduled. click to enlarge - HCSO - A booking photo from Williams' July 25 arrest. After the shooting, the officer who\\u00e2d initiated the traffic stop left the vehicle to help the officers who\\u00e2d been involved in the alleged altercation with and shooting of Williams. At that point, the two occupants of the vehicle left the area. They and the car were later tracked down, with the occupants interviewed and the car seized as evidence. According to the release, two officers fired shots at Williams \\u00e2 one with more than seven years\\u00e2 of experience in law enforcement, the other with more than four years\\u00e2 experience. The release states both were minorly injured in the alteration and have been placed on administrative leave pending the outcome of the investigation, per departmental protocol. The firearm recovered from Williams was a ghost gun, according to EPD, meaning it does not have a serial number. Additionally, the release alleges he was found to be in possession of 42 grams of fentanyl and a \\u00e2large amount of cash.\\u00e2 According to EPD, one of the officers who fired their weapon during the exchange was wearing a body camera that captured video of the incident, while the other officer\\u00e2s camera \\u00e2suffered a malfunction and did not capture the incident.\\u00e2 According to media reports, Williams has a history of arrests in Humboldt County, primarily for drug offenses. He was most recently arrested July 25 by agents with the Humboldt County Drug Task Force on suspicion of drug possession, resisting a peace officer, violation of the terms of his probation and possessing burglary tools. The timing and circumstances of his release from jail are unclear, though the Journal has inquired and will report any response we receive. The shooting remains under investigation by the Humboldt County Critical Incident Response Team, with the investigation being co-led by the Humboldt County District Attorney\\u00e2s Office and EPD. Meanwhile, a parallel administrative investigation is also being conducted and its findings will be reviewed by the city\\u00e2s independent police auditor, who will report to the city\\u00e2s Community Oversight on Police Practices Board. EPD asks anyone with information about the incident to call detective Bailey with the Criminal Investigations Unit at (707) 441-4215 or district attorney investigator G. Hill at (707) 268-2553. Find the city\\u00e2s full press release here , and past Journal coverage of the shooting and the state laws that will govern its review and the release of associated documents and video and audio recordings of the incident here .\",\n",
      "                    \"title\": \"EPD Identifies 31 Year Old Shot by Officers as Cutten Man\"\n",
      "                },\n",
      "                {\n",
      "                    \"publication_date\": \"2023-12-01\",\n",
      "                    \"snippet\": \"IN police officer fatally shoots man found on top of bleeding woman in semitruck A man holding a woman inside a semitruck was fatally shot by an Indianapolis police officer.The woman pleaded for help, stating she was dying and bleeding out as officers entered the sleeping compartment.The officer who shot the man was placed on administrative leave, a standard procedure during investigations into police shootings. A man holding a woman inside a semitruck was fatally shot by an Indianapolis police officer after he entered the truck\\u2019s cabin and found the man on top of the bleeding woman, police said. Officers were called to a parking lot on Indianapolis\\u2019 south side Thursday night by a bystander who told 911 a woman was calling for help from inside a semitruck parked in the lot. INDIANA MAN FACES MURDER CHARGES IN DISAPPEARANCE OF 17-YEAR-OLD NEIGHBOR After officers arrived about 7:30 p.m., the man came from behind a curtain separating the truck\\u2019s sleeping area from its cabin, sat in the driver\\u2019s seat and stared at officers before returning to the sleeping area, police said. When officers broke the driver\\u00e2s side window and opened that door after hearing the woman call for help, police quoted the man as saying: \\u201cI\\u00e2m going to kill her,\\u201d \\u201cI got a knife to her throat\\u201d and \\u201cYou\\u00e2re gonna die.\\u201d The woman then cried out, \\u201cI\\u00e2m dying, help me,\\u201d \\u201cI\\u00e2m bleeding out, help me\\u201d and \\u201cHe\\u2019s killing me\\u201d before officers entered the sleeping compartment. They found the man on top of the woman, who was bleeding from the head, before one officer discharged his firearm, striking the man, who died at the scene, police said. WOMAN ARRESTED FOR ALLEGEDLY CRASHING CAR INTO INDIANAPOLIS \\u2018JEWISH SCHOOL\\u2019 WITH PEOPLE INSIDE: POLICE The woman was treated at the scene for multiple lacerations and a bloody razor blade was found in the sleeping area. The Indianapolis Metropolitan Police Department said the officer who shot the man was placed on administrative leave, a standard step during investigations into shootings involving police officers. \\u201cTonight, this officer saved a woman\\u00e2s life,\\u201d IMPD Assistant Chief Chris Bailey said at a briefing with reporters.\",\n",
      "                    \"title\": \"IN police officer fatally shoots man found on top of bleeding woman in semitruck\"\n",
      "                },\n",
      "                {\n",
      "                    \"publication_date\": \"2023-12-02\",\n",
      "                    \"snippet\": \"LANSING, Mich. (WLNS) \\u2013 The Lansing Police Department confirmed an officer-involved shooting that left one man dead happened overnight Saturday. According to LPD, officers responded to the 1600 block of Massachusetts Avenue at 11:19 p.m. for reports of a domestic violence situation where a person was armed and someone was shot. LPD added that once police arrived at the scene, an officer encountered an armed suspect and said this was when the police shooting took place. Law enforcement secured the suspect and attempted first aid. The Lansing Fire Department then took the man to the hospital, where he was later pronounced dead. LPD officials said a handgun was recovered at the scene and there were no other injuries. 6 News spoke to neighbors Saturday afternoon who claimed that the shooting had taken place in the space between two houses on the street. They also said that they had heard two sets of gunshots, and what had appeared to be two different guns. When 6 News made contact with a person at the house where the incident had occurred, they said they were not ready for an interview. They did say, however, that they had lost a loved one at the hands of the Lansing Police Department. Per department policy, the investigation has been turned over to the Michigan State Police.\",\n",
      "                    \"title\": \"Deadly officer-involved shooting late Friday night in Lansing\"\n",
      "                },\n",
      "                {\n",
      "                    \"publication_date\": \"2023-12-03\",\n",
      "                    \"snippet\": \"Officer-involved shooting in southeast Wichita leaves one man dead WICHITA, Kan. (KAKE) - One man has died after an officer-involved shooting in southeast Wichita on Sunday. Wichita Police says officers were dispatched to the 4200 block of East Gilbert St. just after 2:15 p.m. for the report of a domestic dispute. Upon arrival, officers found the calling party, an adult female, who informed police the suspect was in the backyard making suicidal statements. According to police, officers made contact with the suspect, an adult male, and attempted to pat him down when he pulled out a firearm. Officers attempted to de-escalate the situation and told the suspect to put down the gun. The suspect pointed the gun at police and an officer fired their gun, shooting the suspect. The suspect was taken to an area hospital where he was later pronounced deceased. No officers were harmed in the shooting. Chief Joe Sullivan of the WPD says the incident was tragic and he is confident that officers handled the situation according to policy. Police say information on the case is limited and nothing else can be released at this time. The Sedgwick County Sheriff's Office will be investigating the case.\",\n",
      "                    \"title\": \"Officer-involved shooting in southeast Wichita leaves one man dead\"\n",
      "                },\n",
      "                {\n",
      "                    \"publication_date\": \"2023-12-01\",\n",
      "                    \"snippet\": \"Officials: Man with knife shot to death by Elk Grove police A man who confronted police with a knife was shot to death by officers Friday in Elk Grove Village, officials said. Shortly before 4:30 p.m., police responded to a 911 call about a man with a knife at a home on the 200 block of Fern Drive. After arriving, officers saw the man leave the house bearing a knife; he then confronted the officers in a nearby yard, police said. The man was shot following the confrontation. An ambulance was immediately called, and the suspect was taken to Ascension Alexian Brothers Medical Center, where he was later pronounced dead. Three officers also had to be taken to a nearby hospital for observation, officials said. Elk Grove police called other police departments for assistance in securing the scene, directing traffic, and blocking off streets following the shooting. Police said they believe the man was an Elk Grove Village resident. Elk Grove police are conducting a criminal investigation, and the Major Case Assistance Team is investigating the officer-involved shooting, according to a news release from the Elk Grove Village Police Department. \\u2022 ABC7 Chicago contributed to this report.\",\n",
      "                    \"title\": \"Officials: Man with knife shot to death by Elk Grove police\"\n",
      "                },\n",
      "                {\n",
      "                    \"publication_date\": \"2023-12-04\",\n",
      "                    \"snippet\": \"Idaho police kill suspect who opened fire on them during traffic stop A 34-year-old man was fatally shot by police after authorities said he fled a traffic stop and fired at officers in eastern Idaho early Monday morning. The Idaho State Police said the shooting occurred just after 1 a.m., when a trooper pulled a vehicle over for a traffic violation in Idaho Falls. The trooper also called for backup and as Idaho Falls Police officers arrived, a passenger in the car fired at them and fled the vehicle, authorities said. The ISP said the law enforcement officers chased the man on foot, and gunfire broke out. STABBING SUSPECT DEAD, POLICEWOMAN WOUNDED AFTER VIRGINIA GUNFIGHT \\u201cAt this time, it is believed that the ISP trooper and two IFPD officers exchanged gunfire with the man,\\u201d the ISP wrote. No officers were injured, but the man was shot. Law enforcement officers and emergency medical staffers provided medical aid, according to the state police, but the man died at the scene. His name was not immediately released so that family members could be notified. \\u201cThe exact dynamics of the incident remain under investigation,\\u201d the ISP said. The shooting is being investigated by a regional task force led by the Bingham County Sheriff\\u2019s Office. Both law enforcement agencies involved in the shooting will fully cooperate in the investigation, the ISP said.\",\n",
      "                    \"title\": \"Idaho police kill suspect who opened fire on them during traffic stop\"\n",
      "                },\n",
      "                {\n",
      "                    \"publication_date\": \"2023-12-01\",\n",
      "                    \"snippet\": \"Coroner releases name of man hit, killed by vehicle in Oconee County Joshua Michael Lewis was identified as the victim Coroner releases name of man hit, killed by vehicle in Oconee County Joshua Michael Lewis was identified as the victim ALL RIGHT, SYDNEY, THANK YOU. IT IS 433. AND BREAKING NEWS THIS MORNING. TROOPERS SAY A PEDESTRIAN CROSSING A HIGHWAY IN OCONEE COUNTY WAS KILLED AFTER BEING STRUCK BY A VEHICLE. IT HAPPENED LAST NIGHT JUST BEFORE 11 AT US 76 IN RICHLAND ROAD NEAR SENECA. THE PEDESTRIAN WAS CROSSING USF 36 WHEN THEY WERE HIT BY THE VEHICLE. THEY DIED AT THE SCENE. THE CORONER HAS NOT RELEASED THEIR NAME OR ANY OTHER INFORMATION, AND Advertisement Coroner releases name of man hit, killed by vehicle in Oconee County Joshua Michael Lewis was identified as the victim The coroner in Oconee County, South Carolina, has released the name of a man hit and killed while trying to cross the road. Troopers said the man was hit Thursday night near Seneca.Investigators said a vehicle traveling on Highway 76 hit a pedestrian who was crossing the highway at the intersection of Richland Road.More news: Family of Upstate deputy shot provides update on condition and what's nextWinter weather outlook for Upstate: Chris Justus forecasting above average snowPizza delivery man shot, killed in South Carolina, police sayThe coroner identified the victim as Joshua Michael Lewis, 47, of Westminster. The driver of the vehicle was not injured.For more news, weather 24 hours a day- Download the WYFF News 4 app: Apple | Google Play OCONEE COUNTY, S.C. \\u2014 The coroner in Oconee County, South Carolina, has released the name of a man hit and killed while trying to cross the road. Troopers said the man was hit Thursday night near Seneca. Advertisement Investigators said a vehicle traveling on Highway 76 hit a pedestrian who was crossing the highway at the intersection of Richland Road. More news: - Family of Upstate deputy shot provides update on condition and what's next - Winter weather outlook for Upstate: Chris Justus forecasting above average snow - Pizza delivery man shot, killed in South Carolina, police say The coroner identified the victim as Joshua Michael Lewis, 47, of Westminster. The driver of the vehicle was not injured. For more news, weather 24 hours a day- Download the WYFF News 4 app: Apple | Google Play\",\n",
      "                    \"title\": \"South Carolina: Pedestrian hit, killed in Oconee County\"\n",
      "                },\n",
      "                {\n",
      "                    \"publication_date\": \"2023-12-04\",\n",
      "                    \"snippet\": \"A West Haven police officer shot during an incident Friday morning has been released from the hospital, according to police. Officers responded to an apartment building on Terrace Avenue just before 2 a.m. Friday to investigate a domestic violence complaint and the suspect opened fire, shooting an officer in the leg. A West Haven police officer who was at the scener returned fire and struck the suspect. The man was taken to the hospital where he later died. The Office of Inspector General, the Milford States Attorney\\u2019s Office and the Connecticut State Police Central District Major Crime Squad are investigating. Get Connecticut local news, weather forecasts and entertainment stories to your inbox. Sign up for NBC Connecticut newsletters. The name of the officer and the name of the suspect have not yet been released. Sign up for our Breaking newsletter to get the most urgent news stories in your inbox.\",\n",
      "                    \"title\": \"West Haven officer shot during incident released from hospital\"\n",
      "                },\n",
      "                {\n",
      "                    \"publication_date\": \"2023-12-02\",\n",
      "                    \"snippet\": \"MIAMI \\u00e2 A police officer shot the driver who was pinning him against a car on Friday in Miami-Dade County, police said. Miami-Dade Fire Rescue personnel responded to a car crash and a police-involved shooting in the area of Northwest 21 Avenue and 62 and 63 streets in the Brownsville-Gladeview boundary. Detective Luis Sierra, a spokesman for the Miami-Dade Police Department, said police officers were working in the area when they saw a car speeding and a crash. \\u00e2They observed the white Dodge ... striking an electrical pole,\\u00e2 Sierra said. A police officer with the department\\u00e2s robbery intervention detail then rushed toward the driver of the Dodge Challenger. \\u00e2The subject accelerated towards one of the officers, striking him and pinning him against his own vehicle,\\u00e2 Sierra said. \\u00e2Our officer discharged his firearm striking the subject.\\u00e2 Fire Rescue personnel took the injured officer and driver to Jackson Memorial Hospital\\u00e2s Ryder Trauma Center. Authorities said the driver was in critical but stable condition and he and the officer were expected to recover from their injuries. A witness said he heard a barrage of gunshots. The Dodge Challenger had bullet holes in the front windshield. There were evidence markers on the ground. There was a red car. A police officer first spotted the driver of the Dodge Challenger in the area of Northwest 70 Street and 18 Avenue, activated his emergency equipment, and attempted to stop him, but the driver sped away, according to police. After the crash and the shooting, detectives detained a passenger who was in The Dodge Challenger. The Florida Department of Law Enforcement was investigating the shooting. Detectives asked anyone with information about the case to call Miami-Dade County Crime Stoppers at 305-471-8477. Local 10 News Photojournalist Bob Palumbo and Assignment Editor Stephany Heilbron contributed to this report.\",\n",
      "                    \"title\": \"Police: Injured Miami-Dade police officer fires at driver who was trying to get away after crash\"\n",
      "                },\n",
      "                {\n",
      "                    \"publication_date\": \"2023-12-02\",\n",
      "                    \"snippet\": \"SANDY, Utah, Dec. 1, 2023 (Gephardt Daily) \\u00e2 A man is dead following an officer-involved shooting Friday afternoon at a Sandy retirement community. The shooting involving a U.S. Marshal\\u2019s Office violent fugitive apprehension strike team occurred a little after 1 p.m. inside the Silver Pines Senior Community, 735 E. 11000 South, Sandy City Police Sgt. Greg Moffitt said. The U.S. Marshal\\u2019s Office had received information on a wanted fugitive at the location, Moffitt said. \\u201cWhile they were here to effect that arrest, some sequence of events that occurred \\u2026 led to an officer-involved shooting,\\u201d he told Gephardt Daily. The man was pronounced dead at the scene, he said. The West Valley City Police Department is investigating the officer-involved shooting. Gephardt Daily will update this story as more information becomes available.\",\n",
      "                    \"title\": \"Man killed in officer-involved shooting in Sandy retirement community\"\n",
      "                },\n",
      "                {\n",
      "                    \"publication_date\": \"2023-12-03\",\n",
      "                    \"snippet\": \"Man kills 4 relatives in Queens knife rampage, injures 2 officers before he's fatally shot by police NEW YORK \\u00e2 A man killed four relatives, including two children, in a knife attack at their New York City home early Sunday, then set the building on fire and stabbed two police officers before one of them fatally shot him, officials said. The rampage took place before dawn at a house in Far Rockaway, a seaside section of Queens. Police were summoned to the home at about 5:10 a.m. when a \\u00e2young female caller\\\" dialed 911 and said her cousin was killing her family, the NYPD Chief of Department Jeffrey Maddrey said at a morning news briefing. When the officers pulled up to the driveway, they stopped a man leaving the area with luggage and after just a few seconds, he drew a knife and attacked. One of the officers was stabbed in the area of his neck and chest, the other was slashed in the head before one of them shot the assailant, Maddrey said. An 11-year old girl was found in front of the house and taken to a hospital, where she was later pronounced dead from stab wounds. Police weren\\u00e2t immediately able to enter the home because of a fire that consumed the living room and foyer, but once inside they found three more people fatally stabbed; a 12-year-old boy, a 44-year-old woman and a man in his 30s. Another woman, 61, was gravely injured in the attack. She is in critical condition suffering from multiple stab wounds. Both injured police officers are expected to recover. Phone messages left with possible neighbors of the family were not immediately returned. The suspect was identified as Courtney Gordon, 38, who police said had been visiting the family from his home in the Bronx. The identities of his victims were not immediately disclosed. \\u00e2This scene was chaos. Multiple victims, a house on fire, and a madman on a rampage, on a mission,\\\" Patrick Hendry, the head of the New York Police Department's police union, said at the media briefing. \\u00e2The skill that this police officer had shooting and stopping the threat after he was being stabbed. Unbelievable skill,\\\" he said. The fatal attack came a week after another knife rampage in the Bronx that took three lives. Police said a college student who had been \\u00e2hearing voices\\u00e2 killed his father, his 5-year-old half-brother and the little boy's mother.\",\n",
      "                    \"title\": \"Man kills 4 relatives in Queens knife rampage, injures 2 officers before he's fatally shot by police\"\n",
      "                },\n",
      "                {\n",
      "                    \"publication_date\": \"2023-12-03\",\n",
      "                    \"snippet\": \"Baltimore police: Shots fired during movie inside Harbor East Cinemas Baltimore police: Shots fired during movie inside Harbor East Cinemas TOMMIE. WHAT DO YOU KNOW? MOMENTS AGO, POLICE CONFIRMED FOR US A DISCHARGING INSIDE A MOVIE THEATER HERE. YOU CAN SEE BEHIND ME THIS AREA IS COMPLETELY BLOCKED OFF. THIS IS RIGHT AT THE TRAFFIC CIRCLE OFF ALESANA C THE HARBOR EAST CINEMAS. THAT IS WHERE IT HAPPENED. POLICE SAY SOMEONE DISCHARGED A GUN IN THE MOVIE THEATER. NO REPORTED INJURIES, THANKFULLY. NOW, I SPOKE WITH SOMEONE WHO WAS INSIDE. HE SAYS IT HAPPENED ALONG HIS ROW. THEY WERE SITTING MAYBE 25 MINUTES INTO THE MOVIE, A HORROR MOVIE CALLED THANKSGIVING. HE SAYS ALL OF A SUDDEN HE SAW THE GUNSHOTS. EVERYONE STARTED RUNNING. IT WAS A STAMPEDE. TAKE A LISTEN. WE\\u2019RE IN THE FRONT ROW OF THEATER THREE, AND IT\\u2019S ABOUT 25 MINUTES INTO THE MOVIE. IT\\u2019S JUST GETTING STARTED, JUST GETTING, YOU KNOW, GORY AND GOOD WHAT YOU WANT FROM A HORROR MOVIE AND THEN WE HEAR POP, POP, POP. AND I LOOK OVER TO THE LEFT AT THE OTHER SIDE OF THE FRONT ROW. I START SEEING THE MUZZLE FLARES. AND THAT\\u2019S WHEN WE WERE LIKE, AND WE\\u2019RE OUT OF HERE. OTHER PEOPLE WHO I TALKED TO SAY THEY WERE IN OTHER MOVIE THEATERS WITHIN THE BUILDING HERE WATCHING DIFFERENT MOVIES. THEY HAD TO BE EVACUATED AS WELL. SO THE ENTIRE MOVIE THEATER EVACUATED. AND THANKFULLY, POLICE SAY NO INJURIES HERE, BUT ALSO NO WORD ON A SUSPECT. WE\\u2019RE WAITING TO HEAR MORE O Advertisement Baltimore police: Shots fired during movie inside Harbor East Cinemas Baltimore City police confirm that someone fired a gun inside a theater at Harbor East Cinemas. No injuries have been reported, and there is no information on a suspect.\\\"We're in the front row, in theater 3, and it's about 25 minutes into the movie, just getting started -- gory and good, which you want from a horror movie -- and then we hear, 'pop, pop, pop,' and I looked over to my left, the other side of the front row, and that's when I saw the muzzle flares and that's when we were like, 'And, we're out of here,'\\\" said Alex Lokey, a witness.Others told 11 News they were evacuated from the movie theater.This story will be updated when more information becomes available. BALTIMORE \\u2014 Baltimore City police confirm that someone fired a gun inside a theater at Harbor East Cinemas. No injuries have been reported, and there is no information on a suspect. Advertisement \\\"We're in the front row, in theater 3, and it's about 25 minutes into the movie, just getting started -- gory and good, which you want from a horror movie -- and then we hear, 'pop, pop, pop,' and I looked over to my left, the other side of the front row, and that's when I saw the muzzle flares and that's when we were like, 'And, we're out of here,'\\\" said Alex Lokey, a witness. Others told 11 News they were evacuated from the movie theater. This story will be updated when more information becomes available.\",\n",
      "                    \"title\": \"Gunshots fired inside Harbor East movie theater\"\n",
      "                },\n",
      "                {\n",
      "                    \"publication_date\": \"2023-12-03\",\n",
      "                    \"snippet\": \"AND THE SUSPECT THEN RAN AWAY. NEW THIS MORNING, CANINE SHOT. WE\\u2019VE LEARNED A POLICE DOG WAS HURT ALONG WITH ITS HANDLER IN AN INCIDENT IN NORTH FOR SALES LAST MONTH. THE BLACK FRIDAY SHOOTING HAPPENED AFTER POLICE RESPONDED TO A DOMESTIC DISTURBANCE ON ARLINGTON AVENUE. NOW, WE HAD KNOWN THAT THE SUSPECT ALLEGEDLY FIRED AT AND HIT AN OFFICER. NOW, A FACEBOOK POST FROM THE NORTH FOR SALES CANINE UNIT SAYS THE POLICE DOG CHASE WAS INJURED TO THE POST SAYS THE PAIR HAS NO REGRETS, READING IN PART, QUOTE, THE ROAD TO RECOVERY WILL BE A LONG ONE, BUT IT WILL NOT SLOW US K9 officer injured alongside handler in Nov. 24 North Versailles shooting Updated: 1:41 PM EST Dec 3, 2023 We've learned a police dog was hurt, along with its handler, in an incident in North Versailles last month.The Black Friday shooting happened after police responded to a domestic disturbance on Arlington Avenue. We had known that the suspect fired at and hit an officer.Now, a Facebook post published Saturday from the North Versailles K9 unit says the police dog Chase was shot, too.The K9 unit did not say to what degree that K9 Chase had been wounded. However, the post said the pair has no regrets, reading in part, \\\"The road to recovery will be a long one, but it will not slow us down.\\\"This is also the first confirmation of the name of the officer shot, Steven Shawley. According to the unit's Facebook page, K9 Chase had been on the force for just a month when the shooting happened. The police department had said in an earlier post that Chase is a one-year-old male Belgian Malinois from Poland.The suspect in the case, Lamont Fields, is facing several charges. We've learned a police dog was hurt, along with its handler, in an incident in North Versailles last month. The Black Friday shooting happened after police responded to a domestic disturbance on Arlington Avenue. We had known that the suspect fired at and hit an officer. Now, a Facebook post published Saturday from the North Versailles K9 unit says the police dog Chase was shot, too. The K9 unit did not say to what degree that K9 Chase had been wounded. However, the post said the pair has no regrets, reading in part, \\\"The road to recovery will be a long one, but it will not slow us down.\\\" This is also the first confirmation of the name of the officer shot, Steven Shawley. According to the unit's Facebook page, K9 Chase had been on the force for just a month when the shooting happened. The police department had said in an earlier post that Chase is a one-year-old male Belgian Malinois from Poland. This content is imported from Twitter. You may be able to find the same content in another format, or you may be able to find more information, at their web site. The suspect in the case, Lamont Fields, is facing several charges.\",\n",
      "                    \"title\": \"Nov. 24 North Versailles shooting left K9 officer wounded\"\n",
      "                },\n",
      "                {\n",
      "                    \"publication_date\": \"2023-12-04\",\n",
      "                    \"snippet\": \"1 Man Killed in Southern Idaho Shooting Monday Morning One man is dead after a routine traffic stop in Southern Idaho turned into a shootout with police. REPORT: 1 Dead After Officer Involved Shooting in Southern Idaho The Eastern Idaho Critical Incident Task Force is investigating an officer-involved shooting in Idaho Falls Monday Morning. A little after 1 AM, an Idaho State Police trooper pulled over a vehicle for a traffic violation. Idaho Falls Police were called to assist with the incident and were advised that a 34-year-old male passenger in the vehicle had fired a gun at them and then ran from the car. From the police report: - The trooper and arriving IFPD officers chased the man on foot. At this time, it is believed that the ISP trooper and two IFPD officers exchanged gunfire with the man during the incident which concluded in the area of the car dealership on the corner of Pancheri Drive and Yellowstone Highway. The exact dynamics of the incident remain under investigation. - After the incident, law enforcement provided the man with emergency medical aid. EMS from Idaho Falls Fire responded to assist as well, but the man died at the scene. The man's name will not be released at this time to allow for proper notification of next of kin and necessary investigative procedures. Police will release more information at a later time, when appropriate. Until then the incident is being investigated by a Critical Incident Task Force comprised of members from the local law enforcement working with the Prosecutor\\u2019s Office. The 34-year-old passenger is dead and no law enforcement officers were injured. RELATED STORY: 2 Dead After Shooting in Twin Falls Idaho Drivers: We're All BEGGING You to Stop Doing These 8 Things Gallery Credit: Stephanie Gull \\u00f0\\u00a8The 7 Most Forgotten and Ignored Idaho Traffic Laws Gallery Credit: Ryan Valenzuela\",\n",
      "                    \"title\": \"Officer Involved Fatality Shooting in Idaho Falls\"\n",
      "                },\n",
      "                {\n",
      "                    \"publication_date\": \"2023-12-01\",\n",
      "                    \"snippet\": \"Elk Grove police fatally shoot man they say was wielding knife Elk Grove police officers responded to reports of a man with a knife in the 200 block of Fern Drive, and once at the scene, a man exited a house with a knife, police said. He then confronted police in a nearby yard, and during the exchange, police shot him. Elk Grove police officers fatally shot a man who they say was armed with a knife Friday night, according to a news release from the department. Elk Grove police officers responded to reports of a man with a knife in the 200 block of Fern Drive, and once at the scene, a man left a house with a knife, police officials said. He then confronted police in a nearby yard, and during the exchange, police shot him. The man was taken to a nearby hospital where he was pronounced dead, according to the news release. Three police officers were also taken to hospitals for observation. Police have said the area is safe, and there is no \\u00e2active public safety risk,\\u00e2 according to a Facebook post. Elk Grove police are conducting a criminal investigation, and the regional Major Case Assistance Team is investigating the shooting.\",\n",
      "                    \"title\": \"Elk Grove police fatally shoot man they say was wielding knife\"\n",
      "                },\n",
      "                {\n",
      "                    \"publication_date\": \"2023-12-04\",\n",
      "                    \"snippet\": \"The Kansas Bureau of Investigation said a man was shot by police officers early Monday during a confrontation in Kansas City, Kansas, and he was arrested after being treated at a hospital. The KBI said police were called to an apartment complex near 61st Street and Leavenworth Road around 3 a.m. on a report of someone firing shots in the parking lot.\\u00c2 Officers saw a man with a rifle leaning out of a second floor window.\\u00c2 The man pointed a rifle at an officer and another officer fired a shot, striking the man in the shoulder. The 21-year-old man was taken to a hospital, and he was released later in the day.\\u00c2 He was then booked into jail for aggravated assault of a law enforcement officer.\\u00c2 The KBI is investigating. It looks like you are not a member of VIP Club yet. Please fill out the form below to access the page and join the VIP Club\",\n",
      "                    \"title\": \"Man arrested after officer-involved shooting in KCK\"\n",
      "                },\n",
      "                {\n",
      "                    \"publication_date\": \"2023-12-03\",\n",
      "                    \"snippet\": \"NEW YORK \\u2014 Four family members, including two children, were stabbed to death at a home in Queens early Sunday, police said. The suspect also started a fire at the house and then stabbed two police officers who arrived at the scene before being shot dead by one of them, according to New York Police Department officials. About 5:10 a.m. police received an emergency call from a young woman who said that her cousin was killing her family members, the chief of department, Jeffrey Maddrey, said at a news conference Sunday morning. Two officers who responded to the location, 467 Beach 22nd St. in the Far Rockaway neighborhood, saw a man leaving with luggage, Maddrey said. When they stopped him, the man stabbed one officer in the head and the other in the neck with a steak knife before one of the officers shot him. The suspect was taken to a hospital, where he was pronounced dead. The wounds of the officers were not life-threatening, Maddrey said at the news conference, which was in front of Jamaica Hospital Medical Center, where they were being treated. As other officers arrived, they found an 11-year-old girl lying in front of the house, and she was pronounced dead, Maddrey said. The house had been set on fire, and the officers could enter the home only after firefighters had extinguished the fire. They found three more victims inside two bedrooms at the back of the home: a 12-year-old boy, a 44-year-old woman and a man in his 30s, all of whom they believed had been stabbed to death, he said. Officers also found a 61-year-old woman, who had multiple stab wounds and was taken to Mount Sinai Hospital. It was unclear whether the same knife had been used for all the victims. Joseph Kenny, the department\\u2019s chief of detectives, identified the suspect as Courtney Gordon, 38, whom police believe was a resident of the Bronx and was visiting family members in Queens. Police said Sunday that the motive of the attack was under investigation and that the 9-1-1 caller was being questioned. This article originally appeared in The New York Times.\",\n",
      "                    \"title\": \"5 dead, including suspect, and 2 officers wounded in Queens stabbing\"\n",
      "                },\n",
      "                {\n",
      "                    \"publication_date\": \"2023-12-03\",\n",
      "                    \"snippet\": \"Police have been on the scene of an officer-involved shooting that happened Sunday afternoon in southeast Wichita. There was a report of officers in trouble around 2:45 p.m. in the 4200 block of East Gilbert, in a neighborhood northeast of the intersection of Lincoln and Oliver. An unidentified person was in very critical condition after the shooting. No other details have been released. It looks like you are not a member of VIP Club yet. Please fill out the form below to access the page and join the VIP Club\",\n",
      "                    \"title\": \"One person critical after officer-involved shooting in Wichita\"\n",
      "                },\n",
      "                {\n",
      "                    \"publication_date\": \"2023-12-03\",\n",
      "                    \"snippet\": \"AUSTIN, Texas (AP) \\u00e2 Police in Texas are trying to determine who injured three bystanders as officers shot and killed a man who pointed a firearm at them at a bar in an Austin entertainment district. Police said three officers fired at the suspect, who was shot multiple times late Saturday night. Interim Police Chief Robin Henderson said they were still trying to determine who shot the bystanders. She said there were indications that the suspect also fired his gun. Henderson said an employee at the bar along Sixth Street had alerted police to a man with a firearm in the bar. Henderson said that when police approached him, he pulled out the firearm and pointed it at officers and bar patrons. The suspect has not yet been identified. Henderson said that one of the bystanders had critical injuries while the other two had injuries that were not life threatening. Per department protocol, the three officers involved in the shooting will be placed on administrative duty. Henderson said that video from their body cameras will be released within 10 business days. Copyright \\u00a9 2023 The Associated Press. All rights reserved. This material may not be published, broadcast, written or redistributed.\",\n",
      "                    \"title\": \"3 bystanders were injured as police fatally shot a man who pointed his gun at a Texas bar\"\n",
      "                },\n",
      "                {\n",
      "                    \"publication_date\": \"2023-12-03\",\n",
      "                    \"snippet\": \"Police shot and killed a man suspected to be shoplifting after a \\u201cprolonged\\u201d fight in a north Spokane Walmart store on Sunday morning. Two officers were injured during a fight between the suspect and Spokane police officers, with one officer taken to a hospital, according to police Chief Craig Meidl. First-aid measures were performed on the suspect, but he \\u201csuccumbed to his injuries\\u201d on the scene, according to a news release. At 9:16 a.m., a Spokane police officer at the Walmart located at 9200 N. Colton St. became aware of the suspect in the process of \\u201ctaking things\\u201d from the store, Meidl said. The officer called for backup, and a second officer arrived. They contacted the suspect on the north side of the store, near the entrances, and tried to take him into custody. \\u201cAt that point a fight ensued; it was a very prolonged fight that continued into the store,\\u201d Meidl said. \\u201cDuring the process of that fight, one officer fired their weapon.\\u201d Officers put out a call that shots had been fired at 10:28 a.m. Meidl said he does not know how many shots were fired. The fight occurred in what Meidl said was \\u201ca very large area,\\u201d all within the Walmart. Officers located what appeared to be a firearm and ammunition belonging to the suspect, and police stun guns that appeared to have been deployed during the fight. The Walmart was evacuated; Meidl said he was not aware of any injured bystanders. Meidl said the Walmart will remain closed until responding officers investigate the scene, which was expected to take \\u201cseveral hours.\\u201d The Spokane Independent Investigative Response team is investigating the officer shooting. The officer who fired his weapon was placed on incident review leave, according to a news release. Both officers wore body cameras. The Spokane County Medical Examiner\\u2019s Office will release the man\\u2019s identity and cause and manner of death.\",\n",
      "                    \"title\": \"Shoplifting suspect shot and killed by police at Spokane Walmart store\"\n",
      "                },\n",
      "                {\n",
      "                    \"publication_date\": \"2023-12-03\",\n",
      "                    \"snippet\": \"LANSING, Mich. (WLNS) \\u2014 Lansing Police Department held a news conference Sunday regarding the deadly officer-involved shooting late Friday night in Lansing. Police shot Stephen Luis Romero, 33, during the response. Romero was later pronounced dead at the hospital, LPD Chief Ellery Sosebee said. At 11:19 p.m. Friday, Ingham County Central Dispatch received a 911 emergency call \\u201cfor a domestic assault in progress in the 1600 block of Massachusetts,\\u201d Sosebee said. Adding that at 11:23 p.m., officers were assigned to the call and began the response. A neighbor placed an emergency call at 11:24 p.m., saying they heard a gunshot and the sound of a woman crying. At 11:25 p.m., emergency dispatchers advised that the call was considered a shooting incident. Dispatch also said that \\u201ca female has been shot.\\u201d At 11:26 p.m., a witness told responders, \\u201cA woman is outside screaming she had been shot,\\u201d Sosebee said. At that point, LPD officers arrived on the scene, Sosebee said. The Chief said officers found a man standing next to a car with an open door in the driveway, with a woman sitting in the car seat by the open door. Officers gave repeated commands to the man \\u201cto show his hands and to get on the ground,\\u201d Sosebee said. During that encounter, police claim the man showed a gun, \\u201cand officers engage[d] him at that point.\\u201d At 11:27, he said, the officers told dispatch that shots had been fired. The officers approached the man and moved him away from the car, checking on the status of the woman in the car, who was the original caller. At that point, officers realized she had not been shot, police said. Officers began CPR on the man until the Lansing Fire Department arrived and took over before taking him to a hospital, police said. Chief Sosebee would not say whether Romero had shot at the officers or not, saying, \\u201cThat\\u2019s part of the investigation, and I don\\u2019t want to compromise the integrity of the case.\\u201d The Chief also said he could not release the information on whether anyone else was injured in the incident. Two LPD officers are now on paid administrative leave, Sosebee said. Michigan State Police is investigating the incident. Once MSP has gathered information and reviewed the video involved in the shooting, Sosebee will review and release the names of the officers involved, along with the video, he said.\",\n",
      "                    \"title\": \"Lansing Chief details officer\\u2019s actions during deadly police shooting\"\n",
      "                },\n",
      "                {\n",
      "                    \"publication_date\": \"2023-12-01\",\n",
      "                    \"snippet\": \"Elk Grove Village police fatally shoot man they say was wielding knife Elk Grove police officers responded to reports of a man with a knife in the 200 block of Fern Drive, and once at the scene, a man exited a house with a knife, police said. He then confronted police in a nearby yard, and during the exchange, police shot him. Elk Grove police officers fatally shot a man whom they say was armed with a knife Friday night outside a home in the northwest suburb. Jack Murray, 24, was shot by officers about 4 p.m. in the 200 block of Fern Drive, according to police and the Cook County Medical Examiner\\u00e2s Office. Officers were responding to reports of a man with a knife. Once officers arrived, Murray allegedly left a house with a knife and confronted police in a nearby yard, and during the exchange, police shot him. Murray was taken to a hospital where he was pronounced dead, police said. Three police officers were also taken to hospitals for observation. Afterward, police said there was no \\u00e2active public safety risk.\\u00e2 An attorney for Murray\\u00e2s family said in a statement that they weren\\u00e2t allowed back into their home late Friday, and that they had \\u00e2no reason to believe that the anything inside the Murrays\\u00e2 family home would be pertinent or relevant to any crime.\\u00e2 \\u00e2We hope to cooperate with the Elk Grove Village police to determine exactly what happened during this tragic incident,\\u00e2 attorney Antonio Romanucci said. Elk Grove police are conducting a criminal investigation, and the regional Major Case Assistance Team is investigating the shooting.\",\n",
      "                    \"title\": \"Elk Grove Village police fatally shoot man they say was wielding knife\"\n",
      "                },\n",
      "                {\n",
      "                    \"publication_date\": \"2023-12-01\",\n",
      "                    \"snippet\": \"INDIANAPOLIS \\u2014 Indianapolis police officers shot and killed a man late Thursday night. The incident started when they got a 911 call about a possible hostage situation in a semi-truck parked in the parking lot of a McDonald\\u2019s on the southwest side of the city. The officers got to the McDonalds near the I-69 and I-465 along Knight\\u2019s Way. \\u201cThe truck (in question) was pointed out to (officers) and they approached the truck, knocked on the door, and a observed male come out from the sleeping compartment of the semi cab,\\u201d said IMPD Asst. Chief Christ Bailey. He says the man, later identified as Lamont Bland, 60, looked at the officers and then retreated back into the sleeping compartment and pulled the curtain. That\\u2019s when Bailey says they heard a woman screaming calling out for help. Officers quickly got organized and tried to talk Bland out of the truck. The lead lieutenant at the scene led the effort. \\u201cThe lieutenant asked the individual to identify himself. He identified himself by first name. He was trying to build a rapport,\\u201d Bailey said. \\u201cThe individual kept saying that he had a knife to the woman\\u2019s throat. The woman kept saying she was bleeding.\\u201d Body camera footage caught the whole incident, according to Bailey. On that footage, he says you can see Bland on top of the woman in the back of the semi. At that point, he says a shot was fired by the officer. Bland was wounded and died soon afterward. The woman was treated for her injuries at the scene and then taken to IMPD\\u2019s Homicide Office to be interviewed about what happened. The lieutenant who fired the shot has been placed on administrative leave, which is standard procedure. Bailey said other officers involved will also get some time off to process the incident. This is the 17th time police have shot someone in Indianapolis this year. - NWS: Expect a Rainy Wednesday Across Indiana - Murder Suspect Kevin Mason Captured - FOUND: Momo the Monkey on the Loose: Indianapolis\\u2019 East Side on High Alert - Pacers GM: Contract Extension Talks with Buddy Hield Are \\u201cAt a Halt\\u201d But That Doesn\\u2019t Mean They\\u2019re Done - Pence: Trump Owes it to the American People to Debate - Second-Largest Jackpot in Hoosier Lottery History Won in Speedway - Teacher Fired After Complaining About Students in Recording - Indiana State Police K9 Koda Receives Life-Saving Armor - Indianapolis Firefighter Among More than 20 Arrested in Child Solicitation Sting - Cathedral High School on Lockdown Tuesday Afternoon - Kendall And Casey - Big Ten Championship Game's Future in Indianapolis Uncertain After 2024. - A new Buc-ee's will be less than 2 hours from Indy\",\n",
      "                    \"title\": \"Hostage Situation Ends With Police Fatally Shooting A Semi Driver\"\n",
      "                },\n",
      "                {\n",
      "                    \"publication_date\": \"2023-12-01\",\n",
      "                    \"snippet\": \"IMPD on fatal police shooting inside semitruck: \\u2018This officer saved a woman\\u2019s life\\u2019 One person dead in southwest side police shooting \\u2013 News 8 at 10:30 p.m. UPDATE: The Marion County Coroner\\u2019s Office identified the suspect shot and killed by police as 60-year-old Lamont Bland. INDIANAPOLIS (WISH) \\u2014 The male driver of a semitruck died in a police shooting Thursday night after a 911 caller told police they heard a woman yelling for help inside the parked vehicle near a restaurant on the southwest side of Indianapolis. Indianapolis Metropolitan Police Department says no officers were hurt. Medics treated the woman at the scene before she was taken to the downtown IMPD homicide office to be interviewed. Police hoped to learn the relationship between her and the driver. The name of the driver nor the woman were publicly shared Thursday night. IMPD was sent to a \\u201ccall for help\\u201d involving a hostage situation about 7:20 p.m. Thursday at McDonald\\u2019s, 4941 Knights Way. That\\u2019s in an area with restaurants, hotels and truck stops just southwest of the interchange for I-69 and I-465. Medics were called to the scene for a person shot just before 7:45 p.m. Thursday. Lt. Shane Foley of IMPD says officers arrived to learn of a disturbance inside the semitruck and then forced their way into the cabin. The officers saw what appeared to be a hostage situation, Foley says. Assistant Chief Chris Bailey described what happened during an impromptu news conference about 10:30 p.m. that aired live on News 8. He talked about a lieutenant who moved into the cab to try to talk to the driver before the fatal shooting. \\u201cTonight, this officer saved a woman\\u2019s life,\\u201d he said. Officers arrived and spoke with the 911 caller, who pointed out the semitruck. They knocked on the door and saw the driver come from behind a curtain that separates the driving compartment from the sleeping compartment. Police tried to talk to the driver, who briefly sat in the driver\\u2019s seat before returning back to the sleeping compartment. \\u201cThat\\u2019s when the officers heard themselves a female scream from the back of that truck,\\u201d Bailey said. Officers sat up around the semitruck and made announcements. Eventually, police decided to break out the driver\\u2019s-side window to better see into and hear from the cab. In addition to the curtain separating the compartments, a curtain also was over the driver\\u2019s-side window. Bailey said, \\u201cThe lieutenant at one point opened the door and began communicating with the male inside \\u2026 the truck. The lieutenant asked the individual to identify himself. The lieutenant identified himself by first name. He was attempting to build a rapport with this individual. This individual kept saying he had a knife to the woman\\u2019s throat. All the while, the woman could be heard screaming that she was bleeding and needed help. This went on for a few minutes. \\u201cThe lieutenant, in my opinion, bravely inched into the car on multiple occasions to move the curtain back so he could see and continue to try to communicate with the individual inside the cab.\\u201d IMPD later reported that the driver told officers multiple statements, including \\u00e2I\\u00e2m going to kill her,\\u201d \\u00e2I got a knife to her throat,\\u00e2 and \\u00e2You\\u00e2re gonna die.\\u00e2 Eventually, the lieutenant got inside the semitruck and gave the driver orders again. \\u201cYou can briefly see, on the bodycam, the individual on top of the woman in back of the car. A shot was fired by the officer. The suspect was deceased inside the cab of the truck,\\u201d Bailey said. The assistant chief says other officers then came and freed the woman from the semitruck. Officers were seeking other witnesses at the scene in addition to the 911 caller. IMPD about 8:45 p.m. Thursday was awaiting warrants to search the semitruck, but the investigators were inside the semitruck by 10:30 p.m. An IMPD news release issued about 11:20 p.m. said a razor blade with blood was found in the sleeping cabin. Multiple officers were equipped with body-worn cameras, which were activated.\\u00e2\\u00af As is standard procedure, investigations will look into what happened and the police procedures used. The lieutenant will be placed on administrative leave. Bailey says other officers on the scene also may receive time off to process what happened. The police shooting was the 17th in 2023. It\\u2019s the most police shootings since 20 were recorded in 2015. Police generally release the names of officers in the shootings about a week after they happen. Bodycam footage is usually shared a few weeks later. Earlier this month, IMPD revealed it\\u2019s reached out to the Washington, D.C.-based nonprofit Police Executive Research Forum to submit a bid to conduct a study on what\\u2019s causing so many police shooting to happen. However, that process has yet to come to fruition, Bailey said Thursday night. After another police shooting, IMPD Deputy Chief Kendale Adams spoke at an August event, where he acknowledged the need for a larger conversation about what it looks like to deal with mental health, disputes, and trauma. Photo from News 8 reporter Adam Pinsker\",\n",
      "                    \"title\": \"IMPD on fatal police shooting inside semitruck: 'This officer saved a woman's life'\"\n",
      "                },\n",
      "                {\n",
      "                    \"publication_date\": \"2023-12-03\",\n",
      "                    \"snippet\": \"LEE COUNTY, Fla. \\u2014 Authorities are conducting an investigation after an officer-involved shooting in Fort Myers left one man dead Friday night; the officer is now on paid administrative leave. The incident occurred at 3222 Stella Street at approximately 8:18 p.m. when the Fort Myers Police Department (FMPD) responded to a call reporting a man threatening a disabled woman with a gun. According to FMPD, an aggravated assault occurred, and the armed man retreated inside the home. Officers taped off the area, evacuated the surrounding homes, and tried to communicate with the man. 45 minutes later, the suspect walked to a window, showing the gun toward officers. He was then shot. Officers entered the home, initiating life-saving measures until Emergency Medical Services arrived. The man was pronounced dead at the hospital. As FMPD completed the active aggravated assault case, The Florida Department of Law Enforcement arrived on the scene to begin their investigation. Per department policy, the officer involved in the shooting has been placed on paid administrative leave. This is still an ongoing investigation. Count on NBC2 to keep you updated as more information is released.\",\n",
      "                    \"title\": \"Investigation underway after officer-involved shooting in Fort Myers\"\n",
      "                },\n",
      "                {\n",
      "                    \"publication_date\": \"2023-12-04\",\n",
      "                    \"snippet\": \"IMPD: Woman held hostage in semi \\u2018for hours\\u2019 before fatal police shooting INDIANAPOLIS (WISH) \\u2014 A woman involved in a fatal police shooting inside a semitrailer on Thursday says she was held hostage for hours before intervention, police say. The man who died was identified as 60-year-old Lamont Bland. Indianapolis Metropolitan Police Department provided the update from the woman on Monday. Officers were sent to a \\u00e2call for help\\u00e2 involving a hostage situation about 7:20 p.m. Thursday at McDonald\\u00e2s at 4941 Knights Way. That\\u2019s in an area with restaurants, hotels, and truck stops southwest of the I-69 and I-465 interchange. The 911 caller directed police to the semitrailer involved. Officers tried to speak with the truck driver, Bland, who briefly sat in the front seat before returning to the sleeping compartment of the truck that was covered by a curtain. After trying to speak with Bland, that\\u2019s when police say they heard the woman screaming from the back of the truck. Police set up a perimeter around the semitruck and made announcements. Eventually, police broke out the driver\\u2019s side window to better see and hear into the truck, as well as move the curtains blocking the view into the cab. IMPD says an officer tried to communicate with Bland and gain rapport, but Bland started making threats to kill the woman with a knife. The woman could be heard screaming for help during the encounter. Eventually, the officer made it into the truck, and found Bland on top of the woman. He fired his gun, fatally shooting Bland. After further investigation, detectives learned from the woman she had allegedly been pulled into the cabin of the semitrailer and held there against her will for hours. Police say she also told officers that the suspect, 60-year-old Lamont Bland, claimed she stole something from him. The woman said she had never met Bland before the shooting. IMPD says no officers were hurt. Medics treated the woman at the scene before she was taken to the downtown IMPD homicide office to be interviewed. As is standard procedure, investigators will look into what happened and the police procedures used. The lieutenant will be placed on administrative leave. IMPD says other officers on the scene also may receive time off to process what happened. This police shooting was the 17th in 2023. It\\u00e2s the most police shootings since 20 were recorded in 2015. Police generally release the names of officers in the shootings about a week after they happen. Bodycam footage is usually shared a few weeks later.\",\n",
      "                    \"title\": \"IMPD: Woman held hostage in semi 'for hours' before fatal police shooting\"\n",
      "                },\n",
      "                {\n",
      "                    \"publication_date\": \"2023-12-03\",\n",
      "                    \"snippet\": \"Police in New York said a man was killed by officers after a brutal knife attack that left four people dead, and three others, including two officers, injured in Queens early Sunday morning. While the details of what led to the knife attack are still unclear, police said they believe the suspect and the majority of the victims were all family members. Two of the victims were pre-teen children. During a news conference, New York Police Department Chief Jeffrey Maddrey said a 911 call came in just after 5 a.m. from a young woman who said her cousin was killing her family members. Two officers responded to a group of homes on E 22nd Street in the Far Rockaway neighborhood where the call came from. When they got to the home, they saw a man in the driveway carrying luggage who appeared to be leaving, Maddrey said. The officers approached the man and asked if he had seen or heard anything. Maddrey said the man drew a knife and stabbed one officer in the neck and the second officer in the head before one of them was able to take out their gun and shoot the attacker. Both officers, who have over a decade of service in the police force, were taken to a nearby hospital for treatment and are expected to be okay, Maddrey said. As police continued to investigate the scene, they found an 11-year-old girl who was dead from apparent stab wounds right outside of the home. A couch had been set on fire inside the home, preventing officers from getting inside until the fire department responded to put it out. Once they were able to enter, they found more victims. A 12-year-old boy, a man in his 30s and a 44-year-old woman were all found stabbed to death in bedrooms in the back of the home. A 61-year-old woman, also suffering from stab wounds, was taken from the home to a local hospital for treatment and is currently in critical condition, police said. The suspect was identified as 38-year-old Courtney Gordon. After he was shot by officers, he was pronounced dead at a local hospital. Police said Gordon had one prior arrest on record for strangulation in a domestic incident, but that incident occurred in the Bronx. It is believed he used a \\\"typical kitchen steak knife\\\" in the attack, according to police. The investigation is ongoing. Trending stories at Scrippsnews.com\",\n",
      "                    \"title\": \"4 killed, 3 injured after stabbing attack at a New York City home\"\n",
      "                },\n",
      "                {\n",
      "                    \"publication_date\": \"2023-12-04\",\n",
      "                    \"snippet\": \"Wichita police have released more information on a fatal officer-involved shooting that happened Sunday afternoon. Police said officers were sent to a report of a domestic disturbance in the 4200 block of East Gilbert, in a neighborhood northeast of the intersection of Lincoln and Oliver.\\u00c2 The officers were informed that a man involved in the disturbance was known to carry guns. Officers found the man standing in the street and they learned that he had been making suicidal statements.\\u00c2 \\u00c2 Officers wanted to search the man for weapons, but he did not cooperate and he pulled a handgun, holding it down to his side.\\u00c2 Police said he refused commands to drop the gun, then he raised the gun and pointed it toward one of the officers.\\u00c2 Another officer fired four times, with one shot hitting the man.\\u00c2 He was taken to a hospital where he was pronounced dead shortly after 3 p.m. The man was identified as 50-year-old Daniel Stowe of Wichita.\\u00c2 The Sedgwick County Sheriff\\u2019s Office will investigate the shooting, and its investigators recovered a loaded Glock 27 at the scene.\\u00c2 \\u00c2 Information will be presented to the Sedgwick County District Attorney\\u2019s office when the investigation is complete. [ photo is from a WPD Axon camera ]\",\n",
      "                    \"title\": \"Man dies after officer-involved shooting in Wichita\"\n",
      "                },\n",
      "                {\n",
      "                    \"publication_date\": \"2023-12-01\",\n",
      "                    \"snippet\": \"A San Antonio man remains in a local hospital bed awaiting his formal arrest after an officer-involved shooting Wednesday, November 28, on the Southwest Side of San Antonio. San Antonio Police Department officials say shots were fired when David Trevi\\u00f1o, 49, fled an attempted stop, and information obtained by MySA indicates Trevi\\u00f1o has a list of criminal charges and was wanted for an aggravated assault with a deadly weapon warrant from two days prior, November 26. According to a statement from the San Antonio Police Department, officers attempted to stop a vehicle on the frontage road of I-35 near Somerset Road on the Southeast Side of San Antonio around 7:30 p.m. Wednesday because they had reason to believe Trevi\\u00f1o was in the vehicle. The vehicle carrying Trevi\\u00f1o pulled over and he fled the scene. \\u201cDuring the foot chase, the suspect pointed a handgun at the officers and fired a round. Six officers pursuing the suspect returned fire and struck the suspect several times,\\u201d a statement from the San Antonio Police Department reads. \\u201cThe suspect was transported to a local hospital in critical condition. Three passengers in the vehicle were detained at the scene. It was later discovered that the round fired by the suspect grazed an officer\\u2019s body armor plate. The officer did not sustain any injuries.\\u201d Advertisement Article continues below this ad More For You Court records obtained by MySA show Trevi\\u00f1o was wanted by law enforcement for an aggravated assault with a deadly weapon charge from November 26 after he reportedly opened fire on a generator his neighbor of 20 years owned. The incident occurred on the city\\u2019s near Eastside at an apartment complex in the 200 block of Sandmeyer Street. Trevi\\u00f1o\\u2019s neighbor identified him as the man who shot at his generator through a single photo shown to the victim. However, this isn\\u2019t the first run in with the law Trevi\\u00f1o has had. Bexar County Court records show the San Antonio man has criminal charges running back to 1993, including several family violence offenses, aggravated robbery charges, other more minor theft charges, and a charge of illegally possessing a firearm as a convicted felon. Just in 2023, Trevi\\u00f1o faces five charges, including a June 14 charge of making terroristic threats against the mother of his two children. \\\"On the morning of June 14, the victim telephoned the defendant, after being informed [Trevi\\u00f1o] had been hospitalized,\\u201d a warrant for Trevi\\u00f1o\\u2019s arrest from June reads. \\\"During their conversation, [Trevi\\u00f1o] became upset about losing access to their children. [Trevi\\u00f1o] told the victim, \\u2018I\\u2019m going to blow your brains out,\\u2019 and \\u2018I\\u2019m going to drag you from your office. You think I\\u2019m playing.'\\\" Advertisement Article continues below this ad While Trevi\\u00f1o remains in a San Antonio hospital as of Thursday, November 30, according to SAPD officials, he is expected to be booked into the Bexar County Jail once he\\u2019s released from medical care. According to court records, he\\u2019s facing five criminal charges upon his admission into the jail culminating in a $780,000 bond.\",\n",
      "                    \"title\": \"San Antonio man shot by officers faces wave of criminal charges\"\n",
      "                },\n",
      "                {\n",
      "                    \"publication_date\": \"2023-12-02\",\n",
      "                    \"snippet\": \"KNOXVILLE, Tenn. (WATE) \\u2014 The Knoxville Police Department is investigating an officer-involved shooting that happened early Saturday morning near the West Hills community. An officer responded to a home on 6800 block Pemmbrooke Shire Lane around 1:20 a.m. after 911 Dispatch received a text message request for emergency response to a home in that area, the department said in a release. After arriving at the home, the officer was confronted by a man who had a firearm. While seeking cover, Knoxville Police said the officer fired one time. No injuries were reported. Additional officers responded to the scene and the man was taken into custody without further incident, KPD said. Knoxville Police consulted the District Attorney\\u2019s Office, and because no one was struck by the gunfire, it was determined that the case would be investigated by the KPD Investigations Bureau. The involved officer was placed on a routine administrative leave. The department\\u2019s Office of Professional Standards also began an administrative investigation to ensure that all departmental policies and procedures were followed. This is a developing story. Download the WATE 6 News app or sign up for our email alerts for updates. The involved subject was taken to an area hospital for evaluation. KPD is also consulting with the DA\\u2019s office regarding changes.\",\n",
      "                    \"title\": \"Knoxville Police investigate shooting involving an officer near West Hills\"\n",
      "                },\n",
      "                {\n",
      "                    \"publication_date\": \"2023-12-03\",\n",
      "                    \"snippet\": \"Five family members have died, including one deceased perpetrator who police say is from the Edenwald section of The Bronx and is a cousin to some of the other deceased family members, following a multiple stabbing incident, residential fire, and police-involved shooting in the Far Rockaway section of Queens in the early hours of Sunday morning, Dec. 3. Two police officers and another family member were also injured during the incident. During a press conference held later on Sunday, NYPD Chief of Department Jeffrey Maddrey was joined by NYPD Chief of Detectives Joe Kenny, NYPD Chief John Chell, Kevin Williams, NYPD assistant chief of Patrol Borough Queens South, the department\\u2019s chief surgeon, doctors from Jamaica hospital, and Pat Hendry, president of the Police Benevolent Association, and provided an overview of the incident. Maddrey said that at around 5:10 a.m. on Sunday morning, at 467 Beach 22nd Street, situated at the end of a driveway adjacent to four to five other homes in a residential area of the Far Rockaway section of Queens, officers received a 911 call regarding an assault in progress. \\u201cBasically, a young female caller stated that her cousin is killing her family members,\\u201d Maddrey said. \\u201cTwo of our members from the 101 Precinct, a 28-year-veteran, and a 16-year-veteran in a marked vehicle doing patrol responded to the location.\\u201d Maddrey continued, \\u201cThe officers, they pull up to the driveway. As they get to the driveway, they see a male walking out. He\\u2019s carrying luggage. Our officers asked the male a question or two. That encounter lasted about 10 seconds, when the male draws a knife on the officers. He stabbed one officer in the neck / chest area. He strikes the second officer in the head. Our 28-year-veteran is able to withdraw his firearm. He\\u2019s able to discharge his weapon to stop the assault and he was able to stop the perpetrator.\\u201d Maddrey said the two officers were transported to Jamaica hospital in critical but stable condition, and the perpetrator was also hospitalized but was pronounced deceased on arrival. He said additional responding NYPD and EMS units arrived to assist with the transfer of the injured to hospital and continue the investigation. He said officers discovered a young girl, aged 11, laying in front of the house who died from her injuries (stab wounds). \\u201cThey were not able to enter the home because there was a fire inside the living room, the foyer area,\\u201d Maddrey said. \\u201cFDNY responded. They were able to put out the fire.\\u201d He said a 61-year-old woman found at the home was also removed to New York-Presbyterian Queens Hospital in critical condition. \\u201cOnce the fire was extinguished, and we were able to get into the apartment, we found another three victims, all dead,\\u201d Maddrey said, adding that so far, police believe all the victims died from stab wounds and that the investigation was ongoing. He said that the weapon used to injure the officers was a typical kitchen steak knife and was the only weapon recovered from the scene. He added that their investigation will determine if this was the same weapon that was used to injure all the victims. Kenny confirmed that the deceased perpetrator has been identified as Courtney Gordon, 38, from the Edenwald section of The Bronx. \\u201cHe has one prior arrest, and that was for a strangulation domestic violence incident that took place in The Bronx,\\u201d he said. \\u201cHe has nothing any history or any contact with the police that bring us back to this location on Beach 22 Street. It seems he\\u2019s a Bronx resident that was visiting family members at this location.\\u201d Norwood News later followed up with the Bronx District Attorney\\u2019s Office to obtain details of the prior DV case. A representative for the DA replied, saying, \\u201cThe case is sealed.\\u201d It\\u2019s possible this is in order to protect the identity of the victim. We asked for the reason and will update this story upon receipt of any further information. Asked if police knew what triggered the rampage, Kenny said they just had the 911 caller who was at stationhouse being interviewed, and who they said may be able to shed some light on what occurred. The victims were only identified by their ages and gender i.e. a 12-year-old boy, a 44-year-old woman, a man in his 30s found in the back bedrooms of the house, the 11-year-old girl who was found in front of location who police said was transported to Long Island Medical Center-Cohen, and the 61-year-old woman who was currently at Mount Sinai Hospital in critical condition. Of the perpetrator, Kenny added, \\u201cIt seems that he lit the couch at the front of the location on fire as he was leaving.\\u201d Maddrey added that on arrival at the location, the officers had asked the perpetrator, \\u201cHey, did you hear anything? Do you know what\\u2019s going on?\\u201d He said the man sort of nodded before drawing his knife and immediately attacking both officers. Police thanked the doctors and staff of Jamaica Hospital for the care shown to the two officers who they said are expected to survive. \\u201cBut listen, these are two experienced police officers, a 28-year-veteran, a 16-year-veteran, working the midnight shift in the Rockaways,\\u201d Maddrey said. \\u201cI really have to commend them. They did an excellent job. You know, they could have easily let this person walk past him with his luggage. Instead they stopped, asked a couple of questions, tried to gain some intel before they walked right up in there. Unfortunately, they were met with the perpetrator in this incident. He went right at them.\\u201d Hendry also said the PBA was truly thankful to the hospital staff. \\u201cThis shows that police officers never know what they\\u2019re responding to, what\\u2019s awaiting for them on that scene,\\u201d he said. \\u201cThis scene was chaos; multiple victims, a house on fire, and a madman on a rampage, on a mission, and thankful that these police officers showed up. Imagine what could have happened if these police officers weren\\u2019t there. This madman tried to kill, after he killed others, a New York City police officer.\\u201d Hendry continued, \\u201cThe skill that this police officer had, shooting and stopping the threat after he was being stabbed, unbelievable skill. I know both these police officers personally; an unbelievable job, true professionals, just great men who were doing their job, and again, thank God they were there. Those who say that police officers shouldn\\u2019t be out on our street. I say to them, thank God that these police officers responded. How many more victims could there have been if these skilled, professional police officers did not show up to this scene?\\u201d Local services for those affected by domestic or gender-based violence are available in The Bronx. If you or someone you know is experiencing domestic or gender-based violence, call 311 and ask to be connected to a NYC Family Justice Center or walk-in Monday to Friday, 9 a.m. to 5 p.m. Call the NYC 24/7 Domestic Violence Hotline on 1-800-621-4673, or visit the NYC Mayor\\u00e2s Office to End Domestic and Gender-Based Violence\\u00c2 for more information. As reported, Freedom Youth NYC, located at\\u00c2 Freedom Youth Family Justice Center\\u00c2 in The Bronx, works with youth and adults in The Bronx and elsewhere, providing impartial support to victims of intimate partner violence. Their website is: https://freedomyouthnyc.com/. If you are in immediate danger, if you can, dial 911. Anyone with information regarding this incident is asked to call the NYPD\\u2019s Crime Stoppers Hotline at 1-800-577-TIPS (8477) or for Spanish, 1-888-57-PISTA (74782). The public can also submit their tips by logging onto the Crime Stoppers website at https://crimestoppers. All calls are strictly confidential. *David Greene contributed to this story.\\u00c2\",\n",
      "                    \"title\": \"UPDATE Edenwald Man Shot Dead by Police after Apparent Multiple Stabbing of Family Members in Queens Home\"\n",
      "                },\n",
      "                {\n",
      "                    \"publication_date\": \"2023-12-01\",\n",
      "                    \"snippet\": \"Man killed in officer-involved shooting identified Published 12:10 am Friday, December 1, 2023 KANNAPOLIS \\u2014 The man killed in an officer-involved shooting on Wednesday has been identified. Lamar Deshawn Young, 33, was killed after police say he fired at them when they attempted to arrest him, according to a spokesperson for the Cabarrus County Sheriff\\u2019s Office. Police attempted to Young at a location in the 3100 block of Bellwood Place, where he allegedly believed he was meeting a 15-year-old female for sex. Upon the suspect entering the home, officers reportedly attempted to place him in custody. Reports indicated that he resisted arrest, leading to him allegedly drawing a weapon and firing at the officers. Young had been released from federal prison in January and was required to wear a GPS ankle monitor at the time of the shooting, according to the spokesperson. According to the North Carolina Department of Adult Corrections, Young had previously served time for manslaughter and a drug-related charge. The manslaughter charges relate to a shooting in 2009 that left a man dead in Concord. The shooting is being investigated by the North Carolina State Bureau of Investigation to ensure all polices and procedures were correctly followed. All officers involved in the incident have been placed on administrative leave in accordance with policy for both the sheriff\\u2019s office and police department for all officer-involved shooting incidents, according to the release. Once the SBI investigation is completed, all information will be forwarded to the district attorney\\u2019s office for review.\",\n",
      "                    \"title\": \"Man killed in officer-involved shooting identified\"\n",
      "                },\n",
      "                {\n",
      "                    \"publication_date\": \"2023-12-04\",\n",
      "                    \"snippet\": \"LANSING, MI \\u00e2 Police have identified a man shot by officers in Lansing. According to WILX-TV in Lansing, Stephen Ruis Romero was shot around 11:26 p.m. after police responded to the 1600 block of Massachusetts Avenue on Dec. 1. Two Lansing police officers have been placed on leave, per department policy. Police told the TV station that Romero was standing next to a car with an open door in the driveway when officers arrived. A woman was sitting in the car. Police told Romero to show his hands and get on the ground, but he allegedly presented a gun and the officers fired. Romero was transported to a local hospital where he was later pronounced dead. A handgun was later found at the scene. No one else was injured, police said. The Michigan State Police are investigating the shooting. Most Popular Stories by Brandon Champion - Michigan AG accuses parents of abuse, adopting nearly 30 kids for financial gain - Central Michigan QB to transfer, several schools reportedly interested - Police in Northern Michigan investigating reports of vehicles with punctured gas tanks - 6 cozy small towns to visit in Michigan this winter - Police identify man who died after being shot by officers in Lansing\",\n",
      "                    \"title\": \"Police identify man who died after being shot by officers in Lansing\"\n",
      "                },\n",
      "                {\n",
      "                    \"publication_date\": \"2023-12-01\",\n",
      "                    \"snippet\": \"San Antonio Police: Shooting victim found pinned to stairwell at North Side apartment, search for shooter underway December 1, 2023 7:38AM CST SAN ANTONIO (KTSA News) \\u2014 A shooting victim is in critical condition and the search for whoever pulled the trigger continues. FOX 29 is reporting that the shooting happened at around 11:30 p.m. on Thursday at the Vecina Apartments on the far North Side. Upon arrival, San Antonio police say they found the victim, reported to be a 20 year-old male, pinned to a stairwell. He had been shot several times. Investigators have not released a description of the shooter, but were told by witnesses that they sped away in a dark colored SUV. The victim\\u2019s name hasn\\u2019t been released. This is a developing story and KTSA News will give more details when possible. More about:\",\n",
      "                    \"title\": \"San Antonio Police: Shooting victim found pinned to stairwell at North Side apartment, search for shooter underway\"\n",
      "                },\n",
      "                {\n",
      "                    \"publication_date\": \"2023-12-03\",\n",
      "                    \"snippet\": \"NEW YORK (TND) \\u2014 Four people, including two children, were stabbed to death at a home in New York, police announced Sunday morning. The New York Police Department said 38-year-old Courtney Gordon was shot and killed at the scene after he attacked two officers outside the house. Police didn't identify the victims by name but described them as an 11-year-old girl, a 12-year-old boy, a 44-year-old woman, and a man in his 30s. A fifth person, a 61-year-old woman, was stabbed multiple times and taken to a hospital, where police said she is in critical condition. Chief of Department Jeffrey Maddrey broke the news at a media briefing from the Jamaica Hospital Medical Center. He said a \\\"young female\\\" called 911 around 5:10 a.m. local time and told dispatchers her cousin was killing family members in a Queens home. Maddrey said when police arrived at the scene, they saw a man who was carrying luggage and walking down the driveway. The man then stabbed one of the officers in the neck and chest before slashing the other officer in the head. Police said one of the officers shot the suspect. He was taken to the Jamaica Hospital Medical Center and pronounced dead. Maddrey said a young girl was found dead outside the home, which was on fire. Chief of Detectives Joe Kenny said investigators believe the suspect set fire to a couch inside the home after the murders. Once the fire department put out the fire, police went inside the home and found three more bodies, as well as the fifth victim. Maddrey said police found what they believe is the murder weapon -- a steak knife -- in the house. The investigation will determine if this was used to harm all the victims,\\\" Maddrey said. Kenny said Gordon had one previous arrest, as he was charged in connection to a strangulation/domestic violence incident in the Bronx. \\\"It seems he was a Bronx resident who was visiting family members at this location,\\\" Kenny said. The president of the Police Benevolent Association of the City of New York also spoke at the briefing. He described the suspect as a madman and praised responding officers, who included a a 28-year veteran and a 16-year veteran. \\\"This scene was chaos -- multiple victims, a house on fire, and a madman on a rampage, on a mission,\\\" he said. \\\"I'm thankful that these police officers showed up. Imagine what could have happened if these police officers weren't there.\\\" \\\"This madman tried to kill -- after he killed others -- a New York City police officer. The skill that this police officer had (by) shooting and stopping the threat after he was being stabbed -- unbelievable skill. I know both these police officers personally. (They) did an unbelievable job. True professionals,\\\" he continued. \\\"(They) are great men who were doing their jobs. And again, thank God they were there ... how many more victims could there have been if these skilled, professional police officers did not show up to this scene,\\\" he added.\\\" Maddrey said the officers are recovering at Jamaica Hospital Medical Center while the investigation continues to be ongoing. \\\"These are two experienced police officers ... they did an excellent job,\\\" he said.\",\n",
      "                    \"title\": \"'Madman' kills 4, including 2 children, at New York home, police say\"\n",
      "                },\n",
      "                {\n",
      "                    \"publication_date\": \"2023-12-03\",\n",
      "                    \"snippet\": \"SPOKANE, Wash. - One man is dead, and two officers are injured after an officer shot at a suspected shoplifter at the Walmart on north Colton. In a press conference on Sunday, Spokane Police Department (SPD) Chief Meidl said that a suspect was accused of shoplifting at around 9:15 a.m. At some point, SPD called for backup, and then, after what police say was a long battle between the suspect, an officer shot the suspect an unknown amount of times at 10:28 a.m. At some point, a taser was also fired during this incident. The suspect was pronounced dead on the scene. Near the scene, police found a gun and ammunition they believe belonged to the suspect. Two officers were injured during this incident; one was taken to the hospital. SPD says the officers were not shot, but the extent of their injuries is unknown. Walmart has been evacuated due to an incident, and there is no estimated time of reopening. The Spokane Independent Investigative Response (SIIR) team will investigate this, with the Spokane County Sheriff\\u00e2s Office (SCSO) leading that team in this shooting. As per Washington law, the Spokane Police Department will not have any hand in this investigation. This is a developing story and will be updated as information comes in.\",\n",
      "                    \"title\": \"Suspect dead, 2 officers injured following a shooting in north Spokane\"\n",
      "                },\n",
      "                {\n",
      "                    \"publication_date\": \"2023-12-04\",\n",
      "                    \"snippet\": \"A man in New York reportedly stabbed four people with a steak knife, including an 11-year-old girl and a 12-year-old boy. Shortly thereafter, police arrested the man on Sunday morning (local time) and killed him, investigators said. The 38-year-old is said to have committed the crimes in Queens and then set a sofa on fire. The police were said to have received a call from a teenage girl who was connected to the alleged perpetrator. She called for help and said her cousin was killing family members, the New York Daily News reported. When the police arrived, the man punched one of the investigators in the face and stabbed another between the neck and chest. Then a 28-year-old police officer shot him. Both investigators are in the hospital and their lives are not in danger. The crime occurred in the Far Rockaway area, south of John F. Kennedy Airport, about an hour\\u2019s drive from downtown Manhattan. (DAP/EPA) You may also be interested in: Nine people were killed in an attack on a mine in Peru. The Interior Ministry of the Andean country said that armed men entered a hole in the province of Bataz on Saturday. The criminals attacked the security forces of the Poderosa mining company, took four hostage and set off explosions. 15 people were injured and seven people were arrested. The police reportedly managed to bring the situation under control. \\u201cTypical entrepreneur. Lifelong beer expert. Hipster-friendly internet buff. Analyst. Social media enthusiast.\\u201d\",\n",
      "                    \"title\": \"New Yorker stabs four people and is shot by a police officer\"\n",
      "                },\n",
      "                {\n",
      "                    \"publication_date\": \"2023-12-03\",\n",
      "                    \"snippet\": \"Police in Pulaski County investigated seven homicides during November, placing the month's death toll one below October's total, but higher than in September. Six of the killings were in Little Rock, and one was in North Little Rock. So far this year, law enforcement officers have investigated 55 homicides in Little Rock, 19 in North Little Rock, two in Sherwood, one in Jacksonville and six in the unincorporated areas of the county. The killings in the unincorporated areas include a double homicide being investigated by the Arkansas State Police because it was initially thought to be outside the jurisdiction of the sheriff's office. In the capital city, November's death toll was one higher than the one reported last November but equal to the total reported in November 2021. The last three Novembers have all been deadlier than November 2020, when just two slayings were reported in the city. By the end of this November, the 55 homicides in Little Rock represented a roughly 27% decrease from the 75 reported in the first 11 months of 2022. That year, the number of killings in Little Rock reached 81, surpassing the previous record of 76 reported in 1993. North Little Rock's single homicide made last month one of the least deadly months so far this year in the city. The total was notably lower than the five homicides reported last November and the three reported in both November 2021 and November 2020. In the first 11 months of 2022, North Little Rock police investigated 21 homicides, translating to a roughly 9% decrease in killings in the city so far this year. The Pulaski County sheriff's office has so far this year also marked a drop in homicides, going from nine killings by the end of November 2022 to four so far this year, a decrease of about 55%. The youngest person killed last month was 17 and the oldest was 47, placing the average age of a homicide victim in November -- 28 years old -- slightly below the average of about 31 across the first 11 months of 2023. All of the people killed in November were Black. It was the fifth month this year in which all of the month's homicide victims were Black. So far this year, 70 -- about 83% -- of homicide victims were Black, while 11 -- about 13% -- were white and 3 -- about 4% -- were Hispanic. The rate at which Black people are killed in Pulaski County is more than double their proportion of the population in Little Rock -- 41% -- and Pulaski County -- 39% -- and a little less than double their proportion in North Little Rock, where they make up 44% of the population, U.S. Census Bureau records show. All but one of the people killed in November were men. So far this year, 71, or about 85%, of those killed were men, while 13, or about 15%, were women. Every one of the people killed in November died of gunshot wounds. Of the 79 homicides so far this year in which authorities have provided a cause of death, 68, or 86%, were shooting deaths. The first homicide of the month came Nov. 4, when Little Rock police investigated the killing of Maryam Ballard, 47, of North Little Rock, who was found shot dead in the road near 2407 S. Cross St. Detectives had yet to publicly identify any suspects in Ballard's killing by Saturday. On Nov. 5, Little Rock officers responding to a report of a shooting at The Canopy apartments at 9201 Kanis Road located Carlos Thurman, 19, of Little Rock shot. Thurman was taken to an area hospital but died of his wounds. Authorities had not publicly identified any suspects in Thurman's slaying by Saturday. Little Rock police on Nov. 13 responded to a report of a shooting outside the Amazon Fulfillment Center at 7001 Zeuber Road, where they found Xanus Robinson, 18, of Jacksonville shot. Robinson died of his wounds at an area hospital. Police had yet to publicly identify any suspects in Robinson's killing Saturday. On Nov. 18, Little Rock police responding to a report of a shooting at the West Park Executive Building at 7101 W. 12th St. found Marcus Marbley, 17, of Little Rock shot dead in a vehicle outside the office building. Detectives determined the shooting had happened on the fourth floor of the building, and made contact with three other shooting victims who had been injured and gone to area hospitals for treatment after the shooting. Police had yet to publicly identify any suspects in Marbley's slaying Saturday. On Nov. 20, Little Rock police responding to a report of a person shot outside the Citgo convenience store at 5924 Baseline Road located Robert Overton, 28, who died of his wounds at the scene. While gathering evidence and reviewing surveillance footage from the area, detectives observed a Nissan Maxima that had been in the area of the shooting for up to an hour before Overton's killing, an affidavit written by a detective states. The person who killed Overton fired from the window of the Nissan, which is registered to Joseph Walker, 40, of Sherwood, the affidavit states. Sherwood police notified Little Rock detectives that they had served a search warrant at Walker's residence and vehicle related to a separate incident on Nov. 20 and observed a rifle in a bag in the home and spent shell casings in the vehicle, the affidavit states. Sherwood officers arrested Walker on a second-degree criminal impersonation charge Nov. 22, the Pulaski County jail's online inmate roster showed. Little Rock police also searched Walker's residence after getting a warrant and reported finding the rifle, more spent shell casings and \\\"green tip\\\" ammunition that matched projectiles pulled from the convenience store wall behind where Overton was standing when he was shot. The affidavit doesn't list the caliber of the rifle Walker used, but \\\"green tip\\\" rounds usually refer to a .223 caliber round -- the bullet fired by most AR-15-style rifles -- that has a steel tip embedded in the lead bullet to allow the round to penetrate barriers or light body armor more easily. These style of bullets are regularly used by the U.S. military, but are available on the civilian market. Walker was also seen on video footage entering the convenience store shortly before the shooting, and a distinctive tattoo on his leg helped police positively identify him, the affidavit states. He was charged with capital murder in Overton's death Nov. 29 and was being held in the Pulaski County jail Saturday evening. North Little Rock police responding on Nov. 21 to a report of a person shot at a residence in the 1500 block of West 35th Street located Jason Smith, 43, of North Little Rock inside. Smith died of his wounds at an area hospital. Authorities had yet to publicly identify any suspects in Smith's slaying Saturday. Little Rock police on Nov. 27 responded to a report of a \\\"subject down\\\" near 2800 Boyle Park Road and located Avron Britton, 21, of College Station lying dead in the road. Police have yet to publicly identify any suspects in Britton's killing by Saturday. By the end of November, Little Rock police had made arrests in 30 of the 50 separate homicide investigations opened by the department. Some incidents had multiple deceased victims, while others had multiple suspects arrested. A further two cases were closed by exception because the leading suspects died by suicide just after the victims were killed, and three more cases were in file review, a process in which a prosecutor reviews the case file created by police to determine if criminal charges are warranted. By that same date, North Little Rock police had made arrests in nine of their 19 homicide investigations. One more of their cases was in file review, while another was the police shooting of an armed suspect. Pulaski County deputies have arrested suspects in all four of their homicide investigations so far this year. Sherwood police, who have not had a homicide reported in their jurisdiction since July, have made arrests in half of their two homicide investigations so far this year. Jacksonville police made an arrest in their only homicide investigation so far this year in May. The double homicide under investigation by the state police happened in May on Arkansas 161 near Scott. State police have yet to announce any arrests in that investigation.\",\n",
      "                    \"title\": \"Seven homicides investigated in Pulaski County in November\"\n",
      "                },\n",
      "                {\n",
      "                    \"publication_date\": \"2023-12-03\",\n",
      "                    \"snippet\": \"Heroic officer James O\\u2019Brien remembered OXNARD, Calif.-This month marks the 30th anniversary of a mass shooting that left 4 people dead including Oxnard Police Detective James O'Brien. People driving along Victoria Ave. are likely to see a memorial Christmas Tree and his namesake street sign. That is where O'Brien was fatally shot during a chase along Victoria on Dec. 2, 1993. The shooting started at the Federal unemployment office\\u00c2 on C Street in Oxnard. The office has since been relocated. Police shot and killed the gunman at another unemployment office in Ventura. Officers held a moment of silence by the tree this weekend.\",\n",
      "                    \"title\": \"Heroic officer James O'Brien remembered\"\n",
      "                },\n",
      "                {\n",
      "                    \"publication_date\": \"2023-12-04\",\n",
      "                    \"snippet\": \"Man shot dead by Elk Grove police had called 9-1-1 seeking help, family believes The family of an Elk Grove Village man fatally shot by police Friday believe he may have called law enforcement seeking help for emotional distress just before the deadly encounter, their attorney said Monday. Lawyers representing the parents of Jack Murray said at a news conference that they are launching an investigation into the shooting, which police say occurred when the 24-year-old confronted officers outside his home with a knife. Family attorney Antonio Romanucci said his clients believe the Elk Grove Village Police Department was familiar with Murray and knew he occasionally called them for help when he was dealing with physical or emotional distress. \\\"That Friday afternoon, on Dec. 1, Jack was in distress,\\\" Romanucci said during the news conference attended by Murray's parents and siblings. \\\"He felt he was mentally and physically not right.\\\" Romanucci said his law firm's investigation will focus on the officers' treatment of a known emotionally distressed person and their use of de-escalation tactics. He also called for \\\"immediate transparency\\\" from police, through the release of 9-1-1 call recordings and all relevant police body camera and dashboard camera footage. \\\"His family is deeply grieving and deserves answers on exactly what happened that Friday afternoon,\\\" Romanucci said. \\\"We simply will not accept the police narrative or their version of the events that happened. We want truth and we want transparency.\\\" Police have said officers responded to the 200 block of Fern Drive at about 4:30 p.m. Friday after a 9-1-1 calling regarding a man with a knife. Murray was shot after he confronted officers with a knife in a nearby yard, according to the police account. He was taken by ambulance to Ascension Alexian Brothers Medical Center, where he later was pronounced dead, authorities said. Romanucci said Monday that Murray's family was told at the hospital that he was \\\"a crime scene\\\" and as a result they were prevented from seeing him. \\\"For as long as I've been doing this, I have never encountered a family being denied (the ability) to say goodbye,\\\" he said. In a statement Monday, Elk Grove Village and the police department offered condolences to the Murray family for what they described as \\\"Friday's tragic incident.\\\" An independent investigation into the deadly shooting is being conducted by the Major Case Assistance Team, officials said. \\\"The Elk Grove Village Police Department has already provided MCAT investigators footage of the body-worn cameras, and vehicle camera footage is available for their review,\\\" the statement reads. \\\"Additionally, the Elk Grove Village Police Department has been conducting a parallel criminal investigation in order gain a complete understanding of the events that led to the incident.\\\" As required by department police, five officers who responded Dec. 1 are on temporary administrative leave as the investigation continues, officials said. Not all were involved with the use of lethal force, according to the statement. \\\"We plan to share additional information about this incident publicly, including the audio from 9-1-1 dispatch, as well as the audio and video footage from the officers' body-worn and vehicle cameras,\\\" the statement adds. \\\"We know that sharing this information in a transparent way will help our community better understand the events that unfolded last Friday afternoon. It is our goal to share this information as soon as we are can, after crucial investigative steps have been taken.\\\" Murray's aunt, Liz Belcaster, said at Monday's news conference that the family still has many unanswered questions about what transpired Friday afternoon. \\\"Jack was only 24 years old. He was just starting his life. He was challenged by his health issues, being a Type I diabetic,\\\" she said. \\\"It impacted him physically and was also a significant emotional challenge. There were times when he needed help quickly and believed police could help him, as they had in the past. We don't know what took place on Friday afternoon. But we know our family deserves answers.\\\" Romanucci said there also needs to be more information about the knife, including its size and whether Murray pointed it at officers. \\\"Was there any attempt at de-escalation, other than saying 'drop the knife,' knowing that he had these mental and emotional issues?\\\" Romanucci asked. \\\"Was this a cry for help, as opposed to him being a dangerous person on the street who was potentially harmful to others? Did he really present a threat of bodily harm or injury or death to anybody at all, maybe even including himself? So, that's what we're looking for right now.\\\"\",\n",
      "                    \"title\": \"Man shot dead by Elk Grove police had called 9-1-1 seeking help, family believes\"\n",
      "                },\n",
      "                {\n",
      "                    \"publication_date\": \"2023-12-02\",\n",
      "                    \"snippet\": \"Suspect named in officer-involved shooting in southwest Colorado town CORTEZ, Colo. (KRDO) - The Colorado Bureau of Investigation (CBI) has released information regarding a suspect in connection to the deadly shooting that killed an officer with the Cortez Police Department (CPD). Saturday morning, Montezuma County Coroner George W. Deavers named 44-year-old Jason Campbell of Ogden, Utah as the suspect in the shooting that killed Cortez Police Department Sergeant Michael Moran. The CBI says another person was inside of Campbell's vehicle at the time of the incident. That person was interviewed and has been released. They say no one is in custody with connection to this shooting at this time. According to the CBI, investigators are continuing to conduct interviews to determine the elements and timeline of this incident. If anyone has further information about this investigation, they are asked to contact the Cortez Police Department and the Montezuma County Sheriff\\u00e2s Office Dispatch at (970) 565-8441.\",\n",
      "                    \"title\": \"Suspect named in officer-involved shooting in southwest Colorado town\"\n",
      "                },\n",
      "                {\n",
      "                    \"publication_date\": \"2023-12-02\",\n",
      "                    \"snippet\": \"(CORTEZ Colo.) \\u2014 Montezuma County Coroner George W. Deavers has named the suspect in the officer-involved shooting that happened on Wednesday, Nov. 29, resulting in the death of Sgt. Michael Moran of the Cortez Police Department. The Colorado Bureau of Investigation (CBI) says 44-year-old Jason Campbell of Ogden, Utah was named the suspect in the incident. According to CBI, there is no one in custody connected to this incident at this time. A person who was inside the suspect\\u2019s vehicle at the time of the incident has been interviewed and released. CBI says investigators continue to conduct interviews and are working to determine the elements and timeline of the incident.\",\n",
      "                    \"title\": \"Suspect named in Cortez officer-involved shooting\"\n",
      "                },\n",
      "                {\n",
      "                    \"publication_date\": \"2023-12-02\",\n",
      "                    \"snippet\": \"Lawsuit: Man shot, killed by officers in Clackamas County was denied aid; Body mocked, mutilated By Ezra Kaplan, KPTV Staff Click here for updates on this story MILWAUKIE Oregon (KPTV) \\u2014 A new civil rights lawsuit has been initiated against Clackamas County deputies and an Oregon State Patrol officer in the aftermath of a fatal shooting last June. The lawsuit, brought by lawyers representing the family, seems to reveal details that were not part of the initial story told by police. According to court documents, Derrick Clark, the man who was shot and killed, was allegedly left lying on the ground for two hours after the incident, while numerous nearby officers failed to provide aid. The lawsuit alleges that: \\u00e2Rather than provide Mr. Clark with medical care, the law enforcement officers proceeded to laugh, make jokes, refer to Mr. Clark as an animal and a boy, launch explosives at his motionless body, and released a police dog to bite his body.\\u00e2 The attorneys behind the lawsuit have announced their partnership with civil rights attorney Ben Crump, known for his involvement in high-profile cases such as Trayvon Martin, Breonna Taylor, Michael Brown, and George Floyd. A spokesperson for the Oregon State Police said they are aware of the pending litigation, and \\u00e2OSP doesn\\u00e2t make comment during active lawsuits.\\u00e2 FOX 12 also reached out to the Clackamas County Sheriff\\u00e2s Office for comment on the lawsuit but has not received a response. The FOX 12 Investigates team also spoke with Derrick\\u00e2s aunt, who expressed devastation. Until recently, Derrick\\u00e2s family had been leading the investigation, but it is now being taken over by prominent attorneys. Meanwhile, the family says it feels like they haven\\u00e2t been able to grieve. The details in the lawsuit are a result of an outside investigation done in part by the family itself as well as professionals hired by their attorneys. The story the lawsuit paints is very different from the one they were first told. \\u00e2We feel lied to and betrayed by the police,\\u00e2 said Carrie Miles, Clark\\u00e2s aunt on his mother\\u00e2s side. \\u00e2We feel like we haven\\u00e2t been able to morn because we have had to fight for information every step of the way.\\u00e2 With the holidays fast approaching, the grief is even more acute. \\u00e2Derek was the light in our family. He was that one, that everyone waited for to come over,\\u00e2 said Miles. \\u00e2There\\u00e2s nothing quite like having to set an empty place at the holiday table. We are devastated, absolutely devastated.\\u00e2 PREVIOUS COVERAGE: In November 2022, a grand jury determined the use of deadly force by a Clackamas County detective and Oregon State Police trooper during a traffic stop in Milwaukie on June 18 was justified. The incident began on the evening of June 18, 2022, when Trooper Zachary Cole and Detective Daniel Ferguson were driving their patrol vehicles when each attempted to pull over 24-year-old Derrick Dewayne Clark for suspicion of driving under the influence of intoxicants. Clark fled the attempted traffic stop at a high speed and ended up crashing his vehicle into a ditch, according to court documents. The DOJ said Ferguson and Cole gave Clark verbal instructions to show his hands but he did not comply. The lawsuit also alleges that the high-speed chase was against department policy and that the deputy\\u00e2s supervisor told him over the radio to stop pursuing. Clark then got out of his vehicle with a firearm in his right hand and took off running. According to the DOJ, Clark raised the weapon in the air at one point and both Ferguson and Cole fired multiple shots at him. Clark was hit twice and died at the scene. After a thorough investigation, an assistant attorney general presented the case to a Clackamas County Grand Jury. The grand jury returned a \\u00e2not true bill\\u00e2 Monday night, meaning the grand jury believed criminal charges against the two law enforcement officers were not warranted. Please note: This content carries a strict local market embargo. If you share the same market as the contributor of this article, you may not use it on any platform.\",\n",
      "                    \"title\": \"Lawsuit: Man shot, killed by officers in Clackamas County was denied aid; Body mocked, mutilated\"\n",
      "                },\n",
      "                {\n",
      "                    \"publication_date\": \"2023-12-04\",\n",
      "                    \"snippet\": \"Search underway following shooting incident in Greenville County, deputies say Search underway following shooting incident in Greenville County, deputies say THANK YOU FOR JOINING US. I\\u2019M RASHAD WILLIAMS. WE BEGIN IN GREENVILLE COUNTY WHERE DEPUTIES ARE SEARCHING FOR A SUSPECT FOLLOWING A SHOOTING. SO DEPUTIES TELL US THE SHOOTING HAPPENED AROUND NOON AT THE DOLLAR TREE ON WOODRUFF ROAD. ACCORDING TO DEPUTIES, SHOTS WERE FIRED FOLLOWING A ROAD RAGE INCIDENT. WE\\u2019RE TOLD DEPUTIES ARE SEARCHING FOR A MAN WITH DREADLOCKS WHO WAS WEARING BLACK PANTS, A BLACK HOODIE AND WHITE SHOES. DEPUTIES SAY THE VICTIM OF THE SHOOTING WAS NOT INJURED. TH Advertisement Search underway following shooting incident in Greenville County, deputies say A search is underway following a shooting incident in Greenville County, according to the Greenville County Sheriff's Office. Deputies say the shooting happened Sunday around noon on Woodruff Road.More news: Driver killed in Upstate crash after hitting tree, troopers sayAccording to deputies, shots were fired following a road rage incident and authorities are now searching for a man with dreadlocks in his hair wearing black pants, a black hoodie and white shoes. More news: Police release new details of deadly Upstate shootingThe victim of the shooting was found unharmed, deputies say.The GCSO asks anyone with information about this shooting incident to call CrimeStoppers at 23-CRIME. GREENVILLE, S.C. \\u2014 A search is underway following a shooting incident in Greenville County, according to the Greenville County Sheriff's Office. Deputies say the shooting happened Sunday around noon on Woodruff Road. Advertisement More news: Driver killed in Upstate crash after hitting tree, troopers say According to deputies, shots were fired following a road rage incident and authorities are now searching for a man with dreadlocks in his hair wearing black pants, a black hoodie and white shoes. More news: Police release new details of deadly Upstate shooting The victim of the shooting was found unharmed, deputies say. The GCSO asks anyone with information about this shooting incident to call CrimeStoppers at 23-CRIME.\",\n",
      "                    \"title\": \"Greenville Co.: Search underway following shooting incident\"\n",
      "                }\n",
      "            ]\n",
      "        }\n",
      "    }\n",
      "}\n"
     ]
    }
   ],
   "source": [
    "# nearText = {\"concepts\": [\"police shooting, shot by police, police shot, officer-involved shooting, police-involved shooting, police officer shooting, officer shot, deputy shot, sheriff shot, cop shot, trooper shot, shot by officer, shot by deputy, shot by sheriff, shot by cop, shot by trooper, killed by police, killed by officer, killed by deputy, killed by sheriff, killed by cop, killed by trooper\"]}\n",
    "# nearText = {\"concepts\": [\"a recent fatal police shooting. The incident is about police officer fired shots and killed someone. The victims are dead.\"]}\n",
    "# nearText = {\"concepts\": [\"Find articles about police shooting that resulted in death of the victims. The incident is about police officer fired shots and killed someone. The victims are dead.\"]}\n",
    "\n",
    "query_text = \"Find articles about police shooting that resulted in death of the victims. The incident is about police officer fired shots and killed someone. The victims are dead.\"\n",
    "nearVector = {\"vector\": model.encode(query_text).tolist()}\n",
    "\n",
    "response = (\n",
    "    client.query\n",
    "    .get(\"Article\", [\"title\", \"publication_date\", \"snippet\"])\n",
    "    .with_near_vector(nearVector)  # Pass the nearVector_dict to with_near_vector\n",
    "    # .with_generate(single_prompt=\"Summarize {snippet} in one sentence.\")\n",
    "    .with_limit(50)\n",
    "    .do()\n",
    ")\n",
    "\n",
    "print(json.dumps(response, indent=4))\n",
    "# convert response to dataframe and save to csv\n",
    "df = pd.DataFrame(response['data']['Get']['Article'])\n",
    "df.to_csv(f'../data_storage/{start}_weaviate.csv', index=False)"
   ]
  },
  {
   "cell_type": "markdown",
   "metadata": {},
   "source": [
    "------\n",
    "Not used"
   ]
  },
  {
   "cell_type": "code",
   "execution_count": 2,
   "metadata": {},
   "outputs": [],
   "source": [
    "collection_id = \"38379429\"\n",
    "directory_api = mediacloud.api.DirectoryApi(auth_token='e85cce24da8b73eaa05329d258146c044ef055db')\n",
    "api = SearchApiClient(\"mediacloud\")"
   ]
  },
  {
   "cell_type": "code",
   "execution_count": 17,
   "metadata": {},
   "outputs": [],
   "source": [
    "# Function to split the domain list into chunks\n",
    "def split_into_chunks(domains, chunk_size):\n",
    "    for i in range(0, len(domains), chunk_size):\n",
    "        yield domains[i:i + chunk_size]\n"
   ]
  },
  {
   "cell_type": "code",
   "execution_count": 4,
   "metadata": {},
   "outputs": [
    {
     "name": "stdout",
     "output_type": "stream",
     "text": [
      "Number of sources: 8913\n"
     ]
    }
   ],
   "source": [
    "all_domains = []\n",
    "# Pagination setup\n",
    "offset = 0\n",
    "limit = 100  # seems to have a 100 limit\n",
    "more_pages = True\n",
    "\n",
    "while more_pages:\n",
    "    # Fetch sources with current offset\n",
    "    sources_response = directory_api.source_list(collection_id=collection_id, limit=limit, offset=offset)\n",
    "    sources = sources_response.get('results', [])\n",
    "    domains = [source['homepage'] for source in sources]\n",
    "    all_domains.extend(domains)\n",
    "    \n",
    "    # Update the offset\n",
    "    offset += limit\n",
    "    \n",
    "    # Check if there are more pages to fetch\n",
    "    more_pages = len(sources) == limit\n",
    "\n",
    "# Cleaning up domains\n",
    "cleaned_domains = [\n",
    "    domain.replace('https://www.', '').replace('http://www.', '').replace('https://','').replace('http://','').rstrip('/')\n",
    "    for domain in all_domains\n",
    "    if domain  # Ensure the domain is not None or empty\n",
    "]\n",
    "print(f\"Number of sources: {len(cleaned_domains)}\")\n",
    "\n",
    "domains_df = pd.DataFrame(cleaned_domains, columns=['Domain'])\n",
    "# Save the DataFrame to a CSV file\n",
    "domains_df.to_csv('domains.csv', index=False)"
   ]
  },
  {
   "cell_type": "code",
   "execution_count": 21,
   "metadata": {},
   "outputs": [
    {
     "name": "stdout",
     "output_type": "stream",
     "text": [
      "all_articles endpoint: 622 articles\n",
      "all_articles endpoint: 261 articles\n",
      "all_articles endpoint: 67 articles\n",
      "all_articles endpoint: 15 articles\n",
      "all_articles endpoint: 34 articles\n",
      "all_articles endpoint: 25 articles\n",
      "all_articles endpoint: 14 articles\n",
      "all_articles endpoint: 14 articles\n",
      "all_articles endpoint: 2 articles\n",
      "                                                 title publication_date  \\\n",
      "256  Antioch: Man wanted for homicide is shot by po...       2023-10-01   \n",
      "112  Antioch: Man wanted for homicide is shot by po...       2023-10-01   \n",
      "328  1 killed in police shooting at Pa. traffic sto...       2023-10-01   \n",
      "417  St. Louis police shoot man who threatened rela...       2023-10-01   \n",
      "173  Demonstrators call for justice after deadly po...       2023-10-01   \n",
      "\n",
      "             capture_time language            domain  \\\n",
      "256  2023-10-03T11:47:16Z       en   mercurynews.com   \n",
      "112  2023-10-03T13:10:17Z       en  eastbaytimes.com   \n",
      "328  2023-10-13T01:29:15Z       en      pennlive.com   \n",
      "417  2023-10-08T19:59:04Z       en      stltoday.com   \n",
      "173  2023-10-03T04:00:43Z       en          ktla.com   \n",
      "\n",
      "                                                   url  \\\n",
      "256  https://www.mercurynews.com/2023/10/01/antioch...   \n",
      "112  https://www.eastbaytimes.com/2023/10/01/antioc...   \n",
      "328  https://www.pennlive.com/news/2023/10/1-killed...   \n",
      "417  https://www.stltoday.com/news/local/crime-cour...   \n",
      "173  https://ktla.com/news/local-news/demonstrators...   \n",
      "\n",
      "                                  original_capture_url  \\\n",
      "256  https://web.archive.org/web/20231003114716id_/...   \n",
      "112  https://web.archive.org/web/20231003131017id_/...   \n",
      "328  https://web.archive.org/web/20231013012915id_/...   \n",
      "417  https://web.archive.org/web/20231008195904id_/...   \n",
      "173  https://web.archive.org/web/20231003040043id_/...   \n",
      "\n",
      "                                  archive_playback_url  \\\n",
      "256  https://web.archive.org/web/20231003114716/htt...   \n",
      "112  https://web.archive.org/web/20231003131017/htt...   \n",
      "328  https://web.archive.org/web/20231013012915/htt...   \n",
      "417  https://web.archive.org/web/20231008195904/htt...   \n",
      "173  https://web.archive.org/web/20231003040043/htt...   \n",
      "\n",
      "                                           article_url  \n",
      "256  https://wayback-api.archive.org/colsearch/v1/m...  \n",
      "112  https://wayback-api.archive.org/colsearch/v1/m...  \n",
      "328  https://wayback-api.archive.org/colsearch/v1/m...  \n",
      "417  https://wayback-api.archive.org/colsearch/v1/m...  \n",
      "173  https://wayback-api.archive.org/colsearch/v1/m...  \n"
     ]
    }
   ],
   "source": [
    "domain_chunks = list(split_into_chunks(cleaned_domains, 1000))\n",
    "\n",
    "# sources_response = directory_api.source_list(collection_id=collection_id)\n",
    "# domains = [source['homepage'] for source in sources_response['results']]\n",
    "# num_sources = len(sources_response['results'])\n",
    "# print(f\"Number of sources: {num_sources}\")\n",
    "\n",
    "# cleaned_domains = [domain.replace('https://www.', '').replace('http://www.', '').replace('https://','').replace('http://','') for domain in domains]\n",
    "# cleaned_domains = [url.rstrip('/') for url in cleaned_domains]\n",
    "# print(cleaned_domains)\n",
    "\n",
    "# Enable requests cache\n",
    "requests_cache.install_cache('article_cache', backend='filesystem', expire_after=3600)\n",
    "\n",
    "\n",
    "# Query parameters\n",
    "query_term = '(\"police shooting\" OR \"shot by police\" OR \"police shot\" OR \"officer-involved shooting\" OR \"police-involved shooting\" OR \"police officer shooting\" OR \"police shot\" OR \"officer shot\")'\n",
    "# query_term = '(\"police shooting\" OR \"shot by police\" OR \"police shot\" OR \"officer-involved shooting\" OR \"police-involved shooting\" OR \"police officer shooting\" OR \"police shot\" OR \"officer shot\" OR \"deputy shot\" OR \"sheriff shot\" OR \"cop shot\")'\n",
    "# query_term = 'police AND shot'\n",
    "start = datetime(2023, 9, 1) #11/6 - 11/15\n",
    "end = datetime(2023, 10, 1) \n",
    "language = \"en\"\n",
    "\n",
    "# DataFrame to store combined results\n",
    "combined_results = pd.DataFrame()\n",
    "results_list = []\n",
    "\n",
    "for chunk in domain_chunks:\n",
    "    domains_str = f\"domain:({' OR '.join(chunk)})\"\n",
    "    query = f\"{query_term} AND language:{language} AND {domains_str}\"\n",
    "    \n",
    "    # Perform the search with the current chunk\n",
    "    articles = []\n",
    "    for list_of_articles in api.all_articles(query, start, end):\n",
    "        articles.extend(list_of_articles)\n",
    "        print(f\"all_articles endpoint: {len(articles)} articles\")\n",
    "    \n",
    "    if articles:\n",
    "        chunk_results = pd.DataFrame(articles)\n",
    "        results_list.append(chunk_results)\n",
    "    \n",
    "\n",
    "# Concatenate all DataFrames in the list\n",
    "combined_results = pd.concat(results_list, ignore_index=True)\n",
    "combined_results.sort_values(by='publication_date', ascending=False, inplace=True)\n",
    "print(combined_results.head())\n"
   ]
  },
  {
   "cell_type": "code",
   "execution_count": 22,
   "metadata": {},
   "outputs": [
    {
     "data": {
      "text/plain": [
       "(1054, 9)"
      ]
     },
     "execution_count": 22,
     "metadata": {},
     "output_type": "execute_result"
    }
   ],
   "source": [
    "combined_results.shape"
   ]
  },
  {
   "cell_type": "code",
   "execution_count": 23,
   "metadata": {},
   "outputs": [],
   "source": [
    "def get_snippet_from_newspaper3k(url):\n",
    "    extracted_article = Article(url)\n",
    "    extracted_article.download()\n",
    "    extracted_article.parse()\n",
    "    return extracted_article.text\n",
    "\n",
    "def get_snippet_from_wayback_machine(url):\n",
    "    response = requests.get(url)\n",
    "    response.raise_for_status()\n",
    "    snippet = response.json().get('snippet', '')\n",
    "    # return response.text \n",
    "    return snippet\n",
    "\n",
    "def fetch_snippet(article_url, wayback_url):\n",
    "    with concurrent.futures.ThreadPoolExecutor(max_workers=2) as executor:\n",
    "        future_to_method = {\n",
    "            executor.submit(get_snippet_from_newspaper3k, article_url): 'newspaper3k',\n",
    "            executor.submit(get_snippet_from_wayback_machine, wayback_url): 'wayback'\n",
    "        }\n",
    "        for future in concurrent.futures.as_completed(future_to_method):\n",
    "            method = future_to_method[future]\n",
    "            try:\n",
    "                data = future.result()\n",
    "                return data, method\n",
    "            except Exception as exc:\n",
    "                print(f\"{method} method failed with exception: {exc}\")\n",
    "\n",
    "\n",
    "def sanitize_snippet(snippet):\n",
    "    sanitized_snippet = snippet.replace('\\n', ' ').replace('\\r', '').strip()\n",
    "    # Normalize Unicode characters\n",
    "    # normalized_snippet = unicodedata.normalize('NFKD', sanitized_snippet)\n",
    "    return sanitized_snippet"
   ]
  },
  {
   "cell_type": "code",
   "execution_count": 24,
   "metadata": {},
   "outputs": [
    {
     "name": "stderr",
     "output_type": "stream",
     "text": [
      "  0%|          | 1/1054 [00:09<2:38:28,  9.03s/it]"
     ]
    },
    {
     "name": "stdout",
     "output_type": "stream",
     "text": [
      "Snippet fetched using newspaper3k method for URL: https://www.mercurynews.com/2023/10/01/antioch-man-wanted-for-homicide-earlier-this-year-shot-by-police-during-pursuit/\n"
     ]
    },
    {
     "name": "stderr",
     "output_type": "stream",
     "text": [
      "  0%|          | 2/1054 [00:25<3:59:23, 13.65s/it]"
     ]
    },
    {
     "name": "stdout",
     "output_type": "stream",
     "text": [
      "Snippet fetched using newspaper3k method for URL: https://www.eastbaytimes.com/2023/10/01/antioch-man-wanted-for-homicide-earlier-this-year-shot-by-police-during-pursuit/\n"
     ]
    },
    {
     "name": "stderr",
     "output_type": "stream",
     "text": [
      "  0%|          | 3/1054 [00:26<2:16:54,  7.82s/it]"
     ]
    },
    {
     "name": "stdout",
     "output_type": "stream",
     "text": [
      "Snippet fetched using wayback method for URL: https://www.pennlive.com/news/2023/10/1-killed-in-police-shooting-at-pa-traffic-stop-reports.html\n"
     ]
    },
    {
     "name": "stderr",
     "output_type": "stream",
     "text": [
      "  0%|          | 4/1054 [00:27<1:27:53,  5.02s/it]"
     ]
    },
    {
     "name": "stdout",
     "output_type": "stream",
     "text": [
      "Snippet fetched using wayback method for URL: https://www.stltoday.com/news/local/crime-courts/st-louis-police-shoot-man-who-threatened-relatives-with-gun-shot-at-officers-police-say/article_15c7fc48-5fa7-11ee-96ab-77443b13065e.html\n"
     ]
    },
    {
     "name": "stderr",
     "output_type": "stream",
     "text": [
      "  0%|          | 5/1054 [00:28<1:04:57,  3.72s/it]"
     ]
    },
    {
     "name": "stdout",
     "output_type": "stream",
     "text": [
      "Snippet fetched using wayback method for URL: https://ktla.com/news/local-news/demonstrators-call-for-justice-after-deadly-police-shooting-in-south-l-a/\n"
     ]
    },
    {
     "name": "stderr",
     "output_type": "stream",
     "text": [
      "  1%|          | 6/1054 [00:29<44:22,  2.54s/it]  "
     ]
    },
    {
     "name": "stdout",
     "output_type": "stream",
     "text": [
      "Snippet fetched using newspaper3k method for URL: https://www.newsday.com/long-island/whitney-pond-park-manhasset-daniels-law-mszq6hcp\n"
     ]
    },
    {
     "name": "stderr",
     "output_type": "stream",
     "text": [
      "  1%|          | 7/1054 [00:41<1:41:24,  5.81s/it]"
     ]
    },
    {
     "name": "stdout",
     "output_type": "stream",
     "text": [
      "Snippet fetched using newspaper3k method for URL: https://www.campustimes.org/2023/10/01/penis/\n"
     ]
    },
    {
     "name": "stderr",
     "output_type": "stream",
     "text": [
      "  1%|          | 8/1054 [00:59<2:45:01,  9.47s/it]"
     ]
    },
    {
     "name": "stdout",
     "output_type": "stream",
     "text": [
      "Snippet fetched using newspaper3k method for URL: https://www.kron4.com/news/bay-area/homicide-suspect-shot-by-antioch-police-taken-to-hospital/\n"
     ]
    },
    {
     "name": "stderr",
     "output_type": "stream",
     "text": [
      "  1%|          | 9/1054 [00:59<1:57:05,  6.72s/it]"
     ]
    },
    {
     "name": "stdout",
     "output_type": "stream",
     "text": [
      "Snippet fetched using wayback method for URL: https://www.wbbjtv.com/2023/10/01/tbi-investigating-officer-involved-shooting-in-hamilton-co/\n"
     ]
    },
    {
     "name": "stderr",
     "output_type": "stream",
     "text": [
      "  1%|          | 10/1054 [01:00<1:24:20,  4.85s/it]"
     ]
    },
    {
     "name": "stdout",
     "output_type": "stream",
     "text": [
      "Snippet fetched using wayback method for URL: https://www.clickondetroit.com/news/local/2023/10/01/detroit-police-officer-struck-by-vehicle-shoots-injures-driver/\n"
     ]
    },
    {
     "name": "stderr",
     "output_type": "stream",
     "text": [
      "  1%|          | 11/1054 [01:01<1:02:04,  3.57s/it]"
     ]
    },
    {
     "name": "stdout",
     "output_type": "stream",
     "text": [
      "Snippet fetched using wayback method for URL: https://mynewsla.com/business/2023/10/01/another-laco-das-office-employee-sues-for-retaliation/\n",
      "newspaper3k method failed with exception: Article `download()` failed with 404 Client Error: Not Found for url: https://foxwilmington.com/headlines/at-least-2-dead-2-injured-in-houston-area-family-dispute-report/ on URL https://foxwilmington.com/headlines/at-least-2-dead-2-injured-in-houston-area-family-dispute-report/\n"
     ]
    },
    {
     "name": "stderr",
     "output_type": "stream",
     "text": [
      "  1%|          | 12/1054 [01:07<1:16:48,  4.42s/it]"
     ]
    },
    {
     "name": "stdout",
     "output_type": "stream",
     "text": [
      "Snippet fetched using wayback method for URL: https://foxwilmington.com/headlines/at-least-2-dead-2-injured-in-houston-area-family-dispute-report/\n"
     ]
    },
    {
     "name": "stderr",
     "output_type": "stream",
     "text": [
      "  1%|          | 13/1054 [01:12<1:21:22,  4.69s/it]"
     ]
    },
    {
     "name": "stdout",
     "output_type": "stream",
     "text": [
      "Snippet fetched using newspaper3k method for URL: https://www.campustimes.org/2023/10/01/man-shot-by-rpd-officer-during-skirmish/\n"
     ]
    },
    {
     "name": "stderr",
     "output_type": "stream",
     "text": [
      "  1%|▏         | 14/1054 [01:15<1:10:13,  4.05s/it]"
     ]
    },
    {
     "name": "stdout",
     "output_type": "stream",
     "text": [
      "Snippet fetched using newspaper3k method for URL: https://ktvz.com/news/national-world/cnn-world/2023/09/30/one-year-on-from-stadium-disaster-that-killed-135-these-families-are-still-seeking-answers/\n"
     ]
    },
    {
     "name": "stderr",
     "output_type": "stream",
     "text": [
      "  2%|▏         | 16/1054 [01:42<2:15:46,  7.85s/it]"
     ]
    },
    {
     "name": "stdout",
     "output_type": "stream",
     "text": [
      "Snippet fetched using newspaper3k method for URL: https://republicmonews.com/2023/09/30/foot-pursuit-suspect-struck-by-officers-gunfire-in-northeast-houston-according-to-hpd/\n"
     ]
    },
    {
     "name": "stderr",
     "output_type": "stream",
     "text": [
      "  2%|▏         | 17/1054 [01:42<1:36:59,  5.61s/it]"
     ]
    },
    {
     "name": "stdout",
     "output_type": "stream",
     "text": [
      "Snippet fetched using wayback method for URL: https://ktar.com/story/5542142/police-fatally-shoot-suicidal-man-brandishing-knife-in-mesa/\n"
     ]
    },
    {
     "name": "stderr",
     "output_type": "stream",
     "text": [
      "  2%|▏         | 18/1054 [01:43<1:11:22,  4.13s/it]"
     ]
    },
    {
     "name": "stdout",
     "output_type": "stream",
     "text": [
      "Snippet fetched using wayback method for URL: https://localnews8.com/news/national-world/cnn-world/2023/09/30/one-year-on-from-stadium-disaster-that-killed-135-these-families-are-still-seeking-answers/\n"
     ]
    },
    {
     "name": "stderr",
     "output_type": "stream",
     "text": [
      "  2%|▏         | 19/1054 [01:44<53:08,  3.08s/it]  "
     ]
    },
    {
     "name": "stdout",
     "output_type": "stream",
     "text": [
      "Snippet fetched using wayback method for URL: https://abc17news.com/news/national-world/cnn-world/2023/09/30/one-year-on-from-stadium-disaster-that-killed-135-these-families-are-still-seeking-answers/\n",
      "Snippet fetched using wayback method for URL: https://ktvz.com/news/national-world/cnn-world/2023/09/30/one-year-on-from-stadium-disaster-that-killed-135-these-families-are-still-seeking-answers/\n"
     ]
    },
    {
     "name": "stderr",
     "output_type": "stream",
     "text": [
      "  2%|▏         | 21/1054 [01:44<31:42,  1.84s/it]"
     ]
    },
    {
     "name": "stdout",
     "output_type": "stream",
     "text": [
      "Snippet fetched using wayback method for URL: https://kion546.com/news/national-world/cnn-national/2023/09/29/two-former-chicago-police-officers-acquitted-of-shooting-unarmed-man/\n"
     ]
    },
    {
     "name": "stderr",
     "output_type": "stream",
     "text": [
      "  2%|▏         | 22/1054 [01:45<26:43,  1.55s/it]"
     ]
    },
    {
     "name": "stdout",
     "output_type": "stream",
     "text": [
      "Snippet fetched using wayback method for URL: https://ktvz.com/news/national-world/cnn-national/2023/09/29/two-former-chicago-police-officers-acquitted-of-shooting-unarmed-man/\n"
     ]
    },
    {
     "name": "stderr",
     "output_type": "stream",
     "text": [
      "  2%|▏         | 23/1054 [01:48<33:51,  1.97s/it]"
     ]
    },
    {
     "name": "stdout",
     "output_type": "stream",
     "text": [
      "Snippet fetched using newspaper3k method for URL: https://www.wbrz.com/news/electrical-mishap-sparks-small-grass-fire-knocks-out-power-along-college-drive/\n"
     ]
    },
    {
     "name": "stderr",
     "output_type": "stream",
     "text": [
      "  2%|▏         | 24/1054 [01:51<39:01,  2.27s/it]"
     ]
    },
    {
     "name": "stdout",
     "output_type": "stream",
     "text": [
      "Snippet fetched using newspaper3k method for URL: https://www.wbrz.com/news/ebrso-looking-for-missing-woman-with-dementia-161514/\n"
     ]
    },
    {
     "name": "stderr",
     "output_type": "stream",
     "text": [
      "  2%|▏         | 25/1054 [02:08<1:46:49,  6.23s/it]"
     ]
    },
    {
     "name": "stdout",
     "output_type": "stream",
     "text": [
      "Snippet fetched using newspaper3k method for URL: https://www.wbrz.com/news/little-brother-beating-big-brother-to-the-field-for-lsu-football/\n"
     ]
    },
    {
     "name": "stderr",
     "output_type": "stream",
     "text": [
      "  2%|▏         | 26/1054 [02:40<3:52:28, 13.57s/it]"
     ]
    },
    {
     "name": "stdout",
     "output_type": "stream",
     "text": [
      "Snippet fetched using newspaper3k method for URL: https://www.wbrz.com/news/louisiana-s-struggle-with-influx-of-salt-water-prompts-a-request-for-biden-to-declare-an-emergency/\n"
     ]
    },
    {
     "name": "stderr",
     "output_type": "stream",
     "text": [
      "  3%|▎         | 27/1054 [03:10<5:17:17, 18.54s/it]"
     ]
    },
    {
     "name": "stdout",
     "output_type": "stream",
     "text": [
      "Snippet fetched using newspaper3k method for URL: https://cbs4indy.com/news/man-dead-following-officer-involved-shooting-in-bedford/\n"
     ]
    },
    {
     "name": "stderr",
     "output_type": "stream",
     "text": [
      "  3%|▎         | 28/1054 [03:12<3:53:09, 13.64s/it]"
     ]
    },
    {
     "name": "stdout",
     "output_type": "stream",
     "text": [
      "Snippet fetched using wayback method for URL: https://cbs4indy.com/news/indycrime/2-impd-officers-indicted-after-shooting-man-who-was-sleeping-in-grandmas-driveway/\n"
     ]
    },
    {
     "name": "stderr",
     "output_type": "stream",
     "text": [
      "  3%|▎         | 29/1054 [03:13<2:47:30,  9.81s/it]"
     ]
    },
    {
     "name": "stdout",
     "output_type": "stream",
     "text": [
      "Snippet fetched using wayback method for URL: https://www.wbrz.com/news/north-korea-says-it-will-expel-the-us-soldier-who-crossed-into-the-country-in-july/\n"
     ]
    },
    {
     "name": "stderr",
     "output_type": "stream",
     "text": [
      "  3%|▎         | 30/1054 [03:13<2:01:12,  7.10s/it]"
     ]
    },
    {
     "name": "stdout",
     "output_type": "stream",
     "text": [
      "Snippet fetched using wayback method for URL: https://abc17news.com/news/national-world/cnn-national/2023/09/29/two-former-chicago-police-officers-acquitted-of-shooting-unarmed-man/\n"
     ]
    },
    {
     "name": "stderr",
     "output_type": "stream",
     "text": [
      "  3%|▎         | 31/1054 [03:14<1:28:16,  5.18s/it]"
     ]
    },
    {
     "name": "stdout",
     "output_type": "stream",
     "text": [
      "Snippet fetched using wayback method for URL: https://www.wbrz.com/news/michael-gambon-actor-who-played-prof-dumbledore-in-6-harry-potter-movies-dies-at-age-82/\n"
     ]
    },
    {
     "name": "stderr",
     "output_type": "stream",
     "text": [
      "  3%|▎         | 32/1054 [03:15<1:07:24,  3.96s/it]"
     ]
    },
    {
     "name": "stdout",
     "output_type": "stream",
     "text": [
      "Snippet fetched using newspaper3k method for URL: https://www.wbrz.com/news/team-2-traffic-i-10-wb-shut-down-before-whiskey-bay-due-to-vehicle-fire/\n"
     ]
    },
    {
     "name": "stderr",
     "output_type": "stream",
     "text": [
      "  3%|▎         | 33/1054 [03:16<50:06,  2.94s/it]  "
     ]
    },
    {
     "name": "stdout",
     "output_type": "stream",
     "text": [
      "Snippet fetched using wayback method for URL: https://indianapolisrecorder.com/two-officers-indicted-for-roles-in-shooting-of-man-sleeping-in-grandmothers-driveway/\n"
     ]
    },
    {
     "name": "stderr",
     "output_type": "stream",
     "text": [
      "  3%|▎         | 34/1054 [03:17<42:33,  2.50s/it]"
     ]
    },
    {
     "name": "stdout",
     "output_type": "stream",
     "text": [
      "Snippet fetched using newspaper3k method for URL: https://www.wbrz.com/news/state-will-allow-individual-parishes-to-opt-out-of-statewide-burn-ban/\n"
     ]
    },
    {
     "name": "stderr",
     "output_type": "stream",
     "text": [
      "  3%|▎         | 35/1054 [03:18<35:19,  2.08s/it]"
     ]
    },
    {
     "name": "stdout",
     "output_type": "stream",
     "text": [
      "Snippet fetched using newspaper3k method for URL: https://www.wbrz.com/news/what-would-a-government-shutdown-mean-for-me-snap-student-loans-and-travel-impacts-explained/\n"
     ]
    },
    {
     "name": "stderr",
     "output_type": "stream",
     "text": [
      "  3%|▎         | 36/1054 [03:19<28:01,  1.65s/it]"
     ]
    },
    {
     "name": "stdout",
     "output_type": "stream",
     "text": [
      "Snippet fetched using wayback method for URL: http://www.westsideconnect.com/news/local_news/deputy-shoots-carjacking-suspect/article_3b622d28-5f36-11ee-bedb-3f4a48282005.html\n"
     ]
    },
    {
     "name": "stderr",
     "output_type": "stream",
     "text": [
      "/Users/karenwang/.virtualenvs/semantic-search/lib/python3.11/site-packages/dateutil/parser/_parser.py:1207: UnknownTimezoneWarning: tzname CDT identified but not understood.  Pass `tzinfos` argument in order to correctly return a timezone-aware datetime.  In a future version, this will raise an exception.\n",
      "  warnings.warn(\"tzname {tzname} identified but not understood.  \"\n",
      "  4%|▎         | 37/1054 [03:21<28:19,  1.67s/it]"
     ]
    },
    {
     "name": "stdout",
     "output_type": "stream",
     "text": [
      "Snippet fetched using newspaper3k method for URL: https://www.wfaa.com/article/news/crime/dealership-customers-thursday-night-shooting-arlington/287-fb72bad4-8913-499f-a926-844121416e7d\n"
     ]
    },
    {
     "name": "stderr",
     "output_type": "stream",
     "text": [
      "  4%|▎         | 38/1054 [03:22<24:30,  1.45s/it]"
     ]
    },
    {
     "name": "stdout",
     "output_type": "stream",
     "text": [
      "Snippet fetched using newspaper3k method for URL: https://www.eastbaytimes.com/2023/09/29/martinez-police-release-body-worn-camera-footage-of-fatal-aug-18-shooting/\n"
     ]
    },
    {
     "name": "stderr",
     "output_type": "stream",
     "text": [
      "  4%|▎         | 39/1054 [03:24<28:31,  1.69s/it]"
     ]
    },
    {
     "name": "stdout",
     "output_type": "stream",
     "text": [
      "Snippet fetched using newspaper3k method for URL: https://www.eastbaytimes.com/2023/09/29/fairfield-police-officer-shot-man-brandishing-bb-gun-near-school/\n"
     ]
    },
    {
     "name": "stderr",
     "output_type": "stream",
     "text": [
      "  4%|▍         | 40/1054 [03:28<40:14,  2.38s/it]"
     ]
    },
    {
     "name": "stdout",
     "output_type": "stream",
     "text": [
      "Snippet fetched using newspaper3k method for URL: https://www.wbrz.com/news/pig-carcasses-scattered-along-mississippi-river-bridge-after-animals-fell-out-of-truck-hit-by-drivers/\n"
     ]
    },
    {
     "name": "stderr",
     "output_type": "stream",
     "text": [
      "  4%|▍         | 41/1054 [03:29<32:49,  1.94s/it]"
     ]
    },
    {
     "name": "stdout",
     "output_type": "stream",
     "text": [
      "Snippet fetched using newspaper3k method for URL: https://www.wfaa.com/article/news/local/dog-bites-fort-worth-cop-shot-kentwood-place/287-0d5e0323-c6b3-4232-a595-e0600186056b\n"
     ]
    },
    {
     "name": "stderr",
     "output_type": "stream",
     "text": [
      "  4%|▍         | 42/1054 [03:30<26:51,  1.59s/it]"
     ]
    },
    {
     "name": "stdout",
     "output_type": "stream",
     "text": [
      "Snippet fetched using newspaper3k method for URL: https://www.wfaa.com/article/news/world/mexican-migrants-killed-tecate-baja-california-mexico/269-82c920a9-0534-4aa8-9ae3-15d6db241fe1\n"
     ]
    },
    {
     "name": "stderr",
     "output_type": "stream",
     "text": [
      "  4%|▍         | 43/1054 [03:30<21:15,  1.26s/it]"
     ]
    },
    {
     "name": "stdout",
     "output_type": "stream",
     "text": [
      "Snippet fetched using wayback method for URL: https://whdh.com/news/authorities-investigating-officer-involved-shooting-in-lakeville/\n"
     ]
    },
    {
     "name": "stderr",
     "output_type": "stream",
     "text": [
      "  4%|▍         | 44/1054 [03:31<19:03,  1.13s/it]"
     ]
    },
    {
     "name": "stdout",
     "output_type": "stream",
     "text": [
      "Snippet fetched using wayback method for URL: https://www.whec.com/top-news/several-city-council-members-object-to-3-members-statement-on-shooting-involving-rpd-officer/\n"
     ]
    },
    {
     "name": "stderr",
     "output_type": "stream",
     "text": [
      "  4%|▍         | 45/1054 [03:32<21:25,  1.27s/it]"
     ]
    },
    {
     "name": "stdout",
     "output_type": "stream",
     "text": [
      "Snippet fetched using newspaper3k method for URL: https://www.wbrz.com/news/one-week-after-his-son-s-arrest-high-ranking-brpd-officer-placed-on-leave-as-feds-investigate-department/\n"
     ]
    },
    {
     "name": "stderr",
     "output_type": "stream",
     "text": [
      "  4%|▍         | 46/1054 [03:35<26:32,  1.58s/it]"
     ]
    },
    {
     "name": "stdout",
     "output_type": "stream",
     "text": [
      "Snippet fetched using wayback method for URL: https://www.wishtv.com/news/crime-watch-8/impd-ids-3-officers-in-shooting-that-killed-man-hurt-woman-outside-lucas-oil-stadium/\n"
     ]
    },
    {
     "name": "stderr",
     "output_type": "stream",
     "text": [
      "  4%|▍         | 47/1054 [03:37<29:08,  1.74s/it]"
     ]
    },
    {
     "name": "stdout",
     "output_type": "stream",
     "text": [
      "Snippet fetched using wayback method for URL: https://www.wishtv.com/news/local-news/man-dies-following-bedford-police-shooting/\n"
     ]
    },
    {
     "name": "stderr",
     "output_type": "stream",
     "text": [
      "  5%|▍         | 48/1054 [03:39<32:42,  1.95s/it]"
     ]
    },
    {
     "name": "stdout",
     "output_type": "stream",
     "text": [
      "Snippet fetched using wayback method for URL: https://www.wpri.com/news/local-news/se-mass/lakeville-police-investigating-officer-involved-shooting/\n",
      "Snippet fetched using wayback method for URL: https://ktvz.com/news/national-world/cnn-national/2023/09/29/two-former-chicago-police-officers-acquitted-of-shooting-unarmed-man/\n"
     ]
    },
    {
     "name": "stderr",
     "output_type": "stream",
     "text": [
      "  5%|▍         | 50/1054 [03:49<54:44,  3.27s/it]"
     ]
    },
    {
     "name": "stdout",
     "output_type": "stream",
     "text": [
      "Snippet fetched using newspaper3k method for URL: https://www.wtae.com/article/pittsburgh-shooting-justified-da-zappala/45375990\n"
     ]
    },
    {
     "name": "stderr",
     "output_type": "stream",
     "text": [
      "  5%|▍         | 51/1054 [04:23<3:04:22, 11.03s/it]"
     ]
    },
    {
     "name": "stdout",
     "output_type": "stream",
     "text": [
      "Snippet fetched using newspaper3k method for URL: https://www.wbrz.com/news/a-new-tropical-storm-forms-east-of-philippe-in-the-central-atlantic/\n"
     ]
    },
    {
     "name": "stderr",
     "output_type": "stream",
     "text": [
      "  5%|▍         | 52/1054 [04:24<2:18:26,  8.29s/it]"
     ]
    },
    {
     "name": "stdout",
     "output_type": "stream",
     "text": [
      "Snippet fetched using wayback method for URL: https://www.wbrz.com/news/disheartened-and-dismayed-baton-rouge-union-of-police-blasts-brpd-for-placing-deputy-chief-on-leave/\n"
     ]
    },
    {
     "name": "stderr",
     "output_type": "stream",
     "text": [
      "  5%|▌         | 53/1054 [04:25<1:43:29,  6.20s/it]"
     ]
    },
    {
     "name": "stdout",
     "output_type": "stream",
     "text": [
      "Snippet fetched using wayback method for URL: https://localnews8.com/news/national-world/cnn-national/2023/09/29/two-former-chicago-police-officers-acquitted-of-shooting-unarmed-man/\n"
     ]
    },
    {
     "name": "stderr",
     "output_type": "stream",
     "text": [
      "  5%|▌         | 54/1054 [04:27<1:24:18,  5.06s/it]"
     ]
    },
    {
     "name": "stdout",
     "output_type": "stream",
     "text": [
      "Snippet fetched using wayback method for URL: https://www.wearegreenbay.com/news/local-news/officer-involved-in-kaukauna-shooting-identified-investigation-continues/\n"
     ]
    },
    {
     "name": "stderr",
     "output_type": "stream",
     "text": [
      "  5%|▌         | 55/1054 [04:28<1:05:47,  3.95s/it]"
     ]
    },
    {
     "name": "stdout",
     "output_type": "stream",
     "text": [
      "Snippet fetched using wayback method for URL: https://www.abc6.com/man-shot-during-confrontation-with-police-in-lakeville/\n"
     ]
    },
    {
     "name": "stderr",
     "output_type": "stream",
     "text": [
      "  5%|▌         | 56/1054 [04:29<51:43,  3.11s/it]  "
     ]
    },
    {
     "name": "stdout",
     "output_type": "stream",
     "text": [
      "Snippet fetched using wayback method for URL: https://www.abc6.com/one-injured-during-early-morning-officer-involved-shooting-in-lakeville/\n"
     ]
    },
    {
     "name": "stderr",
     "output_type": "stream",
     "text": [
      "  5%|▌         | 57/1054 [04:31<45:12,  2.72s/it]"
     ]
    },
    {
     "name": "stdout",
     "output_type": "stream",
     "text": [
      "Snippet fetched using wayback method for URL: https://www.startribune.com/ruling-likely-puts-pressure-on-minneapolis-to-settle-lawsuit-by-journalists-observers-say/600308686/\n"
     ]
    },
    {
     "name": "stderr",
     "output_type": "stream",
     "text": [
      "  6%|▌         | 58/1054 [04:33<44:20,  2.67s/it]"
     ]
    },
    {
     "name": "stdout",
     "output_type": "stream",
     "text": [
      "Snippet fetched using wayback method for URL: https://www.baltimoresun.com/maryland/baltimore-city/bs-md-ci-west-lafayette-avenue-shooting-20230929-uf2osclhubb6phhr4khdlu3pq4-story.html\n",
      "newspaper3k method failed with exception: Article `download()` failed with 410 Client Error: Gone for url: https://www.sfgate.com/news/world/article/2-mexican-migrants-shot-dead-3-injured-in-dawn-18397735.php on URL https://www.sfgate.com/news/world/article/2-mexican-migrants-shot-dead-3-injured-in-dawn-18397735.php\n"
     ]
    },
    {
     "name": "stderr",
     "output_type": "stream",
     "text": [
      "  6%|▌         | 59/1054 [04:34<34:44,  2.09s/it]"
     ]
    },
    {
     "name": "stdout",
     "output_type": "stream",
     "text": [
      "Snippet fetched using wayback method for URL: https://www.sfgate.com/news/world/article/2-mexican-migrants-shot-dead-3-injured-in-dawn-18397735.php\n"
     ]
    },
    {
     "name": "stderr",
     "output_type": "stream",
     "text": [
      "  6%|▌         | 60/1054 [04:34<26:01,  1.57s/it]"
     ]
    },
    {
     "name": "stdout",
     "output_type": "stream",
     "text": [
      "Snippet fetched using wayback method for URL: https://www.seattlepi.com/news/world/article/2-mexican-migrants-shot-dead-3-injured-in-dawn-18397735.php\n"
     ]
    },
    {
     "name": "stderr",
     "output_type": "stream",
     "text": [
      "  6%|▌         | 61/1054 [04:36<26:25,  1.60s/it]"
     ]
    },
    {
     "name": "stdout",
     "output_type": "stream",
     "text": [
      "Snippet fetched using wayback method for URL: https://martinezgazette.com/update-on-martinez-officer-involved-shooting/\n"
     ]
    },
    {
     "name": "stderr",
     "output_type": "stream",
     "text": [
      "  6%|▌         | 62/1054 [04:38<27:04,  1.64s/it]"
     ]
    },
    {
     "name": "stdout",
     "output_type": "stream",
     "text": [
      "Snippet fetched using newspaper3k method for URL: https://www.local10.com/news/local/2023/09/29/officers-shoot-armed-man-in-northwest-miami-dade-police-say/\n"
     ]
    },
    {
     "name": "stderr",
     "output_type": "stream",
     "text": [
      "  6%|▌         | 63/1054 [04:38<22:14,  1.35s/it]"
     ]
    },
    {
     "name": "stdout",
     "output_type": "stream",
     "text": [
      "Snippet fetched using wayback method for URL: https://www.sandiegouniontribune.com/news/nation-world/story/2023-09-29/2-mexican-migrants-shot-dead-3-injured-in-dawn-attack-on-us-border-near-tecate-mexico\n"
     ]
    },
    {
     "name": "stderr",
     "output_type": "stream",
     "text": [
      "  6%|▌         | 64/1054 [04:39<16:56,  1.03s/it]"
     ]
    },
    {
     "name": "stdout",
     "output_type": "stream",
     "text": [
      "Snippet fetched using newspaper3k method for URL: https://nypost.com/2023/09/29/influencer-meatball-regrets-part-in-riots-family-ashamed/\n"
     ]
    },
    {
     "name": "stderr",
     "output_type": "stream",
     "text": [
      "  6%|▌         | 64/1054 [04:40<1:12:20,  4.38s/it]\n"
     ]
    },
    {
     "ename": "KeyboardInterrupt",
     "evalue": "",
     "output_type": "error",
     "traceback": [
      "\u001b[0;31m---------------------------------------------------------------------------\u001b[0m",
      "\u001b[0;31mKeyboardInterrupt\u001b[0m                         Traceback (most recent call last)",
      "\u001b[1;32m/Users/karenwang/Projects/semantic-search/data_retrieval/mediacloud_data.ipynb Cell 8\u001b[0m line \u001b[0;36m4\n\u001b[1;32m      <a href='vscode-notebook-cell:/Users/karenwang/Projects/semantic-search/data_retrieval/mediacloud_data.ipynb#W4sZmlsZQ%3D%3D?line=1'>2</a>\u001b[0m article_url \u001b[39m=\u001b[39m article[\u001b[39m'\u001b[39m\u001b[39murl\u001b[39m\u001b[39m'\u001b[39m]\n\u001b[1;32m      <a href='vscode-notebook-cell:/Users/karenwang/Projects/semantic-search/data_retrieval/mediacloud_data.ipynb#W4sZmlsZQ%3D%3D?line=2'>3</a>\u001b[0m wayback_url \u001b[39m=\u001b[39m article[\u001b[39m'\u001b[39m\u001b[39marticle_url\u001b[39m\u001b[39m'\u001b[39m]\n\u001b[0;32m----> <a href='vscode-notebook-cell:/Users/karenwang/Projects/semantic-search/data_retrieval/mediacloud_data.ipynb#W4sZmlsZQ%3D%3D?line=3'>4</a>\u001b[0m snippet, method_used \u001b[39m=\u001b[39m fetch_snippet(article_url, wayback_url)\n\u001b[1;32m      <a href='vscode-notebook-cell:/Users/karenwang/Projects/semantic-search/data_retrieval/mediacloud_data.ipynb#W4sZmlsZQ%3D%3D?line=4'>5</a>\u001b[0m \u001b[39mif\u001b[39;00m snippet:\n\u001b[1;32m      <a href='vscode-notebook-cell:/Users/karenwang/Projects/semantic-search/data_retrieval/mediacloud_data.ipynb#W4sZmlsZQ%3D%3D?line=5'>6</a>\u001b[0m     sanitized_snippet \u001b[39m=\u001b[39m sanitize_snippet(snippet)\n",
      "\u001b[1;32m/Users/karenwang/Projects/semantic-search/data_retrieval/mediacloud_data.ipynb Cell 8\u001b[0m line \u001b[0;36m2\n\u001b[1;32m     <a href='vscode-notebook-cell:/Users/karenwang/Projects/semantic-search/data_retrieval/mediacloud_data.ipynb#W4sZmlsZQ%3D%3D?line=14'>15</a>\u001b[0m \u001b[39mwith\u001b[39;00m concurrent\u001b[39m.\u001b[39mfutures\u001b[39m.\u001b[39mThreadPoolExecutor(max_workers\u001b[39m=\u001b[39m\u001b[39m2\u001b[39m) \u001b[39mas\u001b[39;00m executor:\n\u001b[1;32m     <a href='vscode-notebook-cell:/Users/karenwang/Projects/semantic-search/data_retrieval/mediacloud_data.ipynb#W4sZmlsZQ%3D%3D?line=15'>16</a>\u001b[0m     future_to_method \u001b[39m=\u001b[39m {\n\u001b[1;32m     <a href='vscode-notebook-cell:/Users/karenwang/Projects/semantic-search/data_retrieval/mediacloud_data.ipynb#W4sZmlsZQ%3D%3D?line=16'>17</a>\u001b[0m         executor\u001b[39m.\u001b[39msubmit(get_snippet_from_newspaper3k, article_url): \u001b[39m'\u001b[39m\u001b[39mnewspaper3k\u001b[39m\u001b[39m'\u001b[39m,\n\u001b[1;32m     <a href='vscode-notebook-cell:/Users/karenwang/Projects/semantic-search/data_retrieval/mediacloud_data.ipynb#W4sZmlsZQ%3D%3D?line=17'>18</a>\u001b[0m         executor\u001b[39m.\u001b[39msubmit(get_snippet_from_wayback_machine, wayback_url): \u001b[39m'\u001b[39m\u001b[39mwayback\u001b[39m\u001b[39m'\u001b[39m\n\u001b[1;32m     <a href='vscode-notebook-cell:/Users/karenwang/Projects/semantic-search/data_retrieval/mediacloud_data.ipynb#W4sZmlsZQ%3D%3D?line=18'>19</a>\u001b[0m     }\n\u001b[0;32m---> <a href='vscode-notebook-cell:/Users/karenwang/Projects/semantic-search/data_retrieval/mediacloud_data.ipynb#W4sZmlsZQ%3D%3D?line=19'>20</a>\u001b[0m     \u001b[39mfor\u001b[39;49;00m future \u001b[39min\u001b[39;49;00m concurrent\u001b[39m.\u001b[39;49mfutures\u001b[39m.\u001b[39;49mas_completed(future_to_method):\n\u001b[1;32m     <a href='vscode-notebook-cell:/Users/karenwang/Projects/semantic-search/data_retrieval/mediacloud_data.ipynb#W4sZmlsZQ%3D%3D?line=20'>21</a>\u001b[0m         method \u001b[39m=\u001b[39;49m future_to_method[future]\n\u001b[1;32m     <a href='vscode-notebook-cell:/Users/karenwang/Projects/semantic-search/data_retrieval/mediacloud_data.ipynb#W4sZmlsZQ%3D%3D?line=21'>22</a>\u001b[0m         \u001b[39mtry\u001b[39;49;00m:\n",
      "File \u001b[0;32m/opt/homebrew/Cellar/python@3.11/3.11.5/Frameworks/Python.framework/Versions/3.11/lib/python3.11/concurrent/futures/_base.py:243\u001b[0m, in \u001b[0;36mas_completed\u001b[0;34m(fs, timeout)\u001b[0m\n\u001b[1;32m    238\u001b[0m     \u001b[39mif\u001b[39;00m wait_timeout \u001b[39m<\u001b[39m \u001b[39m0\u001b[39m:\n\u001b[1;32m    239\u001b[0m         \u001b[39mraise\u001b[39;00m \u001b[39mTimeoutError\u001b[39;00m(\n\u001b[1;32m    240\u001b[0m                 \u001b[39m'\u001b[39m\u001b[39m%d\u001b[39;00m\u001b[39m (of \u001b[39m\u001b[39m%d\u001b[39;00m\u001b[39m) futures unfinished\u001b[39m\u001b[39m'\u001b[39m \u001b[39m%\u001b[39m (\n\u001b[1;32m    241\u001b[0m                 \u001b[39mlen\u001b[39m(pending), total_futures))\n\u001b[0;32m--> 243\u001b[0m waiter\u001b[39m.\u001b[39;49mevent\u001b[39m.\u001b[39;49mwait(wait_timeout)\n\u001b[1;32m    245\u001b[0m \u001b[39mwith\u001b[39;00m waiter\u001b[39m.\u001b[39mlock:\n\u001b[1;32m    246\u001b[0m     finished \u001b[39m=\u001b[39m waiter\u001b[39m.\u001b[39mfinished_futures\n",
      "File \u001b[0;32m/opt/homebrew/Cellar/python@3.11/3.11.5/Frameworks/Python.framework/Versions/3.11/lib/python3.11/threading.py:622\u001b[0m, in \u001b[0;36mEvent.wait\u001b[0;34m(self, timeout)\u001b[0m\n\u001b[1;32m    620\u001b[0m signaled \u001b[39m=\u001b[39m \u001b[39mself\u001b[39m\u001b[39m.\u001b[39m_flag\n\u001b[1;32m    621\u001b[0m \u001b[39mif\u001b[39;00m \u001b[39mnot\u001b[39;00m signaled:\n\u001b[0;32m--> 622\u001b[0m     signaled \u001b[39m=\u001b[39m \u001b[39mself\u001b[39;49m\u001b[39m.\u001b[39;49m_cond\u001b[39m.\u001b[39;49mwait(timeout)\n\u001b[1;32m    623\u001b[0m \u001b[39mreturn\u001b[39;00m signaled\n",
      "File \u001b[0;32m/opt/homebrew/Cellar/python@3.11/3.11.5/Frameworks/Python.framework/Versions/3.11/lib/python3.11/threading.py:320\u001b[0m, in \u001b[0;36mCondition.wait\u001b[0;34m(self, timeout)\u001b[0m\n\u001b[1;32m    318\u001b[0m \u001b[39mtry\u001b[39;00m:    \u001b[39m# restore state no matter what (e.g., KeyboardInterrupt)\u001b[39;00m\n\u001b[1;32m    319\u001b[0m     \u001b[39mif\u001b[39;00m timeout \u001b[39mis\u001b[39;00m \u001b[39mNone\u001b[39;00m:\n\u001b[0;32m--> 320\u001b[0m         waiter\u001b[39m.\u001b[39;49macquire()\n\u001b[1;32m    321\u001b[0m         gotit \u001b[39m=\u001b[39m \u001b[39mTrue\u001b[39;00m\n\u001b[1;32m    322\u001b[0m     \u001b[39melse\u001b[39;00m:\n",
      "\u001b[0;31mKeyboardInterrupt\u001b[0m: "
     ]
    }
   ],
   "source": [
    "for index, article in tqdm(combined_results.iterrows(), total=combined_results.shape[0]):\n",
    "    article_url = article['url']\n",
    "    wayback_url = article['article_url']\n",
    "    snippet, method_used = fetch_snippet(article_url, wayback_url)\n",
    "    if snippet:\n",
    "        sanitized_snippet = sanitize_snippet(snippet)\n",
    "        combined_results.loc[index, 'snippet'] = sanitized_snippet\n",
    "        print(f\"Snippet fetched using {method_used} method for URL: {article_url}\")"
   ]
  },
  {
   "cell_type": "code",
   "execution_count": null,
   "metadata": {},
   "outputs": [],
   "source": [
    "combined_results.to_csv(f'./data_storage/{start}.csv', index=False)\n",
    "print(f\"Data retrieval complete. Results saved to './data_storage/{start}.csv'.\")"
   ]
  }
 ],
 "metadata": {
  "kernelspec": {
   "display_name": "semantic-search",
   "language": "python",
   "name": "python3"
  },
  "language_info": {
   "codemirror_mode": {
    "name": "ipython",
    "version": 3
   },
   "file_extension": ".py",
   "mimetype": "text/x-python",
   "name": "python",
   "nbconvert_exporter": "python",
   "pygments_lexer": "ipython3",
   "version": "3.11.6"
  }
 },
 "nbformat": 4,
 "nbformat_minor": 2
}
