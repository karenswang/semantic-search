{
 "cells": [
  {
   "cell_type": "code",
   "execution_count": 1,
   "metadata": {},
   "outputs": [],
   "source": [
    "from waybacknews.searchapi import SearchApiClient\n",
    "from datetime import datetime\n",
    "import pandas as pd\n",
    "import requests\n",
    "from retrying import retry\n",
    "import requests_cache\n",
    "from tqdm import tqdm\n",
    "import mediacloud.api\n",
    "from newspaper import Article\n",
    "# import unicodedata\n",
    "import concurrent.futures\n",
    "from utils.utils import split_into_chunks, fetch_snippet, sanitize_snippet, get_snippet_from_wayback_machine\n",
    "\n",
    "import weaviate\n",
    "import json\n",
    "import os"
   ]
  },
  {
   "cell_type": "code",
   "execution_count": 2,
   "metadata": {},
   "outputs": [],
   "source": [
    "OPENAI_APIKEY = os.environ['OPENAI_API_KEY']\n",
    "client = weaviate.Client(\n",
    "    url = \"https://semantic-search-cluster-mp9jmm6o.weaviate.network\",  # Replace with your endpoint\n",
    "    auth_client_secret=weaviate.AuthApiKey(api_key=\"kEzuSpJyK8J7IDLLsmzoBlH8mOtkrfkCjIH6\"),  # Replace w/ your Weaviate instance API key\n",
    "    additional_headers = {\n",
    "        \"X-OpenAI-Api-Key\": OPENAI_APIKEY  # Replace with your inference API key\n",
    "    }\n",
    ")\n",
    "\n",
    "if client.schema.exists(\"Article\"):\n",
    "    client.schema.delete_class(\"Article\")"
   ]
  },
  {
   "cell_type": "code",
   "execution_count": 3,
   "metadata": {},
   "outputs": [],
   "source": [
    "class_obj = {\n",
    "    \"class\": \"Article\",\n",
    "    \"vectorizer\": \"text2vec-openai\",  # If set to \"none\" you must always provide vectors yourself. Could be any other \"text2vec-*\" also.\n",
    "    \"moduleConfig\": {\n",
    "        \"text2vec-openai\": {},\n",
    "        \"generative-openai\": {}  # Ensure the `generative-openai` module is used for generative queries\n",
    "    }\n",
    "}\n",
    "\n",
    "client.schema.create_class(class_obj)"
   ]
  },
  {
   "cell_type": "code",
   "execution_count": 6,
   "metadata": {},
   "outputs": [
    {
     "name": "stdout",
     "output_type": "stream",
     "text": [
      "Number of sources: 8913\n",
      "Found 145 articles\n",
      "Found 107 articles\n",
      "Found 20 articles\n",
      "Found 6 articles\n",
      "Found 9 articles\n",
      "Found 6 articles\n",
      "Found 1 articles\n",
      "Found 0 articles\n",
      "Found 1 articles\n",
      "(295, 9)\n",
      "after dropping duplicates:  (148, 9)\n"
     ]
    },
    {
     "name": "stderr",
     "output_type": "stream",
     "text": [
      "100%|██████████| 148/148 [01:20<00:00,  1.85it/s]"
     ]
    },
    {
     "name": "stdout",
     "output_type": "stream",
     "text": [
      "(148, 10)\n",
      "after dropping null snippets:  (148, 10)\n",
      "Data retrieval complete. Results saved to './data_storage/2023-12-01 00:00:00.csv'.\n"
     ]
    },
    {
     "name": "stderr",
     "output_type": "stream",
     "text": [
      "\n"
     ]
    }
   ],
   "source": [
    "# get news domains\n",
    "collection_id = \"38379429\"\n",
    "directory_api = mediacloud.api.DirectoryApi(auth_token='e85cce24da8b73eaa05329d258146c044ef055db')\n",
    "api = SearchApiClient(\"mediacloud\")\n",
    "\n",
    "all_domains = []\n",
    "# Pagination setup\n",
    "offset = 0\n",
    "limit = 100  # seems to have a 100 limit\n",
    "more_pages = True\n",
    "\n",
    "while more_pages:\n",
    "    # Fetch sources with current offset\n",
    "    sources_response = directory_api.source_list(collection_id=collection_id, limit=limit, offset=offset)\n",
    "    sources = sources_response.get('results', [])\n",
    "    domains = [source['homepage'] for source in sources]\n",
    "    all_domains.extend(domains)\n",
    "    \n",
    "    # Update the offset\n",
    "    offset += limit\n",
    "    \n",
    "    # Check if there are more pages to fetch\n",
    "    more_pages = len(sources) == limit\n",
    "\n",
    "# Cleaning up domains\n",
    "cleaned_domains = [\n",
    "    domain.replace('https://www.', '')\n",
    "          .replace('http://www.', '')\n",
    "          .replace('https://', '')\n",
    "          .replace('http://', '')\n",
    "          .replace('#spider', '')\n",
    "          .replace('/#spider', '')\n",
    "          .rstrip('/')\n",
    "    for domain in all_domains\n",
    "    if domain  # Ensure the domain is not None or empty\n",
    "]\n",
    "print(f\"Number of sources: {len(cleaned_domains)}\")\n",
    "domains_df = pd.DataFrame(cleaned_domains, columns=['Domain'])\n",
    "# Save the DataFrame to a CSV file\n",
    "# domains_df.to_csv('domains.csv', index=False)\n",
    "\n",
    "domain_chunks = list(split_into_chunks(cleaned_domains, 1000))\n",
    "\n",
    "# sources_response = directory_api.source_list(collection_id=collection_id)\n",
    "# domains = [source['homepage'] for source in sources_response['results']]\n",
    "# num_sources = len(sources_response['results'])\n",
    "# print(f\"Number of sources: {num_sources}\")\n",
    "\n",
    "# cleaned_domains = [domain.replace('https://www.', '').replace('http://www.', '').replace('https://','').replace('http://','') for domain in domains]\n",
    "# cleaned_domains = [url.rstrip('/') for url in cleaned_domains]\n",
    "# print(cleaned_domains)\n",
    "\n",
    "# Enable requests cache\n",
    "requests_cache.install_cache('article_cache', backend='filesystem', expire_after=3600)\n",
    "\n",
    "\n",
    "# Query parameters\n",
    "# query_term = '(\"police shooting\" OR \"shot by police\" OR \"police shot\" OR \"officer-involved shooting\" OR \"police-involved shooting\" OR \"police officer shooting\" OR \"police shot\" OR \"officer shot\")'\n",
    "query_term = '(\"police shooting\" OR \"shot by police\" OR \"police shot\" OR \"officer-involved shooting\" OR \"police-involved shooting\" OR \"police officer shooting\" OR \"officer shot\" OR \"deputy shot\" OR \"sheriff shot\" OR \"cop shot\" OR \"trooper shot\" OR \"shot by officer\" OR \"shot by deputy\" OR \"shot by sheriff\" OR \"shot by cop\" OR \"shot by trooper\" OR \\\n",
    "    \"killed by police\" OR \"killed by officer\" OR \"killed by deputy\" OR \"killed by sheriff\" OR \"killed by cop\" OR \"killed by trooper\")'\n",
    "\n",
    "# query_term = 'police AND shot'\n",
    "start = datetime(2023, 12, 1) #11/6 - 11/15\n",
    "end = datetime(2023, 12, 4) \n",
    "language = \"en\"\n",
    "\n",
    "# DataFrame to store combined results\n",
    "combined_results = pd.DataFrame()\n",
    "results_list = []\n",
    "\n",
    "for chunk in domain_chunks:\n",
    "    domains_str = f\"domain:({' OR '.join(chunk)})\"\n",
    "    query = f\"{query_term} AND language:{language} AND {domains_str}\"\n",
    "    \n",
    "    # Perform the search with the current chunk\n",
    "    articles = []\n",
    "    for list_of_articles in api.all_articles(query, start, end):\n",
    "        articles.extend(list_of_articles)\n",
    "        print(f\"Found {len(articles)} articles\")\n",
    "    \n",
    "    if articles:\n",
    "        chunk_results = pd.DataFrame(articles)\n",
    "        results_list.append(chunk_results)\n",
    "    \n",
    "\n",
    "# Concatenate all DataFrames in the list\n",
    "combined_results = pd.concat(results_list, ignore_index=True)\n",
    "# results = pd.DataFrame(articles).sort_values(by='publication_date', ascending=False)\n",
    "combined_results.sort_values(by='publication_date', ascending=False, inplace=True)\n",
    "print(combined_results.shape)\n",
    "combined_results.drop_duplicates(subset=['title'], keep='first', inplace=True)\n",
    "print(\"after dropping duplicates: \", combined_results.shape)\n",
    "# combined_results.to_csv(f'./data_storage/{start}_no_snippet.csv', index=False)\n",
    "\n",
    "\n",
    "for index, article in tqdm(combined_results.iterrows(), total=combined_results.shape[0]):\n",
    "    # only use wayback machine\n",
    "    wayback_url = article['article_url']\n",
    "    snippet = get_snippet_from_wayback_machine(wayback_url)\n",
    "    if snippet:\n",
    "        sanitized_snippet = sanitize_snippet(snippet)\n",
    "        combined_results.loc[index, 'snippet'] = sanitized_snippet\n",
    "        \n",
    "    # or concurrently run mediacloud wayback machine and newspaper3k\n",
    "    # article_url = article['url']\n",
    "    # wayback_url = article['article_url']\n",
    "    # snippet, method_used = fetch_snippet(article_url, wayback_url)\n",
    "    # if snippet:\n",
    "    #     sanitized_snippet = sanitize_snippet(snippet)\n",
    "    #     combined_results.loc[index, 'snippet'] = sanitized_snippet\n",
    "    #     # print(f\"Snippet fetched using {method_used} method for URL: {article_url}\")\n",
    "\n",
    "print(combined_results.shape)\n",
    "combined_results.dropna(subset=['snippet'], inplace=True)\n",
    "print(\"after dropping null snippets: \", combined_results.shape)\n",
    "# combined_results.to_csv(f'./data_storage/{start}.csv', index=False)\n",
    "print(f\"Data retrieval complete. Results saved to './data_storage/{start}.csv'.\")\n",
    "\n"
   ]
  },
  {
   "cell_type": "code",
   "execution_count": 8,
   "metadata": {},
   "outputs": [
    {
     "name": "stdout",
     "output_type": "stream",
     "text": [
      "Importing article: 1\n",
      "Importing article: 118\n",
      "Importing article: 120\n",
      "Importing article: 122\n",
      "Importing article: 132\n",
      "Importing article: 133\n",
      "Importing article: 138\n",
      "Importing article: 140\n",
      "Importing article: 272\n",
      "Importing article: 150\n",
      "Importing article: 151\n",
      "Importing article: 156\n",
      "Importing article: 158\n",
      "Importing article: 160\n",
      "Importing article: 161\n",
      "Importing article: 276\n",
      "Importing article: 277\n",
      "Importing article: 116\n",
      "Importing article: 78\n",
      "Importing article: 80\n",
      "Importing article: 83\n",
      "Importing article: 281\n",
      "Importing article: 90\n",
      "Importing article: 92\n",
      "Importing article: 100\n",
      "Importing article: 278\n",
      "Importing article: 114\n",
      "Importing article: 163\n",
      "Importing article: 269\n",
      "Importing article: 209\n",
      "Importing article: 215\n",
      "Importing article: 263\n",
      "Importing article: 223\n",
      "Importing article: 226\n",
      "Importing article: 227\n",
      "Importing article: 230\n",
      "Importing article: 240\n",
      "Importing article: 245\n",
      "Importing article: 252\n",
      "Importing article: 254\n",
      "Importing article: 204\n",
      "Importing article: 185\n",
      "Importing article: 176\n",
      "Importing article: 184\n",
      "Importing article: 186\n",
      "Importing article: 200\n",
      "Importing article: 187\n",
      "Importing article: 188\n",
      "Importing article: 128\n",
      "Importing article: 28\n",
      "Importing article: 11\n",
      "Importing article: 25\n",
      "Importing article: 288\n",
      "Importing article: 52\n",
      "Importing article: 51\n",
      "Importing article: 10\n",
      "Importing article: 53\n",
      "Importing article: 59\n",
      "Importing article: 50\n",
      "Importing article: 66\n",
      "Importing article: 294\n",
      "Importing article: 17\n",
      "Importing article: 293\n",
      "Importing article: 292\n",
      "Importing article: 228\n",
      "Importing article: 174\n",
      "Importing article: 170\n",
      "Importing article: 260\n",
      "Importing article: 168\n",
      "Importing article: 167\n",
      "Importing article: 235\n",
      "Importing article: 225\n",
      "Importing article: 166\n",
      "Importing article: 267\n",
      "Importing article: 216\n",
      "Importing article: 20\n",
      "Importing article: 198\n",
      "Importing article: 145\n",
      "Importing article: 259\n",
      "Importing article: 110\n",
      "Importing article: 109\n",
      "Importing article: 107\n",
      "Importing article: 8\n",
      "Importing article: 103\n",
      "Importing article: 88\n",
      "Importing article: 6\n",
      "Importing article: 86\n",
      "Importing article: 82\n",
      "Importing article: 282\n",
      "Importing article: 73\n",
      "Importing article: 242\n",
      "Importing article: 56\n",
      "Importing article: 137\n",
      "Importing article: 136\n",
      "Importing article: 134\n",
      "Importing article: 275\n",
      "Importing article: 121\n",
      "Importing article: 241\n",
      "Importing article: 12\n",
      "Importing article: 248\n",
      "Importing article: 7\n",
      "Importing article: 236\n",
      "Importing article: 63\n",
      "Importing article: 44\n",
      "Importing article: 264\n",
      "Importing article: 279\n",
      "Importing article: 93\n",
      "Importing article: 89\n",
      "Importing article: 84\n",
      "Importing article: 283\n",
      "Importing article: 159\n",
      "Importing article: 199\n",
      "Importing article: 34\n",
      "Importing article: 164\n",
      "Importing article: 268\n",
      "Importing article: 262\n",
      "Importing article: 280\n",
      "Importing article: 261\n",
      "Importing article: 148\n",
      "Importing article: 251\n",
      "Importing article: 39\n",
      "Importing article: 96\n",
      "Importing article: 87\n",
      "Importing article: 85\n",
      "Importing article: 81\n",
      "Importing article: 79\n",
      "Importing article: 55\n",
      "Importing article: 48\n",
      "Importing article: 30\n",
      "Importing article: 117\n",
      "Importing article: 29\n",
      "Importing article: 23\n",
      "Importing article: 22\n",
      "Importing article: 16\n",
      "Importing article: 5\n",
      "Importing article: 3\n",
      "Importing article: 246\n",
      "Importing article: 183\n",
      "Importing article: 244\n",
      "Importing article: 233\n",
      "Importing article: 232\n",
      "Importing article: 229\n",
      "Importing article: 217\n",
      "Importing article: 211\n",
      "Importing article: 195\n",
      "Importing article: 165\n",
      "Importing article: 127\n",
      "Importing article: 295\n"
     ]
    }
   ],
   "source": [
    "with client.batch(batch_size=100) as batch:\n",
    "    for index, row in combined_results.iterrows():\n",
    "        properties = {\n",
    "            \"title\": row['title'],\n",
    "            \"publication_date\": row['publication_date'],\n",
    "            \"snippet\": row['snippet']\n",
    "        }\n",
    "        batch.add_data_object(properties, \"Article\")\n",
    "        print(f\"Importing article: {index + 1}\")\n"
   ]
  },
  {
   "cell_type": "code",
   "execution_count": 16,
   "metadata": {},
   "outputs": [
    {
     "name": "stdout",
     "output_type": "stream",
     "text": [
      "{\n",
      "    \"data\": {\n",
      "        \"Get\": {\n",
      "            \"Article\": [\n",
      "                {\n",
      "                    \"_additional\": {\n",
      "                        \"generate\": {\n",
      "                            \"error\": null,\n",
      "                            \"singleResult\": \"A man was shot and killed by police in southeast Wichita after he pointed a gun at officers during a domestic dispute call.\"\n",
      "                        }\n",
      "                    },\n",
      "                    \"publication_date\": \"2023-12-03\",\n",
      "                    \"snippet\": \"Officer-involved shooting in southeast Wichita leaves one man dead WICHITA, Kan. (KAKE) - One man has died after an officer-involved shooting in southeast Wichita on Sunday. Wichita Police says officers were dispatched to the 4200 block of East Gilbert St. just after 2:15 p.m. for the report of a domestic dispute. Upon arrival, officers found the calling party, an adult female, who informed police the suspect was in the backyard making suicidal statements. According to police, officers made contact with the suspect, an adult male, and attempted to pat him down when he pulled out a firearm. Officers attempted to de-escalate the situation and told the suspect to put down the gun. The suspect pointed the gun at police and an officer fired their gun, shooting the suspect. The suspect was taken to an area hospital where he was later pronounced deceased. No officers were harmed in the shooting. Chief Joe Sullivan of the WPD says the incident was tragic and he is confident that officers handled the situation according to policy. Police say information on the case is limited and nothing else can be released at this time. The Sedgwick County Sheriff's Office will be investigating the case.\",\n",
      "                    \"title\": \"Officer-involved shooting in southeast Wichita leaves one man dead\"\n",
      "                },\n",
      "                {\n",
      "                    \"_additional\": {\n",
      "                        \"generate\": {\n",
      "                            \"error\": null,\n",
      "                            \"singleResult\": \"An officer-involved shooting in Lansing, Michigan resulted in the death of a man during a domestic violence situation, with the investigation being handed over to the Michigan State Police.\"\n",
      "                        }\n",
      "                    },\n",
      "                    \"publication_date\": \"2023-12-02\",\n",
      "                    \"snippet\": \"LANSING, Mich. (WLNS) \\u2013 The Lansing Police Department confirmed an officer-involved shooting that left one man dead happened overnight Saturday. According to LPD, officers responded to the 1600 block of Massachusetts Avenue at 11:19 p.m. for reports of a domestic violence situation where a person was armed and someone was shot. LPD added that once police arrived at the scene, an officer encountered an armed suspect and said this was when the police shooting took place. Law enforcement secured the suspect and attempted first aid. The Lansing Fire Department then took the man to the hospital, where he was later pronounced dead. LPD officials said a handgun was recovered at the scene and there were no other injuries. 6 News spoke to neighbors Saturday afternoon who claimed that the shooting had taken place in the space between two houses on the street. They also said that they had heard two sets of gunshots, and what had appeared to be two different guns. When 6 News made contact with a person at the house where the incident had occurred, they said they were not ready for an interview. They did say, however, that they had lost a loved one at the hands of the Lansing Police Department. Per department policy, the investigation has been turned over to the Michigan State Police.\",\n",
      "                    \"title\": \"Deadly officer-involved shooting late Friday night in Lansing\"\n",
      "                },\n",
      "                {\n",
      "                    \"_additional\": {\n",
      "                        \"generate\": {\n",
      "                            \"error\": null,\n",
      "                            \"singleResult\": \"A 34-year-old man was fatally shot by Idaho police after he fled a traffic stop, fired at officers, and engaged in a foot chase, resulting in an exchange of gunfire.\"\n",
      "                        }\n",
      "                    },\n",
      "                    \"publication_date\": \"2023-12-04\",\n",
      "                    \"snippet\": \"Idaho police kill suspect who opened fire on them during traffic stop A 34-year-old man was fatally shot by police after authorities said he fled a traffic stop and fired at officers in eastern Idaho early Monday morning. The Idaho State Police said the shooting occurred just after 1 a.m., when a trooper pulled a vehicle over for a traffic violation in Idaho Falls. The trooper also called for backup and as Idaho Falls Police officers arrived, a passenger in the car fired at them and fled the vehicle, authorities said. The ISP said the law enforcement officers chased the man on foot, and gunfire broke out. STABBING SUSPECT DEAD, POLICEWOMAN WOUNDED AFTER VIRGINIA GUNFIGHT \\u201cAt this time, it is believed that the ISP trooper and two IFPD officers exchanged gunfire with the man,\\u201d the ISP wrote. No officers were injured, but the man was shot. Law enforcement officers and emergency medical staffers provided medical aid, according to the state police, but the man died at the scene. His name was not immediately released so that family members could be notified. \\u201cThe exact dynamics of the incident remain under investigation,\\u201d the ISP said. The shooting is being investigated by a regional task force led by the Bingham County Sheriff\\u2019s Office. Both law enforcement agencies involved in the shooting will fully cooperate in the investigation, the ISP said.\",\n",
      "                    \"title\": \"Idaho police kill suspect who opened fire on them during traffic stop\"\n",
      "                },\n",
      "                {\n",
      "                    \"_additional\": {\n",
      "                        \"generate\": {\n",
      "                            \"error\": null,\n",
      "                            \"singleResult\": \"A male driver of a semitruck was shot and killed by police in Indianapolis after a 911 caller reported hearing a woman yelling for help inside the vehicle; the woman was later rescued and taken for questioning. The driver, identified as 60-year-old Lamont Bland, was involved in a disturbance inside the truck, and officers believed it to be a hostage situation. The lieutenant on the scene attempted to communicate with the driver, who made threats and claimed to have a knife to the woman's throat. Eventually, the officer fired a shot, killing the suspect. The incident is under investigation, and the lieutenant involved will be placed on administrative leave. This is the 17th police shooting in Indianapolis in 2023, the highest number since 2015.\"\n",
      "                        }\n",
      "                    },\n",
      "                    \"publication_date\": \"2023-12-01\",\n",
      "                    \"snippet\": \"IMPD on fatal police shooting inside semitruck: \\u2018This officer saved a woman\\u2019s life\\u2019 One person dead in southwest side police shooting \\u2013 News 8 at 10:30 p.m. UPDATE: The Marion County Coroner\\u2019s Office identified the suspect shot and killed by police as 60-year-old Lamont Bland. INDIANAPOLIS (WISH) \\u2014 The male driver of a semitruck died in a police shooting Thursday night after a 911 caller told police they heard a woman yelling for help inside the parked vehicle near a restaurant on the southwest side of Indianapolis. Indianapolis Metropolitan Police Department says no officers were hurt. Medics treated the woman at the scene before she was taken to the downtown IMPD homicide office to be interviewed. Police hoped to learn the relationship between her and the driver. The name of the driver nor the woman were publicly shared Thursday night. IMPD was sent to a \\u201ccall for help\\u201d involving a hostage situation about 7:20 p.m. Thursday at McDonald\\u2019s, 4941 Knights Way. That\\u2019s in an area with restaurants, hotels and truck stops just southwest of the interchange for I-69 and I-465. Medics were called to the scene for a person shot just before 7:45 p.m. Thursday. Lt. Shane Foley of IMPD says officers arrived to learn of a disturbance inside the semitruck and then forced their way into the cabin. The officers saw what appeared to be a hostage situation, Foley says. Assistant Chief Chris Bailey described what happened during an impromptu news conference about 10:30 p.m. that aired live on News 8. He talked about a lieutenant who moved into the cab to try to talk to the driver before the fatal shooting. \\u201cTonight, this officer saved a woman\\u2019s life,\\u201d he said. Officers arrived and spoke with the 911 caller, who pointed out the semitruck. They knocked on the door and saw the driver come from behind a curtain that separates the driving compartment from the sleeping compartment. Police tried to talk to the driver, who briefly sat in the driver\\u2019s seat before returning back to the sleeping compartment. \\u201cThat\\u2019s when the officers heard themselves a female scream from the back of that truck,\\u201d Bailey said. Officers sat up around the semitruck and made announcements. Eventually, police decided to break out the driver\\u2019s-side window to better see into and hear from the cab. In addition to the curtain separating the compartments, a curtain also was over the driver\\u2019s-side window. Bailey said, \\u201cThe lieutenant at one point opened the door and began communicating with the male inside \\u2026 the truck. The lieutenant asked the individual to identify himself. The lieutenant identified himself by first name. He was attempting to build a rapport with this individual. This individual kept saying he had a knife to the woman\\u2019s throat. All the while, the woman could be heard screaming that she was bleeding and needed help. This went on for a few minutes. \\u201cThe lieutenant, in my opinion, bravely inched into the car on multiple occasions to move the curtain back so he could see and continue to try to communicate with the individual inside the cab.\\u201d IMPD later reported that the driver told officers multiple statements, including \\u00e2I\\u00e2m going to kill her,\\u201d \\u00e2I got a knife to her throat,\\u00e2 and \\u00e2You\\u00e2re gonna die.\\u00e2 Eventually, the lieutenant got inside the semitruck and gave the driver orders again. \\u201cYou can briefly see, on the bodycam, the individual on top of the woman in back of the car. A shot was fired by the officer. The suspect was deceased inside the cab of the truck,\\u201d Bailey said. The assistant chief says other officers then came and freed the woman from the semitruck. Officers were seeking other witnesses at the scene in addition to the 911 caller. IMPD about 8:45 p.m. Thursday was awaiting warrants to search the semitruck, but the investigators were inside the semitruck by 10:30 p.m. An IMPD news release issued about 11:20 p.m. said a razor blade with blood was found in the sleeping cabin. Multiple officers were equipped with body-worn cameras, which were activated.\\u00e2\\u00af As is standard procedure, investigations will look into what happened and the police procedures used. The lieutenant will be placed on administrative leave. Bailey says other officers on the scene also may receive time off to process what happened. The police shooting was the 17th in 2023. It\\u2019s the most police shootings since 20 were recorded in 2015. Police generally release the names of officers in the shootings about a week after they happen. Bodycam footage is usually shared a few weeks later. Earlier this month, IMPD revealed it\\u2019s reached out to the Washington, D.C.-based nonprofit Police Executive Research Forum to submit a bid to conduct a study on what\\u2019s causing so many police shooting to happen. However, that process has yet to come to fruition, Bailey said Thursday night. After another police shooting, IMPD Deputy Chief Kendale Adams spoke at an August event, where he acknowledged the need for a larger conversation about what it looks like to deal with mental health, disputes, and trauma. Photo from News 8 reporter Adam Pinsker\",\n",
      "                    \"title\": \"IMPD on fatal police shooting inside semitruck: 'This officer saved a woman's life'\"\n",
      "                },\n",
      "                {\n",
      "                    \"_additional\": {\n",
      "                        \"generate\": {\n",
      "                            \"error\": null,\n",
      "                            \"singleResult\": \"Lansing Police Department held a news conference regarding a deadly officer-involved shooting in which Stephen Luis Romero was shot and killed during a response to a domestic assault call, and the incident is currently under investigation by the Michigan State Police.\"\n",
      "                        }\n",
      "                    },\n",
      "                    \"publication_date\": \"2023-12-03\",\n",
      "                    \"snippet\": \"LANSING, Mich. (WLNS) \\u2014 Lansing Police Department held a news conference Sunday regarding the deadly officer-involved shooting late Friday night in Lansing. Police shot Stephen Luis Romero, 33, during the response. Romero was later pronounced dead at the hospital, LPD Chief Ellery Sosebee said. At 11:19 p.m. Friday, Ingham County Central Dispatch received a 911 emergency call \\u201cfor a domestic assault in progress in the 1600 block of Massachusetts,\\u201d Sosebee said. Adding that at 11:23 p.m., officers were assigned to the call and began the response. A neighbor placed an emergency call at 11:24 p.m., saying they heard a gunshot and the sound of a woman crying. At 11:25 p.m., emergency dispatchers advised that the call was considered a shooting incident. Dispatch also said that \\u201ca female has been shot.\\u201d At 11:26 p.m., a witness told responders, \\u201cA woman is outside screaming she had been shot,\\u201d Sosebee said. At that point, LPD officers arrived on the scene, Sosebee said. The Chief said officers found a man standing next to a car with an open door in the driveway, with a woman sitting in the car seat by the open door. Officers gave repeated commands to the man \\u201cto show his hands and to get on the ground,\\u201d Sosebee said. During that encounter, police claim the man showed a gun, \\u201cand officers engage[d] him at that point.\\u201d At 11:27, he said, the officers told dispatch that shots had been fired. The officers approached the man and moved him away from the car, checking on the status of the woman in the car, who was the original caller. At that point, officers realized she had not been shot, police said. Officers began CPR on the man until the Lansing Fire Department arrived and took over before taking him to a hospital, police said. Chief Sosebee would not say whether Romero had shot at the officers or not, saying, \\u201cThat\\u2019s part of the investigation, and I don\\u2019t want to compromise the integrity of the case.\\u201d The Chief also said he could not release the information on whether anyone else was injured in the incident. Two LPD officers are now on paid administrative leave, Sosebee said. Michigan State Police is investigating the incident. Once MSP has gathered information and reviewed the video involved in the shooting, Sosebee will review and release the names of the officers involved, along with the video, he said.\",\n",
      "                    \"title\": \"Lansing Chief details officer\\u2019s actions during deadly police shooting\"\n",
      "                },\n",
      "                {\n",
      "                    \"_additional\": {\n",
      "                        \"generate\": {\n",
      "                            \"error\": null,\n",
      "                            \"singleResult\": \"A West Haven police officer was shot in the leg during a domestic violence incident, but has been released from the hospital, while the suspect was killed by another officer at the scene.\"\n",
      "                        }\n",
      "                    },\n",
      "                    \"publication_date\": \"2023-12-04\",\n",
      "                    \"snippet\": \"A West Haven police officer shot during an incident Friday morning has been released from the hospital, according to police. Officers responded to an apartment building on Terrace Avenue just before 2 a.m. Friday to investigate a domestic violence complaint and the suspect opened fire, shooting an officer in the leg. A West Haven police officer who was at the scener returned fire and struck the suspect. The man was taken to the hospital where he later died. The Office of Inspector General, the Milford States Attorney\\u2019s Office and the Connecticut State Police Central District Major Crime Squad are investigating. Get Connecticut local news, weather forecasts and entertainment stories to your inbox. Sign up for NBC Connecticut newsletters. The name of the officer and the name of the suspect have not yet been released. Sign up for our Breaking newsletter to get the most urgent news stories in your inbox.\",\n",
      "                    \"title\": \"West Haven officer shot during incident released from hospital\"\n",
      "                },\n",
      "                {\n",
      "                    \"_additional\": {\n",
      "                        \"generate\": {\n",
      "                            \"error\": null,\n",
      "                            \"singleResult\": \"Police in Austin, Texas are investigating the injuries of three bystanders as officers shot and killed a man who pointed a firearm at them in a bar, with indications that the suspect also fired his gun.\"\n",
      "                        }\n",
      "                    },\n",
      "                    \"publication_date\": \"2023-12-03\",\n",
      "                    \"snippet\": \"AUSTIN, Texas (AP) \\u00e2 Police in Texas are trying to determine who injured three bystanders as officers shot and killed a man who pointed a firearm at them at a bar in an Austin entertainment district. Police said three officers fired at the suspect, who was shot multiple times late Saturday night. Interim Police Chief Robin Henderson said they were still trying to determine who shot the bystanders. She said there were indications that the suspect also fired his gun. Henderson said an employee at the bar along Sixth Street had alerted police to a man with a firearm in the bar. Henderson said that when police approached him, he pulled out the firearm and pointed it at officers and bar patrons. The suspect has not yet been identified. Henderson said that one of the bystanders had critical injuries while the other two had injuries that were not life threatening. Per department protocol, the three officers involved in the shooting will be placed on administrative duty. Henderson said that video from their body cameras will be released within 10 business days. Copyright \\u00a9 2023 The Associated Press. All rights reserved. This material may not be published, broadcast, written or redistributed.\",\n",
      "                    \"title\": \"3 bystanders were injured as police fatally shot a man who pointed his gun at a Texas bar\"\n",
      "                },\n",
      "                {\n",
      "                    \"_additional\": {\n",
      "                        \"generate\": {\n",
      "                            \"error\": null,\n",
      "                            \"singleResult\": \"One man is dead and two officers are injured after an officer shot a suspected shoplifter at a Walmart in Spokane, Washington, following a long battle between the suspect and the police.\"\n",
      "                        }\n",
      "                    },\n",
      "                    \"publication_date\": \"2023-12-03\",\n",
      "                    \"snippet\": \"SPOKANE, Wash. - One man is dead, and two officers are injured after an officer shot at a suspected shoplifter at the Walmart on north Colton. In a press conference on Sunday, Spokane Police Department (SPD) Chief Meidl said that a suspect was accused of shoplifting at around 9:15 a.m. At some point, SPD called for backup, and then, after what police say was a long battle between the suspect, an officer shot the suspect an unknown amount of times at 10:28 a.m. At some point, a taser was also fired during this incident. The suspect was pronounced dead on the scene. Near the scene, police found a gun and ammunition they believe belonged to the suspect. Two officers were injured during this incident; one was taken to the hospital. SPD says the officers were not shot, but the extent of their injuries is unknown. Walmart has been evacuated due to an incident, and there is no estimated time of reopening. The Spokane Independent Investigative Response (SIIR) team will investigate this, with the Spokane County Sheriff\\u00e2s Office (SCSO) leading that team in this shooting. As per Washington law, the Spokane Police Department will not have any hand in this investigation. This is a developing story and will be updated as information comes in.\",\n",
      "                    \"title\": \"Suspect dead, 2 officers injured following a shooting in north Spokane\"\n",
      "                },\n",
      "                {\n",
      "                    \"_additional\": {\n",
      "                        \"generate\": {\n",
      "                            \"error\": null,\n",
      "                            \"singleResult\": \"Wichita police released details of a fatal officer-involved shooting where a man with a history of carrying guns and making suicidal statements refused to cooperate, pulled out a handgun, and pointed it towards an officer, resulting in the officer firing four shots and killing the man.\"\n",
      "                        }\n",
      "                    },\n",
      "                    \"publication_date\": \"2023-12-04\",\n",
      "                    \"snippet\": \"Wichita police have released more information on a fatal officer-involved shooting that happened Sunday afternoon. Police said officers were sent to a report of a domestic disturbance in the 4200 block of East Gilbert, in a neighborhood northeast of the intersection of Lincoln and Oliver.\\u00c2 The officers were informed that a man involved in the disturbance was known to carry guns. Officers found the man standing in the street and they learned that he had been making suicidal statements.\\u00c2 \\u00c2 Officers wanted to search the man for weapons, but he did not cooperate and he pulled a handgun, holding it down to his side.\\u00c2 Police said he refused commands to drop the gun, then he raised the gun and pointed it toward one of the officers.\\u00c2 Another officer fired four times, with one shot hitting the man.\\u00c2 He was taken to a hospital where he was pronounced dead shortly after 3 p.m. The man was identified as 50-year-old Daniel Stowe of Wichita.\\u00c2 The Sedgwick County Sheriff\\u2019s Office will investigate the shooting, and its investigators recovered a loaded Glock 27 at the scene.\\u00c2 \\u00c2 Information will be presented to the Sedgwick County District Attorney\\u2019s office when the investigation is complete. [ photo is from a WPD Axon camera ]\",\n",
      "                    \"title\": \"Man dies after officer-involved shooting in Wichita\"\n",
      "                },\n",
      "                {\n",
      "                    \"_additional\": {\n",
      "                        \"generate\": {\n",
      "                            \"error\": null,\n",
      "                            \"singleResult\": \"The Lansing Police Department in Michigan released the name of the victim, Stephen Romero, who was shot and killed by police during a reported domestic dispute, and body camera footage of the incident will be released soon, while the family has hired a lawyer and neighbors express condolences.\"\n",
      "                        }\n",
      "                    },\n",
      "                    \"publication_date\": \"2023-12-04\",\n",
      "                    \"snippet\": \"LANSING, Mich. (WLNS) \\u2014 Lansing Police Department on Sunday released the name of the victim in Friday-night\\u2019s police shooting. In a news conference, Chief Ellery Sosebee said LPD had shot and killed 33-year-old Stephen Romero after they responded to a reported domestic dispute. He said LPD will release body camera footage from incident soon. Romero\\u2019s family did not want to go on camera, but they said they have hired a lawyer. 6 News on Sunday spoke with a neighbor of the family from two houses down, who recalled the events leading up to the shooting incident. \\u201cI woke up to a loud bang. A couple of loud bangs,\\u201d Sean Fidler said. \\u201cAnd then I stepped outside and seen a whole bunch of police.\\u201d Fidler recalls, \\u201cYou know, I went back in the house and called it a night. And then caught the news the next day to see what happened.\\u201d He said he had seen Romero just a few days before with one of his children. \\u201cHe was out here with his daughter,\\u201d Romero said. \\u201cWalking her in her stroller. It\\u2019s just sad that all this happened. You know, it really is.\\u201d Since the time of the deadly shooting, 6 News has received updates from police and from Romero\\u2019s family. \\u201cThey were trying to put him in custody, and a gun was presented,\\u201d LPD Chief Sosebee said in the news conference on Sunday. LPD had said a female, who was present at the time of the shooting, had called dispatch about a domestic situation. A second caller then alleged that the woman had been shot. When police arrived, officers said they told Romero to put up his hands\\u2013and that\\u2019s when they saw a gun. A reporter at the news conference asked whether Romero had shot at officers. His response was, \\u201cI\\u2019m not going to share any of that information at this point.\\u201d Sosebee also declined to share at the news conference whether anyone else had been injured in the incident, though no other injuries have been reported. Police discovered before beginning CPR on Romero that the woman involved had not been shot after all, according to Sosebee\\u2019s statement. 6 News spoke to Romero\\u2019s wife off-camera. She said the Detroit-based Geoffrey Fieger Law Firm is representing the family, and that police should not have shot her husband. Neighbor Sean Fidler has a message for the family: \\u201cMy condolences. I\\u2019m sorry. It\\u2019s a tragedy; it really is.\\u201d The two officers involved in the shooting are on paid administrative leave, which is standard procedure in such cases. Michigan State Police is handling the investigation.\",\n",
      "                    \"title\": \"Neighbor recalls officer-involved shooting in Lansing; latest from police\"\n",
      "                },\n",
      "                {\n",
      "                    \"_additional\": {\n",
      "                        \"generate\": {\n",
      "                            \"error\": null,\n",
      "                            \"singleResult\": \"A man was killed in a shootout with police during a routine traffic stop in Southern Idaho. The incident is being investigated by the Eastern Idaho Critical Incident Task Force.\"\n",
      "                        }\n",
      "                    },\n",
      "                    \"publication_date\": \"2023-12-04\",\n",
      "                    \"snippet\": \"1 Man Killed in Southern Idaho Shooting Monday Morning One man is dead after a routine traffic stop in Southern Idaho turned into a shootout with police. REPORT: 1 Dead After Officer Involved Shooting in Southern Idaho The Eastern Idaho Critical Incident Task Force is investigating an officer-involved shooting in Idaho Falls Monday Morning. A little after 1 AM, an Idaho State Police trooper pulled over a vehicle for a traffic violation. Idaho Falls Police were called to assist with the incident and were advised that a 34-year-old male passenger in the vehicle had fired a gun at them and then ran from the car. From the police report: - The trooper and arriving IFPD officers chased the man on foot. At this time, it is believed that the ISP trooper and two IFPD officers exchanged gunfire with the man during the incident which concluded in the area of the car dealership on the corner of Pancheri Drive and Yellowstone Highway. The exact dynamics of the incident remain under investigation. - After the incident, law enforcement provided the man with emergency medical aid. EMS from Idaho Falls Fire responded to assist as well, but the man died at the scene. The man's name will not be released at this time to allow for proper notification of next of kin and necessary investigative procedures. Police will release more information at a later time, when appropriate. Until then the incident is being investigated by a Critical Incident Task Force comprised of members from the local law enforcement working with the Prosecutor\\u2019s Office. The 34-year-old passenger is dead and no law enforcement officers were injured. RELATED STORY: 2 Dead After Shooting in Twin Falls Idaho Drivers: We're All BEGGING You to Stop Doing These 8 Things Gallery Credit: Stephanie Gull \\u00f0\\u00a8The 7 Most Forgotten and Ignored Idaho Traffic Laws Gallery Credit: Ryan Valenzuela\",\n",
      "                    \"title\": \"Officer Involved Fatality Shooting in Idaho Falls\"\n",
      "                },\n",
      "                {\n",
      "                    \"_additional\": {\n",
      "                        \"generate\": {\n",
      "                            \"error\": null,\n",
      "                            \"singleResult\": \"A veteran NYPD police officer shot and killed a man who had fatally stabbed his relatives, including two children and two adults, outside of a Queens home. The officer responded to a distress call and encountered the suspect, who drew a knife and attacked the officer. In response, the officer used his firearm to stop the assault. The officers discovered multiple victims inside the residence, including a 12-year-old boy, a 44-year-old woman, and a man in his 30s who were all dead. An 11-year-old girl who had also been stabbed was transported to the hospital but later died. The suspect had previously been arrested for domestic violence.\"\n",
      "                        }\n",
      "                    },\n",
      "                    \"publication_date\": \"2023-12-03\",\n",
      "                    \"snippet\": \"A veteran NYPD police officer killed a knife-wielding man who fatally stabbed his relatives \\u00e2 two children and two adults \\u00e2 to death moments before cops shot the man outside of a Queens home early Sunday morning, authorities said. \\u00e2A young female caller stated that her cousin is killing her family members,\\u00e2 said NYPD Chief of Department Jeffrey Maddrey, during a press conference held hours after 38-year-old Courtney Gordon allegedly attacked his relatives and a pair of police officers. Two officers from the 101st Precinct area in Far Rockaway, Queens responded to the residential distress call at 467 Beach 22nd St. after the 911 call was made around 5:10 a.m. When police arrived, they saw a male walking out of a home carrying luggage, the NYPD said. After a brief encounter with the patrolmen, Gordon drew a knife, stabbing one officer in the neck and chest area, according to police. In response to the attack, one of the officers used his firearm to end the carnage. \\u00e2He strikes the second officer in the head,\\u00e2 said Maddrey. \\u00e2Our 28-year veteran is able to draw his firearm, he\\u00e2s able to discharge his weapon to stop the assault and he was able to stop the perpetrator.\\u00e2 Upon entering the home, the officers found a 12-year-old boy, 44-year-old woman, and a man in his 30s dead inside the residence. Cops found an 11-year-old girl in the residence who had also been stabbed. She was transported to Cohen Children\\u00e2s Medical Center, Queens, where she died. A 61-year-old woman at the home also suffered multiple stab wounds. She\\u00e2s currently at an area hospital, officials said. According to police, after stabbing his relatives, Gordon lit the couch on fire as he made his escape. The two officers and Gordon were removed to local area hospitals. The suspect was pronounced dead on arrival, authorities said. He had been previously arrested in the Bronx for strangulation in a domestic violence incident, officials said. Gordan was a visitor to the home, not a resident, police said. The injured two police officers are expected to make a full recovery. National News Stories - Powerball: See the winning numbers in Saturday\\u00e2s $400 million drawing - Mega Millions numbers: Are you the lucky winner of Friday\\u00e2s $355 million jackpot? - Powerball: See the winning numbers in Wednesday\\u00e2s $374 million drawing - Henry Kissinger, secretary of state under Presidents Nixon and Ford, dies at 100 - Indian official plotted to assassinate Sikh separatist leader in New York, U.S. prosecutors say\",\n",
      "                    \"title\": \"NYPD: Man killed after fatally stabbing family members, attacking cops with a knife outside Queens home\"\n",
      "                },\n",
      "                {\n",
      "                    \"_additional\": {\n",
      "                        \"generate\": {\n",
      "                            \"error\": null,\n",
      "                            \"singleResult\": \"Police shot and killed a man suspected of shoplifting after a prolonged fight in a Walmart store in north Spokane, resulting in injuries to two officers and the closure of the store for investigation.\"\n",
      "                        }\n",
      "                    },\n",
      "                    \"publication_date\": \"2023-12-03\",\n",
      "                    \"snippet\": \"Police shot and killed a man suspected to be shoplifting after a \\u201cprolonged\\u201d fight in a north Spokane Walmart store on Sunday morning. Two officers were injured during a fight between the suspect and Spokane police officers, with one officer taken to a hospital, according to police Chief Craig Meidl. First-aid measures were performed on the suspect, but he \\u201csuccumbed to his injuries\\u201d on the scene, according to a news release. At 9:16 a.m., a Spokane police officer at the Walmart located at 9200 N. Colton St. became aware of the suspect in the process of \\u201ctaking things\\u201d from the store, Meidl said. The officer called for backup, and a second officer arrived. They contacted the suspect on the north side of the store, near the entrances, and tried to take him into custody. \\u201cAt that point a fight ensued; it was a very prolonged fight that continued into the store,\\u201d Meidl said. \\u201cDuring the process of that fight, one officer fired their weapon.\\u201d Officers put out a call that shots had been fired at 10:28 a.m. Meidl said he does not know how many shots were fired. The fight occurred in what Meidl said was \\u201ca very large area,\\u201d all within the Walmart. Officers located what appeared to be a firearm and ammunition belonging to the suspect, and police stun guns that appeared to have been deployed during the fight. The Walmart was evacuated; Meidl said he was not aware of any injured bystanders. Meidl said the Walmart will remain closed until responding officers investigate the scene, which was expected to take \\u201cseveral hours.\\u201d The Spokane Independent Investigative Response team is investigating the officer shooting. The officer who fired his weapon was placed on incident review leave, according to a news release. Both officers wore body cameras. The Spokane County Medical Examiner\\u2019s Office will release the man\\u2019s identity and cause and manner of death.\",\n",
      "                    \"title\": \"Shoplifting suspect shot and killed by police at Spokane Walmart store\"\n",
      "                },\n",
      "                {\n",
      "                    \"_additional\": {\n",
      "                        \"generate\": {\n",
      "                            \"error\": null,\n",
      "                            \"singleResult\": \"A man in Kansas City, Kansas was shot by police officers after pointing a rifle at them, and he was later arrested and charged with aggravated assault of a law enforcement officer.\"\n",
      "                        }\n",
      "                    },\n",
      "                    \"publication_date\": \"2023-12-04\",\n",
      "                    \"snippet\": \"The Kansas Bureau of Investigation said a man was shot by police officers early Monday during a confrontation in Kansas City, Kansas, and he was arrested after being treated at a hospital. The KBI said police were called to an apartment complex near 61st Street and Leavenworth Road around 3 a.m. on a report of someone firing shots in the parking lot.\\u00c2 Officers saw a man with a rifle leaning out of a second floor window.\\u00c2 The man pointed a rifle at an officer and another officer fired a shot, striking the man in the shoulder. The 21-year-old man was taken to a hospital, and he was released later in the day.\\u00c2 He was then booked into jail for aggravated assault of a law enforcement officer.\\u00c2 The KBI is investigating. It looks like you are not a member of VIP Club yet. Please fill out the form below to access the page and join the VIP Club\",\n",
      "                    \"title\": \"Man arrested after officer-involved shooting in KCK\"\n",
      "                },\n",
      "                {\n",
      "                    \"_additional\": {\n",
      "                        \"generate\": {\n",
      "                            \"error\": null,\n",
      "                            \"singleResult\": \"Attorneys for the family of Devonte Brown, a Black motorist who was fatally shot by a Georgia police officer, have released body camera footage showing that Brown was unarmed and trapped in his car when the officer opened fire.\"\n",
      "                        }\n",
      "                    },\n",
      "                    \"publication_date\": \"2023-12-04\",\n",
      "                    \"snippet\": \"The attorneys for the family of a Black motorist fatally shot by a Georgia police officer have released body camera footage of the incident that occurred two years ago. Footage obtained by Atlanta Black Star shows the moment a Cobb County officer struck 28-year-old Devonte Brown multiple times in August 2021, after he was pulled over for \\u201cdriving erratically\\u201d in Marietta. In the video, Brown\\u2019s damaged vehicle is surrounded by police patrol cars at the scene, and it appears that his airbags were deployed. \\u201cGet your hands up,\\u201d McConnell repeated. \\u201cGet your f**king hands up!\\u201d Brown is still inside the car at this time. Moments later, Brown pressed on the gas, and the cop shot into his vehicle 12 times, civil rights attorney Harry Daniels said in a statement on Thursday, Nov. 30. Daniels argued that the officer was not \\u201cunder immediate threat\\u201d when the officer opened fire. The officer then reported that shots were fired and requested first responders to the scene. About midway through the video, law enforcement officials approached Brown\\u2019s car. The Georgia Bureau of Investigation previously said he was transferred to a local hospital, where he was pronounced dead. \\u201cDevonte obviously got himself in a situation where he was being chased by police,\\u201d Daniels told WSB-TV. \\u201cAbsolutely deadly force was not warranted in this case; I mean he was trapped. He couldn\\u2019t get away. He was blocked in. There\\u2019s no getting away and using deadly force in that situation it was completely uncalled for and in my opinion it was unlawful.\\u201d Source: \\u2018Wasn\\u2019t a Threat\\u2019: Newly Released Video Shows Georgia Cop Fatally Shooting Unarmed Black Man \\u2018Trapped\\u2019 In Car After Traffic Stop\",\n",
      "                    \"title\": \"\\u2018Wasn\\u2019t a Threat\\u2019: Newly Released Video Shows Georgia Cop Fatally Shooting Unarmed Black Man \\u2018Trapped\\u2019 In Car After Traffic Stop\"\n",
      "                },\n",
      "                {\n",
      "                    \"_additional\": {\n",
      "                        \"generate\": {\n",
      "                            \"error\": null,\n",
      "                            \"singleResult\": \"A 38-year-old man in New York City used a knife to kill four relatives, including two children, before stabbing another woman and two police officers, resulting in his own death.\"\n",
      "                        }\n",
      "                    },\n",
      "                    \"publication_date\": \"2023-12-04\",\n",
      "                    \"snippet\": \"The latest mass killing in the United States happened Sunday in New York City when a 38-year-old man used a knife to kill four relatives, including two children, and stab another woman and two police officers before one of the officers fatally shot him. A young girl called 911 to report that her cousin was killing her family at a house in Queens. An 11-year-old girl found outside the house died at a hospital. After extinguishing a fire the man had set, authorities who entered the home found a 12-year-old boy, a 44-year-old woman and a man in his 30s who had all been fatally stabbed. A 61-year-old woman was also critically wounded during the attack. The two injured police officers are expected to recover. It was the country\\u00e2s 39th mass killing this year, according to a database maintained by The Associated Press and USA Today in partnership with Northeastern University. At least 203 people have died this year in those killings, which are defined as incidents in which four or more people have died within a 24-hour period, not including the killer \\u00e2 the same definition used by the FBI. Here\\u00e2s what happened in the other U.S. mass killings this year. MEMPHIS, TENNESSEE: Dec. 2 Police believe a 52-year-old man killed four of his female relatives \\u00e2 three women and a teenage girl \\u00e2 and seriously injured a fifth teen girl in a series of shootings at three different locations. The man fled but then died of a self-inflicted gunshot wound the next day. Authorities found his body in his car. CLINTON, NORTH CAROLINA: Oct. 26 Five people \\u00e2 ages 73, 58, 47, 39 and 33 \\u00e2 were found fatally shot in a home shortly before 1 a.m. Authorities said they received a 911 call from someone who spoke to a victim earlier that night and later found the bodies upon entering the home. The local sheriff did not immediately have information about a suspect but said his department was investigating some people of interest. LEWISTON, MAINE: Oct. 25 A 40-year-old man opened fire at a bowling alley and a restaurant, killing at least 18 people and wounding at least 13. He was a U.S. Army reservist and firearms instructor. Police found him dead two days later from a self-inflicted gunshot wound at a recycling facility where he had recently worked. Fellow service members had raised flags about his behavior, mental health state and potential for violence before the shootings. ROMEOVILLE, ILLINOIS: Sept. 17 A couple, their two children \\u00e2 ages 7 and 9 \\u00e2 and three dogs were found fatally shot in their suburban Chicago home. Police were asked to check on the family after one member did not show for work that morning and phone calls went unanswered, authorities said. A 32-year-old man was suspected in the deaths. He died days later after a fiery crash in Oklahoma, along with a passenger, and had a relationship with the victims, police said. LAKE TOWNSHIP, OHIO: Aug. 24 Five members of a family, including three children, were found dead at a home in Lake Township, Ohio, by police officers performing a welfare check. Authorities say a husband and wife and their two daughters and son died from gunshot wounds and their deaths are being investigated as a domestic dispute that turned deadly. It\\u00e2s unclear who fired the shots. OKLAHOMA CITY: Aug. 16 Police in Oklahoma City said a 28-year-old man fatally shot three young children \\u00e2 ages 9, 5 and 2 \\u00e2 and his estranged wife before taking his own life. Officers visited the family home following a report of a domestic disturbance. Authorities described the couple as married but separated and said police had never been called to a domestic disturbance at the home before. They added that investigators have not yet determined a motive. HAMPTON, GEORGIA: July 15 A 40-year-old man is accused of fatally shooting four people, all in their 60s, in a suburb south of Atlanta. Police said the man\\u00e2s motive was not immediately clear. The killings set off a massive search that ended with a shootout that killed the man in another suburb about 15 miles (24 kilometers) away. The exchange of gunfire wounded a sheriff\\u00e2s deputy and two police officers. SHREVEPORT, LOUISIANA: July 4 Multiple males are believed to have exchanged gunfire at an annual Independence Day block party just before midnight, leaving at least four people dead and at least seven others injured, according to police. Suspects were not quickly identified, and arrests were not immediately made. PHILADELPHIA: July 3 A 40-year-old man is accused of opening fire randomly with an AR-15-style rifle, killing four people and wounding four others, including a 2-year-old, in a southwest Philadelphia neighborhood. Authorities said the man fatally shot another person in a row house the day before. GREEN POND, SOUTH CAROLINA: July 2 A 33-year-old man was charged with murder in the killings of his sister-in-law and 11-year-old daughter after authorities found six people dead and one person in critical condition at a home while responding to reports of a house fire and stabbings, officials said. They did not immediately identify a motive. The man was later charged in connection with the other four deaths, according to media reports. KELLOGG, IDAHO: June 18 A 31-year-old man is accused of fatally shooting four members of a neighboring family in their apartment on Father\\u2019s Day. The man was upset that the neighbor\\u2019s 18-year-old son had reportedly exposed himself to the man\\u00e2s children, a police document alleges. SEQUATCHIE, TENNESSEE: June 15 A 48-year-old man is thought to be responsible for killing himself and five others \\u00e2 including three children and his estranged wife \\u00e2 in a home where police responded to a shooting and arrived to find the residence ablaze, authorities said. A seventh person suffered gunshot wounds and was found alive at the home after firefighters extinguished the flames. MESA, ARIZONA: May 26 A 20-year-old man shot four men to death and wounded a woman in a 12-hour crime spree in metro Phoenix, authorities said. He told police that he met the victims at random that day at a range of places, including a park and a convenience store, and became angry when the subject of drugs came up. NASH, TEXAS: May 23 Authorities jailed an 18-year-old man in connection with the shootings of his parents, sister and brother inside a home. A victim\\u2019s co-worker who went to the home after one of the victims failed to show up for work told police that the man said \\u00e2he had killed his family because they were cannibals, and they were going to eat him.\\u00e2 ALLEN, TEXAS: May 6 A 33-year-old man with an arsenal of legally-purchased firearms killed eight people and wounded seven others at a Dallas-area shopping center. He had posted online about his white supremacist and misogynistic views. A police officer fatally shot him within four minutes. LAKE WALES, FLORIDA: May 2 A 38-year-old man was suspected of fatally shooting a woman and her three children after police were called to an apartment complex where they found the bodies. After an hourslong standoff at a motel, police fatally shot the man. HENRYETTA, OKLAHOMA: May 1 A 39-year-old man fatally shot his wife, her three children and their two friends before killing himself, authorities said. They were all found dead on his rural property. He was a convicted rapist who had been freed from prison early, despite facing new sex charges in a separate case. MOJAVE, CALIFORNIA: April 30 Four people were found fatally shot inside an RV in a remote Mojave Desert community, authorities said. There were no immediate arrests, but two people were being sought for questioning as \\u00e2persons of interest.\\u00e2 CLEVELAND, TEXAS: April 28 A 38-year-old man was arrested after a four-day search. Authorities allege that the man charged into a neighbor\\u2019s home and killed five people, including a 9-year-old boy, after his neighbors asked him to stop firing his AR-style rifle because a baby was trying to sleep. BOWDOIN, MAINE: April 18 A 32-year-old man confessed to fatally shooting four people, including his parents, at a home. From there he fled and fired shots at moving vehicles on a highway. Several vehicles were hit by gunfire but the three people injured were a family all in the same car. DADEVILLE, ALABAMA: April 15 Six suspects \\u00e2 ages 15 to 20 \\u00e2 were charged with reckless murder in connection with a shooting at a Sweet 16 birthday party that killed four people and injured at least 32 others. Two high school seniors were killed. The other two killed were 19 and 23. LOUISVILLE, KENTUCKY: April 10 A 25-year-old bank employee armed with a rifle opened fire at his workplace, killing five people \\u00e2 including a close friend of Kentucky\\u00e2s governor \\u00e2 while livestreaming the attack on Instagram, authorities said. Police arrived as shots were still being fired inside Old National Bank and killed the shooter during an exchange of gunfire. MONROE, LOUISIANA: March 31 A 37-year-old man was arrested on arson and murder charges after a fire killed four people in a home, KNOE-TV reported. NASHVILLE, TENNESSEE: March 27 A 28-year-old killed three children and three adults in a shooting at a small Christian elementary school before being killed by police. The shooter was a former student there. Police have said the shooter \\u00e2was assigned female at birth\\u00e2 but used masculine pronouns on social media. SUMTER, SOUTH CAROLINA: March 21 A 42-year-old former soldier shot and killed three children as they slept in their home while their mother frantically sought help, authorities said. He also killed an Army soldier who was at the home before killing himself. The shooter and the children\\u2019s mother were divorced. BIRMINGHAM, ALABAMA: March 13 to 14 A 28-year-old man was suspected of killing four people in overnight shootings. Authorities said the man approached a police officer and said he had shot two people in Birmingham and two people in St. Clair County. DALLAS, TEXAS: March 12 An 18-year-old man and 20-year-old woman were charged in the fatal shootings of four people at an apartment. They told police they\\u00e2d broken into the home to take money. The man admitted to shooting all of the victims. The woman had dated one of the victims, and they were involved in a custody dispute over their son. An infant was found unharmed at the scene. MIAMI LAKES, FLORIDA: March 10 Police found three females and two males dead from apparent gunshot wounds inside a home, officials said. The wounds of one man appeared to be self-inflicted, leading investigators to believe the case was a murder-suicide. COCOA, FLORIDA: March 1 A 36-year-old man was arrested after fatally shooting his teenage daughter, her mother and two other people, authorities said. Deputies responded after one of two surviving children had called a relative for help. DAPHNE, ALABAMA: Feb. 22 A 21-year-old man was accused of killing his grandparents, his brother and a family friend with a handgun and pickaxe. Their bodies were found in the backyard of his grandparents\\u2019 home and inside a bedroom in the house, police said. ARKABUTLA, MISSISSIPPI: Feb. 17 A 52-year-old man shot and killed six people including his ex-wife and stepfather at multiple locations in a tiny rural community, authorities said. The man was armed with a shotgun and two handguns. A family friend said he had a history of mental illness. One victim was shot and killed while sitting in a pickup truck outside a convenience store. LUTTRELL, TENNESSEE: Jan. 29 A 52-year-old man who complained of having \\u00e2a devil in his head\\u00e2 fatally shot four children in his home before setting the residence ablaze and shooting himself, according to a prosecutor. The children were ages 5 to 15. HALF MOON BAY, CALIFORNIA: Jan. 23 A 66-year-old man was charged with killing seven people in back-to-back shootings at two mushroom farms. He pleaded not guilty. Prosecutors said he opened fire at the mushroom farm where he worked, killing four co-workers and wounding another one. They said he then drove to a mushroom farm he was fired from in 2015 and fatally shot three former co-workers. MONTEREY PARK, CALIFORNIA: Jan. 21 A 72-year-old man opened fire on a mostly elderly crowd at a Lunar New Year dance, killing 11 people and wounding nine. The man later died of an apparent self-inflicted gunshot wound. The massacre has been called the deadliest shooting in Los Angeles County history. GOSHEN, CALIFORNIA: Jan. 16 Authorities announced more than two dozen arrests during a gang crackdown following the fatal shootings of six people \\u00e2 including a teenage mother and her baby \\u00e2 that investigators believe stemmed from a gang rivalry. Two men have pleaded not guilty to the murder charges. CLEVELAND, OHIO: Jan. 13 A 41-year-old man was accused of fatally shooting his father, sister and nephew as well as another man and critically wounding an 8-year-old girl. The man pleaded not guilty. Police alleged that he shot victims in the head in different rooms of a home, then flagged down a police cruiser and directed officers to the scene. HIGH POINT, NORTH CAROLINA: Jan. 7 A 45-year-old man fatally shot his wife and three children and then himself. Authorities said all five lived together in the home. Two others escaped the house. One of the survivors was a relative of the family and another was an acquaintance. Both were in their 20s. ENOCH, UTAH: Jan. 4 A 42-year-old man fatally shot his five children, his mother-in-law and his wife and then killed himself two weeks after his wife filed for divorce. Child protective services had opened an investigation of the man on child abuse and threats to his family just weeks before the killing. Copyright \\u00a9 2023 The Associated Press. All rights reserved. This material may not be published, broadcast, written or redistributed.\",\n",
      "                    \"title\": \"A list of mass killings in the United States since January\"\n",
      "                },\n",
      "                {\n",
      "                    \"_additional\": {\n",
      "                        \"generate\": {\n",
      "                            \"error\": null,\n",
      "                            \"singleResult\": \"Indianapolis police officers shot and killed a man, Lamont Bland, after responding to a 911 call about a possible hostage situation in a semi-truck parked at a McDonald's. Body camera footage showed Bland on top of a woman in the back of the truck, and when he refused to comply with officers' commands, one officer fired a shot, injuring Bland who later died. The woman was treated for her injuries. The officer who fired the shot has been placed on administrative leave, and this incident marks the 17th time police have shot someone in Indianapolis this year.\"\n",
      "                        }\n",
      "                    },\n",
      "                    \"publication_date\": \"2023-12-01\",\n",
      "                    \"snippet\": \"INDIANAPOLIS \\u2014 Indianapolis police officers shot and killed a man late Thursday night. The incident started when they got a 911 call about a possible hostage situation in a semi-truck parked in the parking lot of a McDonald\\u2019s on the southwest side of the city. The officers got to the McDonalds near the I-69 and I-465 along Knight\\u2019s Way. \\u201cThe truck (in question) was pointed out to (officers) and they approached the truck, knocked on the door, and a observed male come out from the sleeping compartment of the semi cab,\\u201d said IMPD Asst. Chief Christ Bailey. He says the man, later identified as Lamont Bland, 60, looked at the officers and then retreated back into the sleeping compartment and pulled the curtain. That\\u2019s when Bailey says they heard a woman screaming calling out for help. Officers quickly got organized and tried to talk Bland out of the truck. The lead lieutenant at the scene led the effort. \\u201cThe lieutenant asked the individual to identify himself. He identified himself by first name. He was trying to build a rapport,\\u201d Bailey said. \\u201cThe individual kept saying that he had a knife to the woman\\u2019s throat. The woman kept saying she was bleeding.\\u201d Body camera footage caught the whole incident, according to Bailey. On that footage, he says you can see Bland on top of the woman in the back of the semi. At that point, he says a shot was fired by the officer. Bland was wounded and died soon afterward. The woman was treated for her injuries at the scene and then taken to IMPD\\u2019s Homicide Office to be interviewed about what happened. The lieutenant who fired the shot has been placed on administrative leave, which is standard procedure. Bailey said other officers involved will also get some time off to process the incident. This is the 17th time police have shot someone in Indianapolis this year. - NWS: Expect a Rainy Wednesday Across Indiana - Murder Suspect Kevin Mason Captured - FOUND: Momo the Monkey on the Loose: Indianapolis\\u2019 East Side on High Alert - Pacers GM: Contract Extension Talks with Buddy Hield Are \\u201cAt a Halt\\u201d But That Doesn\\u2019t Mean They\\u2019re Done - Pence: Trump Owes it to the American People to Debate - Second-Largest Jackpot in Hoosier Lottery History Won in Speedway - Teacher Fired After Complaining About Students in Recording - Indiana State Police K9 Koda Receives Life-Saving Armor - Indianapolis Firefighter Among More than 20 Arrested in Child Solicitation Sting - Cathedral High School on Lockdown Tuesday Afternoon - Kendall And Casey - Big Ten Championship Game's Future in Indianapolis Uncertain After 2024. - A new Buc-ee's will be less than 2 hours from Indy\",\n",
      "                    \"title\": \"Hostage Situation Ends With Police Fatally Shooting A Semi Driver\"\n",
      "                },\n",
      "                {\n",
      "                    \"_additional\": {\n",
      "                        \"generate\": {\n",
      "                            \"error\": null,\n",
      "                            \"singleResult\": \"Four people, including two children, were stabbed to death at a home in New York, and the suspect was shot and killed by police after attacking two officers.\"\n",
      "                        }\n",
      "                    },\n",
      "                    \"publication_date\": \"2023-12-03\",\n",
      "                    \"snippet\": \"NEW YORK (TND) \\u2014 Four people, including two children, were stabbed to death at a home in New York, police announced Sunday morning. The New York Police Department said 38-year-old Courtney Gordon was shot and killed at the scene after he attacked two officers outside the house. Police didn't identify the victims by name but described them as an 11-year-old girl, a 12-year-old boy, a 44-year-old woman, and a man in his 30s. A fifth person, a 61-year-old woman, was stabbed multiple times and taken to a hospital, where police said she is in critical condition. Chief of Department Jeffrey Maddrey broke the news at a media briefing from the Jamaica Hospital Medical Center. He said a \\\"young female\\\" called 911 around 5:10 a.m. local time and told dispatchers her cousin was killing family members in a Queens home. Maddrey said when police arrived at the scene, they saw a man who was carrying luggage and walking down the driveway. The man then stabbed one of the officers in the neck and chest before slashing the other officer in the head. Police said one of the officers shot the suspect. He was taken to the Jamaica Hospital Medical Center and pronounced dead. Maddrey said a young girl was found dead outside the home, which was on fire. Chief of Detectives Joe Kenny said investigators believe the suspect set fire to a couch inside the home after the murders. Once the fire department put out the fire, police went inside the home and found three more bodies, as well as the fifth victim. Maddrey said police found what they believe is the murder weapon -- a steak knife -- in the house. The investigation will determine if this was used to harm all the victims,\\\" Maddrey said. Kenny said Gordon had one previous arrest, as he was charged in connection to a strangulation/domestic violence incident in the Bronx. \\\"It seems he was a Bronx resident who was visiting family members at this location,\\\" Kenny said. The president of the Police Benevolent Association of the City of New York also spoke at the briefing. He described the suspect as a madman and praised responding officers, who included a a 28-year veteran and a 16-year veteran. \\\"This scene was chaos -- multiple victims, a house on fire, and a madman on a rampage, on a mission,\\\" he said. \\\"I'm thankful that these police officers showed up. Imagine what could have happened if these police officers weren't there.\\\" \\\"This madman tried to kill -- after he killed others -- a New York City police officer. The skill that this police officer had (by) shooting and stopping the threat after he was being stabbed -- unbelievable skill. I know both these police officers personally. (They) did an unbelievable job. True professionals,\\\" he continued. \\\"(They) are great men who were doing their jobs. And again, thank God they were there ... how many more victims could there have been if these skilled, professional police officers did not show up to this scene,\\\" he added.\\\" Maddrey said the officers are recovering at Jamaica Hospital Medical Center while the investigation continues to be ongoing. \\\"These are two experienced police officers ... they did an excellent job,\\\" he said.\",\n",
      "                    \"title\": \"'Madman' kills 4, including 2 children, at New York home, police say\"\n",
      "                },\n",
      "                {\n",
      "                    \"_additional\": {\n",
      "                        \"generate\": {\n",
      "                            \"error\": null,\n",
      "                            \"singleResult\": \"A police officer in Miami-Dade County shot a driver who had pinned him against a car after a car crash, leaving both the officer and driver injured but expected to recover.\"\n",
      "                        }\n",
      "                    },\n",
      "                    \"publication_date\": \"2023-12-02\",\n",
      "                    \"snippet\": \"MIAMI \\u00e2 A police officer shot the driver who was pinning him against a car on Friday in Miami-Dade County, police said. Miami-Dade Fire Rescue personnel responded to a car crash and a police-involved shooting in the area of Northwest 21 Avenue and 62 and 63 streets in the Brownsville-Gladeview boundary. Detective Luis Sierra, a spokesman for the Miami-Dade Police Department, said police officers were working in the area when they saw a car speeding and a crash. \\u00e2They observed the white Dodge ... striking an electrical pole,\\u00e2 Sierra said. A police officer with the department\\u00e2s robbery intervention detail then rushed toward the driver of the Dodge Challenger. \\u00e2The subject accelerated towards one of the officers, striking him and pinning him against his own vehicle,\\u00e2 Sierra said. \\u00e2Our officer discharged his firearm striking the subject.\\u00e2 Fire Rescue personnel took the injured officer and driver to Jackson Memorial Hospital\\u00e2s Ryder Trauma Center. Authorities said the driver was in critical but stable condition and he and the officer were expected to recover from their injuries. A witness said he heard a barrage of gunshots. The Dodge Challenger had bullet holes in the front windshield. There were evidence markers on the ground. There was a red car. A police officer first spotted the driver of the Dodge Challenger in the area of Northwest 70 Street and 18 Avenue, activated his emergency equipment, and attempted to stop him, but the driver sped away, according to police. After the crash and the shooting, detectives detained a passenger who was in The Dodge Challenger. The Florida Department of Law Enforcement was investigating the shooting. Detectives asked anyone with information about the case to call Miami-Dade County Crime Stoppers at 305-471-8477. Local 10 News Photojournalist Bob Palumbo and Assignment Editor Stephany Heilbron contributed to this report.\",\n",
      "                    \"title\": \"Police: Injured Miami-Dade police officer fires at driver who was trying to get away after crash\"\n",
      "                },\n",
      "                {\n",
      "                    \"_additional\": {\n",
      "                        \"generate\": {\n",
      "                            \"error\": null,\n",
      "                            \"singleResult\": \"Police are investigating an officer-involved shooting in southeast Wichita, where an unidentified person is in critical condition and no further details have been released.\"\n",
      "                        }\n",
      "                    },\n",
      "                    \"publication_date\": \"2023-12-03\",\n",
      "                    \"snippet\": \"Police have been on the scene of an officer-involved shooting that happened Sunday afternoon in southeast Wichita. There was a report of officers in trouble around 2:45 p.m. in the 4200 block of East Gilbert, in a neighborhood northeast of the intersection of Lincoln and Oliver. An unidentified person was in very critical condition after the shooting. No other details have been released. It looks like you are not a member of VIP Club yet. Please fill out the form below to access the page and join the VIP Club\",\n",
      "                    \"title\": \"One person critical after officer-involved shooting in Wichita\"\n",
      "                }\n",
      "            ]\n",
      "        }\n",
      "    }\n",
      "}\n"
     ]
    }
   ],
   "source": [
    "# nearText = {\"concepts\": [\"police shooting, shot by police, police shot, officer-involved shooting, police-involved shooting, police officer shooting, officer shot, deputy shot, sheriff shot, cop shot, trooper shot, shot by officer, shot by deputy, shot by sheriff, shot by cop, shot by trooper, killed by police, killed by officer, killed by deputy, killed by sheriff, killed by cop, killed by trooper\"]}\n",
    "nearText = {\"concepts\": [\"a recent fatal police shooting. The incident is about police officer fired shots and killed someone. The victims are dead.\"]}\n",
    "\n",
    "response = (\n",
    "    client.query\n",
    "    .get(\"Article\", [\"title\", \"publication_date\", \"snippet\"])\n",
    "    .with_near_text(nearText)\n",
    "    .with_generate(single_prompt=\"Summarize {snippet} in one sentence.\")\n",
    "    .with_limit(20)\n",
    "    .do()\n",
    ")\n",
    "\n",
    "print(json.dumps(response, indent=4))\n",
    "# convert response to dataframe and save to csv\n",
    "df = pd.DataFrame(response['data']['Get']['Article'])\n",
    "df.to_csv(f'../data_storage/{start}_weaviate.csv', index=False)"
   ]
  },
  {
   "cell_type": "markdown",
   "metadata": {},
   "source": [
    "------\n",
    "Not used"
   ]
  },
  {
   "cell_type": "code",
   "execution_count": 2,
   "metadata": {},
   "outputs": [],
   "source": [
    "collection_id = \"38379429\"\n",
    "directory_api = mediacloud.api.DirectoryApi(auth_token='e85cce24da8b73eaa05329d258146c044ef055db')\n",
    "api = SearchApiClient(\"mediacloud\")"
   ]
  },
  {
   "cell_type": "code",
   "execution_count": 17,
   "metadata": {},
   "outputs": [],
   "source": [
    "# Function to split the domain list into chunks\n",
    "def split_into_chunks(domains, chunk_size):\n",
    "    for i in range(0, len(domains), chunk_size):\n",
    "        yield domains[i:i + chunk_size]\n"
   ]
  },
  {
   "cell_type": "code",
   "execution_count": 4,
   "metadata": {},
   "outputs": [
    {
     "name": "stdout",
     "output_type": "stream",
     "text": [
      "Number of sources: 8913\n"
     ]
    }
   ],
   "source": [
    "all_domains = []\n",
    "# Pagination setup\n",
    "offset = 0\n",
    "limit = 100  # seems to have a 100 limit\n",
    "more_pages = True\n",
    "\n",
    "while more_pages:\n",
    "    # Fetch sources with current offset\n",
    "    sources_response = directory_api.source_list(collection_id=collection_id, limit=limit, offset=offset)\n",
    "    sources = sources_response.get('results', [])\n",
    "    domains = [source['homepage'] for source in sources]\n",
    "    all_domains.extend(domains)\n",
    "    \n",
    "    # Update the offset\n",
    "    offset += limit\n",
    "    \n",
    "    # Check if there are more pages to fetch\n",
    "    more_pages = len(sources) == limit\n",
    "\n",
    "# Cleaning up domains\n",
    "cleaned_domains = [\n",
    "    domain.replace('https://www.', '').replace('http://www.', '').replace('https://','').replace('http://','').rstrip('/')\n",
    "    for domain in all_domains\n",
    "    if domain  # Ensure the domain is not None or empty\n",
    "]\n",
    "print(f\"Number of sources: {len(cleaned_domains)}\")\n",
    "\n",
    "domains_df = pd.DataFrame(cleaned_domains, columns=['Domain'])\n",
    "# Save the DataFrame to a CSV file\n",
    "domains_df.to_csv('domains.csv', index=False)"
   ]
  },
  {
   "cell_type": "code",
   "execution_count": 21,
   "metadata": {},
   "outputs": [
    {
     "name": "stdout",
     "output_type": "stream",
     "text": [
      "all_articles endpoint: 622 articles\n",
      "all_articles endpoint: 261 articles\n",
      "all_articles endpoint: 67 articles\n",
      "all_articles endpoint: 15 articles\n",
      "all_articles endpoint: 34 articles\n",
      "all_articles endpoint: 25 articles\n",
      "all_articles endpoint: 14 articles\n",
      "all_articles endpoint: 14 articles\n",
      "all_articles endpoint: 2 articles\n",
      "                                                 title publication_date  \\\n",
      "256  Antioch: Man wanted for homicide is shot by po...       2023-10-01   \n",
      "112  Antioch: Man wanted for homicide is shot by po...       2023-10-01   \n",
      "328  1 killed in police shooting at Pa. traffic sto...       2023-10-01   \n",
      "417  St. Louis police shoot man who threatened rela...       2023-10-01   \n",
      "173  Demonstrators call for justice after deadly po...       2023-10-01   \n",
      "\n",
      "             capture_time language            domain  \\\n",
      "256  2023-10-03T11:47:16Z       en   mercurynews.com   \n",
      "112  2023-10-03T13:10:17Z       en  eastbaytimes.com   \n",
      "328  2023-10-13T01:29:15Z       en      pennlive.com   \n",
      "417  2023-10-08T19:59:04Z       en      stltoday.com   \n",
      "173  2023-10-03T04:00:43Z       en          ktla.com   \n",
      "\n",
      "                                                   url  \\\n",
      "256  https://www.mercurynews.com/2023/10/01/antioch...   \n",
      "112  https://www.eastbaytimes.com/2023/10/01/antioc...   \n",
      "328  https://www.pennlive.com/news/2023/10/1-killed...   \n",
      "417  https://www.stltoday.com/news/local/crime-cour...   \n",
      "173  https://ktla.com/news/local-news/demonstrators...   \n",
      "\n",
      "                                  original_capture_url  \\\n",
      "256  https://web.archive.org/web/20231003114716id_/...   \n",
      "112  https://web.archive.org/web/20231003131017id_/...   \n",
      "328  https://web.archive.org/web/20231013012915id_/...   \n",
      "417  https://web.archive.org/web/20231008195904id_/...   \n",
      "173  https://web.archive.org/web/20231003040043id_/...   \n",
      "\n",
      "                                  archive_playback_url  \\\n",
      "256  https://web.archive.org/web/20231003114716/htt...   \n",
      "112  https://web.archive.org/web/20231003131017/htt...   \n",
      "328  https://web.archive.org/web/20231013012915/htt...   \n",
      "417  https://web.archive.org/web/20231008195904/htt...   \n",
      "173  https://web.archive.org/web/20231003040043/htt...   \n",
      "\n",
      "                                           article_url  \n",
      "256  https://wayback-api.archive.org/colsearch/v1/m...  \n",
      "112  https://wayback-api.archive.org/colsearch/v1/m...  \n",
      "328  https://wayback-api.archive.org/colsearch/v1/m...  \n",
      "417  https://wayback-api.archive.org/colsearch/v1/m...  \n",
      "173  https://wayback-api.archive.org/colsearch/v1/m...  \n"
     ]
    }
   ],
   "source": [
    "domain_chunks = list(split_into_chunks(cleaned_domains, 1000))\n",
    "\n",
    "# sources_response = directory_api.source_list(collection_id=collection_id)\n",
    "# domains = [source['homepage'] for source in sources_response['results']]\n",
    "# num_sources = len(sources_response['results'])\n",
    "# print(f\"Number of sources: {num_sources}\")\n",
    "\n",
    "# cleaned_domains = [domain.replace('https://www.', '').replace('http://www.', '').replace('https://','').replace('http://','') for domain in domains]\n",
    "# cleaned_domains = [url.rstrip('/') for url in cleaned_domains]\n",
    "# print(cleaned_domains)\n",
    "\n",
    "# Enable requests cache\n",
    "requests_cache.install_cache('article_cache', backend='filesystem', expire_after=3600)\n",
    "\n",
    "\n",
    "# Query parameters\n",
    "query_term = '(\"police shooting\" OR \"shot by police\" OR \"police shot\" OR \"officer-involved shooting\" OR \"police-involved shooting\" OR \"police officer shooting\" OR \"police shot\" OR \"officer shot\")'\n",
    "# query_term = '(\"police shooting\" OR \"shot by police\" OR \"police shot\" OR \"officer-involved shooting\" OR \"police-involved shooting\" OR \"police officer shooting\" OR \"police shot\" OR \"officer shot\" OR \"deputy shot\" OR \"sheriff shot\" OR \"cop shot\")'\n",
    "# query_term = 'police AND shot'\n",
    "start = datetime(2023, 9, 1) #11/6 - 11/15\n",
    "end = datetime(2023, 10, 1) \n",
    "language = \"en\"\n",
    "\n",
    "# DataFrame to store combined results\n",
    "combined_results = pd.DataFrame()\n",
    "results_list = []\n",
    "\n",
    "for chunk in domain_chunks:\n",
    "    domains_str = f\"domain:({' OR '.join(chunk)})\"\n",
    "    query = f\"{query_term} AND language:{language} AND {domains_str}\"\n",
    "    \n",
    "    # Perform the search with the current chunk\n",
    "    articles = []\n",
    "    for list_of_articles in api.all_articles(query, start, end):\n",
    "        articles.extend(list_of_articles)\n",
    "        print(f\"all_articles endpoint: {len(articles)} articles\")\n",
    "    \n",
    "    if articles:\n",
    "        chunk_results = pd.DataFrame(articles)\n",
    "        results_list.append(chunk_results)\n",
    "    \n",
    "\n",
    "# Concatenate all DataFrames in the list\n",
    "combined_results = pd.concat(results_list, ignore_index=True)\n",
    "combined_results.sort_values(by='publication_date', ascending=False, inplace=True)\n",
    "print(combined_results.head())\n"
   ]
  },
  {
   "cell_type": "code",
   "execution_count": 22,
   "metadata": {},
   "outputs": [
    {
     "data": {
      "text/plain": [
       "(1054, 9)"
      ]
     },
     "execution_count": 22,
     "metadata": {},
     "output_type": "execute_result"
    }
   ],
   "source": [
    "combined_results.shape"
   ]
  },
  {
   "cell_type": "code",
   "execution_count": 23,
   "metadata": {},
   "outputs": [],
   "source": [
    "def get_snippet_from_newspaper3k(url):\n",
    "    extracted_article = Article(url)\n",
    "    extracted_article.download()\n",
    "    extracted_article.parse()\n",
    "    return extracted_article.text\n",
    "\n",
    "def get_snippet_from_wayback_machine(url):\n",
    "    response = requests.get(url)\n",
    "    response.raise_for_status()\n",
    "    snippet = response.json().get('snippet', '')\n",
    "    # return response.text \n",
    "    return snippet\n",
    "\n",
    "def fetch_snippet(article_url, wayback_url):\n",
    "    with concurrent.futures.ThreadPoolExecutor(max_workers=2) as executor:\n",
    "        future_to_method = {\n",
    "            executor.submit(get_snippet_from_newspaper3k, article_url): 'newspaper3k',\n",
    "            executor.submit(get_snippet_from_wayback_machine, wayback_url): 'wayback'\n",
    "        }\n",
    "        for future in concurrent.futures.as_completed(future_to_method):\n",
    "            method = future_to_method[future]\n",
    "            try:\n",
    "                data = future.result()\n",
    "                return data, method\n",
    "            except Exception as exc:\n",
    "                print(f\"{method} method failed with exception: {exc}\")\n",
    "\n",
    "\n",
    "def sanitize_snippet(snippet):\n",
    "    sanitized_snippet = snippet.replace('\\n', ' ').replace('\\r', '').strip()\n",
    "    # Normalize Unicode characters\n",
    "    # normalized_snippet = unicodedata.normalize('NFKD', sanitized_snippet)\n",
    "    return sanitized_snippet"
   ]
  },
  {
   "cell_type": "code",
   "execution_count": 24,
   "metadata": {},
   "outputs": [
    {
     "name": "stderr",
     "output_type": "stream",
     "text": [
      "  0%|          | 1/1054 [00:09<2:38:28,  9.03s/it]"
     ]
    },
    {
     "name": "stdout",
     "output_type": "stream",
     "text": [
      "Snippet fetched using newspaper3k method for URL: https://www.mercurynews.com/2023/10/01/antioch-man-wanted-for-homicide-earlier-this-year-shot-by-police-during-pursuit/\n"
     ]
    },
    {
     "name": "stderr",
     "output_type": "stream",
     "text": [
      "  0%|          | 2/1054 [00:25<3:59:23, 13.65s/it]"
     ]
    },
    {
     "name": "stdout",
     "output_type": "stream",
     "text": [
      "Snippet fetched using newspaper3k method for URL: https://www.eastbaytimes.com/2023/10/01/antioch-man-wanted-for-homicide-earlier-this-year-shot-by-police-during-pursuit/\n"
     ]
    },
    {
     "name": "stderr",
     "output_type": "stream",
     "text": [
      "  0%|          | 3/1054 [00:26<2:16:54,  7.82s/it]"
     ]
    },
    {
     "name": "stdout",
     "output_type": "stream",
     "text": [
      "Snippet fetched using wayback method for URL: https://www.pennlive.com/news/2023/10/1-killed-in-police-shooting-at-pa-traffic-stop-reports.html\n"
     ]
    },
    {
     "name": "stderr",
     "output_type": "stream",
     "text": [
      "  0%|          | 4/1054 [00:27<1:27:53,  5.02s/it]"
     ]
    },
    {
     "name": "stdout",
     "output_type": "stream",
     "text": [
      "Snippet fetched using wayback method for URL: https://www.stltoday.com/news/local/crime-courts/st-louis-police-shoot-man-who-threatened-relatives-with-gun-shot-at-officers-police-say/article_15c7fc48-5fa7-11ee-96ab-77443b13065e.html\n"
     ]
    },
    {
     "name": "stderr",
     "output_type": "stream",
     "text": [
      "  0%|          | 5/1054 [00:28<1:04:57,  3.72s/it]"
     ]
    },
    {
     "name": "stdout",
     "output_type": "stream",
     "text": [
      "Snippet fetched using wayback method for URL: https://ktla.com/news/local-news/demonstrators-call-for-justice-after-deadly-police-shooting-in-south-l-a/\n"
     ]
    },
    {
     "name": "stderr",
     "output_type": "stream",
     "text": [
      "  1%|          | 6/1054 [00:29<44:22,  2.54s/it]  "
     ]
    },
    {
     "name": "stdout",
     "output_type": "stream",
     "text": [
      "Snippet fetched using newspaper3k method for URL: https://www.newsday.com/long-island/whitney-pond-park-manhasset-daniels-law-mszq6hcp\n"
     ]
    },
    {
     "name": "stderr",
     "output_type": "stream",
     "text": [
      "  1%|          | 7/1054 [00:41<1:41:24,  5.81s/it]"
     ]
    },
    {
     "name": "stdout",
     "output_type": "stream",
     "text": [
      "Snippet fetched using newspaper3k method for URL: https://www.campustimes.org/2023/10/01/penis/\n"
     ]
    },
    {
     "name": "stderr",
     "output_type": "stream",
     "text": [
      "  1%|          | 8/1054 [00:59<2:45:01,  9.47s/it]"
     ]
    },
    {
     "name": "stdout",
     "output_type": "stream",
     "text": [
      "Snippet fetched using newspaper3k method for URL: https://www.kron4.com/news/bay-area/homicide-suspect-shot-by-antioch-police-taken-to-hospital/\n"
     ]
    },
    {
     "name": "stderr",
     "output_type": "stream",
     "text": [
      "  1%|          | 9/1054 [00:59<1:57:05,  6.72s/it]"
     ]
    },
    {
     "name": "stdout",
     "output_type": "stream",
     "text": [
      "Snippet fetched using wayback method for URL: https://www.wbbjtv.com/2023/10/01/tbi-investigating-officer-involved-shooting-in-hamilton-co/\n"
     ]
    },
    {
     "name": "stderr",
     "output_type": "stream",
     "text": [
      "  1%|          | 10/1054 [01:00<1:24:20,  4.85s/it]"
     ]
    },
    {
     "name": "stdout",
     "output_type": "stream",
     "text": [
      "Snippet fetched using wayback method for URL: https://www.clickondetroit.com/news/local/2023/10/01/detroit-police-officer-struck-by-vehicle-shoots-injures-driver/\n"
     ]
    },
    {
     "name": "stderr",
     "output_type": "stream",
     "text": [
      "  1%|          | 11/1054 [01:01<1:02:04,  3.57s/it]"
     ]
    },
    {
     "name": "stdout",
     "output_type": "stream",
     "text": [
      "Snippet fetched using wayback method for URL: https://mynewsla.com/business/2023/10/01/another-laco-das-office-employee-sues-for-retaliation/\n",
      "newspaper3k method failed with exception: Article `download()` failed with 404 Client Error: Not Found for url: https://foxwilmington.com/headlines/at-least-2-dead-2-injured-in-houston-area-family-dispute-report/ on URL https://foxwilmington.com/headlines/at-least-2-dead-2-injured-in-houston-area-family-dispute-report/\n"
     ]
    },
    {
     "name": "stderr",
     "output_type": "stream",
     "text": [
      "  1%|          | 12/1054 [01:07<1:16:48,  4.42s/it]"
     ]
    },
    {
     "name": "stdout",
     "output_type": "stream",
     "text": [
      "Snippet fetched using wayback method for URL: https://foxwilmington.com/headlines/at-least-2-dead-2-injured-in-houston-area-family-dispute-report/\n"
     ]
    },
    {
     "name": "stderr",
     "output_type": "stream",
     "text": [
      "  1%|          | 13/1054 [01:12<1:21:22,  4.69s/it]"
     ]
    },
    {
     "name": "stdout",
     "output_type": "stream",
     "text": [
      "Snippet fetched using newspaper3k method for URL: https://www.campustimes.org/2023/10/01/man-shot-by-rpd-officer-during-skirmish/\n"
     ]
    },
    {
     "name": "stderr",
     "output_type": "stream",
     "text": [
      "  1%|▏         | 14/1054 [01:15<1:10:13,  4.05s/it]"
     ]
    },
    {
     "name": "stdout",
     "output_type": "stream",
     "text": [
      "Snippet fetched using newspaper3k method for URL: https://ktvz.com/news/national-world/cnn-world/2023/09/30/one-year-on-from-stadium-disaster-that-killed-135-these-families-are-still-seeking-answers/\n"
     ]
    },
    {
     "name": "stderr",
     "output_type": "stream",
     "text": [
      "  2%|▏         | 16/1054 [01:42<2:15:46,  7.85s/it]"
     ]
    },
    {
     "name": "stdout",
     "output_type": "stream",
     "text": [
      "Snippet fetched using newspaper3k method for URL: https://republicmonews.com/2023/09/30/foot-pursuit-suspect-struck-by-officers-gunfire-in-northeast-houston-according-to-hpd/\n"
     ]
    },
    {
     "name": "stderr",
     "output_type": "stream",
     "text": [
      "  2%|▏         | 17/1054 [01:42<1:36:59,  5.61s/it]"
     ]
    },
    {
     "name": "stdout",
     "output_type": "stream",
     "text": [
      "Snippet fetched using wayback method for URL: https://ktar.com/story/5542142/police-fatally-shoot-suicidal-man-brandishing-knife-in-mesa/\n"
     ]
    },
    {
     "name": "stderr",
     "output_type": "stream",
     "text": [
      "  2%|▏         | 18/1054 [01:43<1:11:22,  4.13s/it]"
     ]
    },
    {
     "name": "stdout",
     "output_type": "stream",
     "text": [
      "Snippet fetched using wayback method for URL: https://localnews8.com/news/national-world/cnn-world/2023/09/30/one-year-on-from-stadium-disaster-that-killed-135-these-families-are-still-seeking-answers/\n"
     ]
    },
    {
     "name": "stderr",
     "output_type": "stream",
     "text": [
      "  2%|▏         | 19/1054 [01:44<53:08,  3.08s/it]  "
     ]
    },
    {
     "name": "stdout",
     "output_type": "stream",
     "text": [
      "Snippet fetched using wayback method for URL: https://abc17news.com/news/national-world/cnn-world/2023/09/30/one-year-on-from-stadium-disaster-that-killed-135-these-families-are-still-seeking-answers/\n",
      "Snippet fetched using wayback method for URL: https://ktvz.com/news/national-world/cnn-world/2023/09/30/one-year-on-from-stadium-disaster-that-killed-135-these-families-are-still-seeking-answers/\n"
     ]
    },
    {
     "name": "stderr",
     "output_type": "stream",
     "text": [
      "  2%|▏         | 21/1054 [01:44<31:42,  1.84s/it]"
     ]
    },
    {
     "name": "stdout",
     "output_type": "stream",
     "text": [
      "Snippet fetched using wayback method for URL: https://kion546.com/news/national-world/cnn-national/2023/09/29/two-former-chicago-police-officers-acquitted-of-shooting-unarmed-man/\n"
     ]
    },
    {
     "name": "stderr",
     "output_type": "stream",
     "text": [
      "  2%|▏         | 22/1054 [01:45<26:43,  1.55s/it]"
     ]
    },
    {
     "name": "stdout",
     "output_type": "stream",
     "text": [
      "Snippet fetched using wayback method for URL: https://ktvz.com/news/national-world/cnn-national/2023/09/29/two-former-chicago-police-officers-acquitted-of-shooting-unarmed-man/\n"
     ]
    },
    {
     "name": "stderr",
     "output_type": "stream",
     "text": [
      "  2%|▏         | 23/1054 [01:48<33:51,  1.97s/it]"
     ]
    },
    {
     "name": "stdout",
     "output_type": "stream",
     "text": [
      "Snippet fetched using newspaper3k method for URL: https://www.wbrz.com/news/electrical-mishap-sparks-small-grass-fire-knocks-out-power-along-college-drive/\n"
     ]
    },
    {
     "name": "stderr",
     "output_type": "stream",
     "text": [
      "  2%|▏         | 24/1054 [01:51<39:01,  2.27s/it]"
     ]
    },
    {
     "name": "stdout",
     "output_type": "stream",
     "text": [
      "Snippet fetched using newspaper3k method for URL: https://www.wbrz.com/news/ebrso-looking-for-missing-woman-with-dementia-161514/\n"
     ]
    },
    {
     "name": "stderr",
     "output_type": "stream",
     "text": [
      "  2%|▏         | 25/1054 [02:08<1:46:49,  6.23s/it]"
     ]
    },
    {
     "name": "stdout",
     "output_type": "stream",
     "text": [
      "Snippet fetched using newspaper3k method for URL: https://www.wbrz.com/news/little-brother-beating-big-brother-to-the-field-for-lsu-football/\n"
     ]
    },
    {
     "name": "stderr",
     "output_type": "stream",
     "text": [
      "  2%|▏         | 26/1054 [02:40<3:52:28, 13.57s/it]"
     ]
    },
    {
     "name": "stdout",
     "output_type": "stream",
     "text": [
      "Snippet fetched using newspaper3k method for URL: https://www.wbrz.com/news/louisiana-s-struggle-with-influx-of-salt-water-prompts-a-request-for-biden-to-declare-an-emergency/\n"
     ]
    },
    {
     "name": "stderr",
     "output_type": "stream",
     "text": [
      "  3%|▎         | 27/1054 [03:10<5:17:17, 18.54s/it]"
     ]
    },
    {
     "name": "stdout",
     "output_type": "stream",
     "text": [
      "Snippet fetched using newspaper3k method for URL: https://cbs4indy.com/news/man-dead-following-officer-involved-shooting-in-bedford/\n"
     ]
    },
    {
     "name": "stderr",
     "output_type": "stream",
     "text": [
      "  3%|▎         | 28/1054 [03:12<3:53:09, 13.64s/it]"
     ]
    },
    {
     "name": "stdout",
     "output_type": "stream",
     "text": [
      "Snippet fetched using wayback method for URL: https://cbs4indy.com/news/indycrime/2-impd-officers-indicted-after-shooting-man-who-was-sleeping-in-grandmas-driveway/\n"
     ]
    },
    {
     "name": "stderr",
     "output_type": "stream",
     "text": [
      "  3%|▎         | 29/1054 [03:13<2:47:30,  9.81s/it]"
     ]
    },
    {
     "name": "stdout",
     "output_type": "stream",
     "text": [
      "Snippet fetched using wayback method for URL: https://www.wbrz.com/news/north-korea-says-it-will-expel-the-us-soldier-who-crossed-into-the-country-in-july/\n"
     ]
    },
    {
     "name": "stderr",
     "output_type": "stream",
     "text": [
      "  3%|▎         | 30/1054 [03:13<2:01:12,  7.10s/it]"
     ]
    },
    {
     "name": "stdout",
     "output_type": "stream",
     "text": [
      "Snippet fetched using wayback method for URL: https://abc17news.com/news/national-world/cnn-national/2023/09/29/two-former-chicago-police-officers-acquitted-of-shooting-unarmed-man/\n"
     ]
    },
    {
     "name": "stderr",
     "output_type": "stream",
     "text": [
      "  3%|▎         | 31/1054 [03:14<1:28:16,  5.18s/it]"
     ]
    },
    {
     "name": "stdout",
     "output_type": "stream",
     "text": [
      "Snippet fetched using wayback method for URL: https://www.wbrz.com/news/michael-gambon-actor-who-played-prof-dumbledore-in-6-harry-potter-movies-dies-at-age-82/\n"
     ]
    },
    {
     "name": "stderr",
     "output_type": "stream",
     "text": [
      "  3%|▎         | 32/1054 [03:15<1:07:24,  3.96s/it]"
     ]
    },
    {
     "name": "stdout",
     "output_type": "stream",
     "text": [
      "Snippet fetched using newspaper3k method for URL: https://www.wbrz.com/news/team-2-traffic-i-10-wb-shut-down-before-whiskey-bay-due-to-vehicle-fire/\n"
     ]
    },
    {
     "name": "stderr",
     "output_type": "stream",
     "text": [
      "  3%|▎         | 33/1054 [03:16<50:06,  2.94s/it]  "
     ]
    },
    {
     "name": "stdout",
     "output_type": "stream",
     "text": [
      "Snippet fetched using wayback method for URL: https://indianapolisrecorder.com/two-officers-indicted-for-roles-in-shooting-of-man-sleeping-in-grandmothers-driveway/\n"
     ]
    },
    {
     "name": "stderr",
     "output_type": "stream",
     "text": [
      "  3%|▎         | 34/1054 [03:17<42:33,  2.50s/it]"
     ]
    },
    {
     "name": "stdout",
     "output_type": "stream",
     "text": [
      "Snippet fetched using newspaper3k method for URL: https://www.wbrz.com/news/state-will-allow-individual-parishes-to-opt-out-of-statewide-burn-ban/\n"
     ]
    },
    {
     "name": "stderr",
     "output_type": "stream",
     "text": [
      "  3%|▎         | 35/1054 [03:18<35:19,  2.08s/it]"
     ]
    },
    {
     "name": "stdout",
     "output_type": "stream",
     "text": [
      "Snippet fetched using newspaper3k method for URL: https://www.wbrz.com/news/what-would-a-government-shutdown-mean-for-me-snap-student-loans-and-travel-impacts-explained/\n"
     ]
    },
    {
     "name": "stderr",
     "output_type": "stream",
     "text": [
      "  3%|▎         | 36/1054 [03:19<28:01,  1.65s/it]"
     ]
    },
    {
     "name": "stdout",
     "output_type": "stream",
     "text": [
      "Snippet fetched using wayback method for URL: http://www.westsideconnect.com/news/local_news/deputy-shoots-carjacking-suspect/article_3b622d28-5f36-11ee-bedb-3f4a48282005.html\n"
     ]
    },
    {
     "name": "stderr",
     "output_type": "stream",
     "text": [
      "/Users/karenwang/.virtualenvs/semantic-search/lib/python3.11/site-packages/dateutil/parser/_parser.py:1207: UnknownTimezoneWarning: tzname CDT identified but not understood.  Pass `tzinfos` argument in order to correctly return a timezone-aware datetime.  In a future version, this will raise an exception.\n",
      "  warnings.warn(\"tzname {tzname} identified but not understood.  \"\n",
      "  4%|▎         | 37/1054 [03:21<28:19,  1.67s/it]"
     ]
    },
    {
     "name": "stdout",
     "output_type": "stream",
     "text": [
      "Snippet fetched using newspaper3k method for URL: https://www.wfaa.com/article/news/crime/dealership-customers-thursday-night-shooting-arlington/287-fb72bad4-8913-499f-a926-844121416e7d\n"
     ]
    },
    {
     "name": "stderr",
     "output_type": "stream",
     "text": [
      "  4%|▎         | 38/1054 [03:22<24:30,  1.45s/it]"
     ]
    },
    {
     "name": "stdout",
     "output_type": "stream",
     "text": [
      "Snippet fetched using newspaper3k method for URL: https://www.eastbaytimes.com/2023/09/29/martinez-police-release-body-worn-camera-footage-of-fatal-aug-18-shooting/\n"
     ]
    },
    {
     "name": "stderr",
     "output_type": "stream",
     "text": [
      "  4%|▎         | 39/1054 [03:24<28:31,  1.69s/it]"
     ]
    },
    {
     "name": "stdout",
     "output_type": "stream",
     "text": [
      "Snippet fetched using newspaper3k method for URL: https://www.eastbaytimes.com/2023/09/29/fairfield-police-officer-shot-man-brandishing-bb-gun-near-school/\n"
     ]
    },
    {
     "name": "stderr",
     "output_type": "stream",
     "text": [
      "  4%|▍         | 40/1054 [03:28<40:14,  2.38s/it]"
     ]
    },
    {
     "name": "stdout",
     "output_type": "stream",
     "text": [
      "Snippet fetched using newspaper3k method for URL: https://www.wbrz.com/news/pig-carcasses-scattered-along-mississippi-river-bridge-after-animals-fell-out-of-truck-hit-by-drivers/\n"
     ]
    },
    {
     "name": "stderr",
     "output_type": "stream",
     "text": [
      "  4%|▍         | 41/1054 [03:29<32:49,  1.94s/it]"
     ]
    },
    {
     "name": "stdout",
     "output_type": "stream",
     "text": [
      "Snippet fetched using newspaper3k method for URL: https://www.wfaa.com/article/news/local/dog-bites-fort-worth-cop-shot-kentwood-place/287-0d5e0323-c6b3-4232-a595-e0600186056b\n"
     ]
    },
    {
     "name": "stderr",
     "output_type": "stream",
     "text": [
      "  4%|▍         | 42/1054 [03:30<26:51,  1.59s/it]"
     ]
    },
    {
     "name": "stdout",
     "output_type": "stream",
     "text": [
      "Snippet fetched using newspaper3k method for URL: https://www.wfaa.com/article/news/world/mexican-migrants-killed-tecate-baja-california-mexico/269-82c920a9-0534-4aa8-9ae3-15d6db241fe1\n"
     ]
    },
    {
     "name": "stderr",
     "output_type": "stream",
     "text": [
      "  4%|▍         | 43/1054 [03:30<21:15,  1.26s/it]"
     ]
    },
    {
     "name": "stdout",
     "output_type": "stream",
     "text": [
      "Snippet fetched using wayback method for URL: https://whdh.com/news/authorities-investigating-officer-involved-shooting-in-lakeville/\n"
     ]
    },
    {
     "name": "stderr",
     "output_type": "stream",
     "text": [
      "  4%|▍         | 44/1054 [03:31<19:03,  1.13s/it]"
     ]
    },
    {
     "name": "stdout",
     "output_type": "stream",
     "text": [
      "Snippet fetched using wayback method for URL: https://www.whec.com/top-news/several-city-council-members-object-to-3-members-statement-on-shooting-involving-rpd-officer/\n"
     ]
    },
    {
     "name": "stderr",
     "output_type": "stream",
     "text": [
      "  4%|▍         | 45/1054 [03:32<21:25,  1.27s/it]"
     ]
    },
    {
     "name": "stdout",
     "output_type": "stream",
     "text": [
      "Snippet fetched using newspaper3k method for URL: https://www.wbrz.com/news/one-week-after-his-son-s-arrest-high-ranking-brpd-officer-placed-on-leave-as-feds-investigate-department/\n"
     ]
    },
    {
     "name": "stderr",
     "output_type": "stream",
     "text": [
      "  4%|▍         | 46/1054 [03:35<26:32,  1.58s/it]"
     ]
    },
    {
     "name": "stdout",
     "output_type": "stream",
     "text": [
      "Snippet fetched using wayback method for URL: https://www.wishtv.com/news/crime-watch-8/impd-ids-3-officers-in-shooting-that-killed-man-hurt-woman-outside-lucas-oil-stadium/\n"
     ]
    },
    {
     "name": "stderr",
     "output_type": "stream",
     "text": [
      "  4%|▍         | 47/1054 [03:37<29:08,  1.74s/it]"
     ]
    },
    {
     "name": "stdout",
     "output_type": "stream",
     "text": [
      "Snippet fetched using wayback method for URL: https://www.wishtv.com/news/local-news/man-dies-following-bedford-police-shooting/\n"
     ]
    },
    {
     "name": "stderr",
     "output_type": "stream",
     "text": [
      "  5%|▍         | 48/1054 [03:39<32:42,  1.95s/it]"
     ]
    },
    {
     "name": "stdout",
     "output_type": "stream",
     "text": [
      "Snippet fetched using wayback method for URL: https://www.wpri.com/news/local-news/se-mass/lakeville-police-investigating-officer-involved-shooting/\n",
      "Snippet fetched using wayback method for URL: https://ktvz.com/news/national-world/cnn-national/2023/09/29/two-former-chicago-police-officers-acquitted-of-shooting-unarmed-man/\n"
     ]
    },
    {
     "name": "stderr",
     "output_type": "stream",
     "text": [
      "  5%|▍         | 50/1054 [03:49<54:44,  3.27s/it]"
     ]
    },
    {
     "name": "stdout",
     "output_type": "stream",
     "text": [
      "Snippet fetched using newspaper3k method for URL: https://www.wtae.com/article/pittsburgh-shooting-justified-da-zappala/45375990\n"
     ]
    },
    {
     "name": "stderr",
     "output_type": "stream",
     "text": [
      "  5%|▍         | 51/1054 [04:23<3:04:22, 11.03s/it]"
     ]
    },
    {
     "name": "stdout",
     "output_type": "stream",
     "text": [
      "Snippet fetched using newspaper3k method for URL: https://www.wbrz.com/news/a-new-tropical-storm-forms-east-of-philippe-in-the-central-atlantic/\n"
     ]
    },
    {
     "name": "stderr",
     "output_type": "stream",
     "text": [
      "  5%|▍         | 52/1054 [04:24<2:18:26,  8.29s/it]"
     ]
    },
    {
     "name": "stdout",
     "output_type": "stream",
     "text": [
      "Snippet fetched using wayback method for URL: https://www.wbrz.com/news/disheartened-and-dismayed-baton-rouge-union-of-police-blasts-brpd-for-placing-deputy-chief-on-leave/\n"
     ]
    },
    {
     "name": "stderr",
     "output_type": "stream",
     "text": [
      "  5%|▌         | 53/1054 [04:25<1:43:29,  6.20s/it]"
     ]
    },
    {
     "name": "stdout",
     "output_type": "stream",
     "text": [
      "Snippet fetched using wayback method for URL: https://localnews8.com/news/national-world/cnn-national/2023/09/29/two-former-chicago-police-officers-acquitted-of-shooting-unarmed-man/\n"
     ]
    },
    {
     "name": "stderr",
     "output_type": "stream",
     "text": [
      "  5%|▌         | 54/1054 [04:27<1:24:18,  5.06s/it]"
     ]
    },
    {
     "name": "stdout",
     "output_type": "stream",
     "text": [
      "Snippet fetched using wayback method for URL: https://www.wearegreenbay.com/news/local-news/officer-involved-in-kaukauna-shooting-identified-investigation-continues/\n"
     ]
    },
    {
     "name": "stderr",
     "output_type": "stream",
     "text": [
      "  5%|▌         | 55/1054 [04:28<1:05:47,  3.95s/it]"
     ]
    },
    {
     "name": "stdout",
     "output_type": "stream",
     "text": [
      "Snippet fetched using wayback method for URL: https://www.abc6.com/man-shot-during-confrontation-with-police-in-lakeville/\n"
     ]
    },
    {
     "name": "stderr",
     "output_type": "stream",
     "text": [
      "  5%|▌         | 56/1054 [04:29<51:43,  3.11s/it]  "
     ]
    },
    {
     "name": "stdout",
     "output_type": "stream",
     "text": [
      "Snippet fetched using wayback method for URL: https://www.abc6.com/one-injured-during-early-morning-officer-involved-shooting-in-lakeville/\n"
     ]
    },
    {
     "name": "stderr",
     "output_type": "stream",
     "text": [
      "  5%|▌         | 57/1054 [04:31<45:12,  2.72s/it]"
     ]
    },
    {
     "name": "stdout",
     "output_type": "stream",
     "text": [
      "Snippet fetched using wayback method for URL: https://www.startribune.com/ruling-likely-puts-pressure-on-minneapolis-to-settle-lawsuit-by-journalists-observers-say/600308686/\n"
     ]
    },
    {
     "name": "stderr",
     "output_type": "stream",
     "text": [
      "  6%|▌         | 58/1054 [04:33<44:20,  2.67s/it]"
     ]
    },
    {
     "name": "stdout",
     "output_type": "stream",
     "text": [
      "Snippet fetched using wayback method for URL: https://www.baltimoresun.com/maryland/baltimore-city/bs-md-ci-west-lafayette-avenue-shooting-20230929-uf2osclhubb6phhr4khdlu3pq4-story.html\n",
      "newspaper3k method failed with exception: Article `download()` failed with 410 Client Error: Gone for url: https://www.sfgate.com/news/world/article/2-mexican-migrants-shot-dead-3-injured-in-dawn-18397735.php on URL https://www.sfgate.com/news/world/article/2-mexican-migrants-shot-dead-3-injured-in-dawn-18397735.php\n"
     ]
    },
    {
     "name": "stderr",
     "output_type": "stream",
     "text": [
      "  6%|▌         | 59/1054 [04:34<34:44,  2.09s/it]"
     ]
    },
    {
     "name": "stdout",
     "output_type": "stream",
     "text": [
      "Snippet fetched using wayback method for URL: https://www.sfgate.com/news/world/article/2-mexican-migrants-shot-dead-3-injured-in-dawn-18397735.php\n"
     ]
    },
    {
     "name": "stderr",
     "output_type": "stream",
     "text": [
      "  6%|▌         | 60/1054 [04:34<26:01,  1.57s/it]"
     ]
    },
    {
     "name": "stdout",
     "output_type": "stream",
     "text": [
      "Snippet fetched using wayback method for URL: https://www.seattlepi.com/news/world/article/2-mexican-migrants-shot-dead-3-injured-in-dawn-18397735.php\n"
     ]
    },
    {
     "name": "stderr",
     "output_type": "stream",
     "text": [
      "  6%|▌         | 61/1054 [04:36<26:25,  1.60s/it]"
     ]
    },
    {
     "name": "stdout",
     "output_type": "stream",
     "text": [
      "Snippet fetched using wayback method for URL: https://martinezgazette.com/update-on-martinez-officer-involved-shooting/\n"
     ]
    },
    {
     "name": "stderr",
     "output_type": "stream",
     "text": [
      "  6%|▌         | 62/1054 [04:38<27:04,  1.64s/it]"
     ]
    },
    {
     "name": "stdout",
     "output_type": "stream",
     "text": [
      "Snippet fetched using newspaper3k method for URL: https://www.local10.com/news/local/2023/09/29/officers-shoot-armed-man-in-northwest-miami-dade-police-say/\n"
     ]
    },
    {
     "name": "stderr",
     "output_type": "stream",
     "text": [
      "  6%|▌         | 63/1054 [04:38<22:14,  1.35s/it]"
     ]
    },
    {
     "name": "stdout",
     "output_type": "stream",
     "text": [
      "Snippet fetched using wayback method for URL: https://www.sandiegouniontribune.com/news/nation-world/story/2023-09-29/2-mexican-migrants-shot-dead-3-injured-in-dawn-attack-on-us-border-near-tecate-mexico\n"
     ]
    },
    {
     "name": "stderr",
     "output_type": "stream",
     "text": [
      "  6%|▌         | 64/1054 [04:39<16:56,  1.03s/it]"
     ]
    },
    {
     "name": "stdout",
     "output_type": "stream",
     "text": [
      "Snippet fetched using newspaper3k method for URL: https://nypost.com/2023/09/29/influencer-meatball-regrets-part-in-riots-family-ashamed/\n"
     ]
    },
    {
     "name": "stderr",
     "output_type": "stream",
     "text": [
      "  6%|▌         | 64/1054 [04:40<1:12:20,  4.38s/it]\n"
     ]
    },
    {
     "ename": "KeyboardInterrupt",
     "evalue": "",
     "output_type": "error",
     "traceback": [
      "\u001b[0;31m---------------------------------------------------------------------------\u001b[0m",
      "\u001b[0;31mKeyboardInterrupt\u001b[0m                         Traceback (most recent call last)",
      "\u001b[1;32m/Users/karenwang/Projects/semantic-search/data_retrieval/mediacloud_data.ipynb Cell 8\u001b[0m line \u001b[0;36m4\n\u001b[1;32m      <a href='vscode-notebook-cell:/Users/karenwang/Projects/semantic-search/data_retrieval/mediacloud_data.ipynb#W4sZmlsZQ%3D%3D?line=1'>2</a>\u001b[0m article_url \u001b[39m=\u001b[39m article[\u001b[39m'\u001b[39m\u001b[39murl\u001b[39m\u001b[39m'\u001b[39m]\n\u001b[1;32m      <a href='vscode-notebook-cell:/Users/karenwang/Projects/semantic-search/data_retrieval/mediacloud_data.ipynb#W4sZmlsZQ%3D%3D?line=2'>3</a>\u001b[0m wayback_url \u001b[39m=\u001b[39m article[\u001b[39m'\u001b[39m\u001b[39marticle_url\u001b[39m\u001b[39m'\u001b[39m]\n\u001b[0;32m----> <a href='vscode-notebook-cell:/Users/karenwang/Projects/semantic-search/data_retrieval/mediacloud_data.ipynb#W4sZmlsZQ%3D%3D?line=3'>4</a>\u001b[0m snippet, method_used \u001b[39m=\u001b[39m fetch_snippet(article_url, wayback_url)\n\u001b[1;32m      <a href='vscode-notebook-cell:/Users/karenwang/Projects/semantic-search/data_retrieval/mediacloud_data.ipynb#W4sZmlsZQ%3D%3D?line=4'>5</a>\u001b[0m \u001b[39mif\u001b[39;00m snippet:\n\u001b[1;32m      <a href='vscode-notebook-cell:/Users/karenwang/Projects/semantic-search/data_retrieval/mediacloud_data.ipynb#W4sZmlsZQ%3D%3D?line=5'>6</a>\u001b[0m     sanitized_snippet \u001b[39m=\u001b[39m sanitize_snippet(snippet)\n",
      "\u001b[1;32m/Users/karenwang/Projects/semantic-search/data_retrieval/mediacloud_data.ipynb Cell 8\u001b[0m line \u001b[0;36m2\n\u001b[1;32m     <a href='vscode-notebook-cell:/Users/karenwang/Projects/semantic-search/data_retrieval/mediacloud_data.ipynb#W4sZmlsZQ%3D%3D?line=14'>15</a>\u001b[0m \u001b[39mwith\u001b[39;00m concurrent\u001b[39m.\u001b[39mfutures\u001b[39m.\u001b[39mThreadPoolExecutor(max_workers\u001b[39m=\u001b[39m\u001b[39m2\u001b[39m) \u001b[39mas\u001b[39;00m executor:\n\u001b[1;32m     <a href='vscode-notebook-cell:/Users/karenwang/Projects/semantic-search/data_retrieval/mediacloud_data.ipynb#W4sZmlsZQ%3D%3D?line=15'>16</a>\u001b[0m     future_to_method \u001b[39m=\u001b[39m {\n\u001b[1;32m     <a href='vscode-notebook-cell:/Users/karenwang/Projects/semantic-search/data_retrieval/mediacloud_data.ipynb#W4sZmlsZQ%3D%3D?line=16'>17</a>\u001b[0m         executor\u001b[39m.\u001b[39msubmit(get_snippet_from_newspaper3k, article_url): \u001b[39m'\u001b[39m\u001b[39mnewspaper3k\u001b[39m\u001b[39m'\u001b[39m,\n\u001b[1;32m     <a href='vscode-notebook-cell:/Users/karenwang/Projects/semantic-search/data_retrieval/mediacloud_data.ipynb#W4sZmlsZQ%3D%3D?line=17'>18</a>\u001b[0m         executor\u001b[39m.\u001b[39msubmit(get_snippet_from_wayback_machine, wayback_url): \u001b[39m'\u001b[39m\u001b[39mwayback\u001b[39m\u001b[39m'\u001b[39m\n\u001b[1;32m     <a href='vscode-notebook-cell:/Users/karenwang/Projects/semantic-search/data_retrieval/mediacloud_data.ipynb#W4sZmlsZQ%3D%3D?line=18'>19</a>\u001b[0m     }\n\u001b[0;32m---> <a href='vscode-notebook-cell:/Users/karenwang/Projects/semantic-search/data_retrieval/mediacloud_data.ipynb#W4sZmlsZQ%3D%3D?line=19'>20</a>\u001b[0m     \u001b[39mfor\u001b[39;49;00m future \u001b[39min\u001b[39;49;00m concurrent\u001b[39m.\u001b[39;49mfutures\u001b[39m.\u001b[39;49mas_completed(future_to_method):\n\u001b[1;32m     <a href='vscode-notebook-cell:/Users/karenwang/Projects/semantic-search/data_retrieval/mediacloud_data.ipynb#W4sZmlsZQ%3D%3D?line=20'>21</a>\u001b[0m         method \u001b[39m=\u001b[39;49m future_to_method[future]\n\u001b[1;32m     <a href='vscode-notebook-cell:/Users/karenwang/Projects/semantic-search/data_retrieval/mediacloud_data.ipynb#W4sZmlsZQ%3D%3D?line=21'>22</a>\u001b[0m         \u001b[39mtry\u001b[39;49;00m:\n",
      "File \u001b[0;32m/opt/homebrew/Cellar/python@3.11/3.11.5/Frameworks/Python.framework/Versions/3.11/lib/python3.11/concurrent/futures/_base.py:243\u001b[0m, in \u001b[0;36mas_completed\u001b[0;34m(fs, timeout)\u001b[0m\n\u001b[1;32m    238\u001b[0m     \u001b[39mif\u001b[39;00m wait_timeout \u001b[39m<\u001b[39m \u001b[39m0\u001b[39m:\n\u001b[1;32m    239\u001b[0m         \u001b[39mraise\u001b[39;00m \u001b[39mTimeoutError\u001b[39;00m(\n\u001b[1;32m    240\u001b[0m                 \u001b[39m'\u001b[39m\u001b[39m%d\u001b[39;00m\u001b[39m (of \u001b[39m\u001b[39m%d\u001b[39;00m\u001b[39m) futures unfinished\u001b[39m\u001b[39m'\u001b[39m \u001b[39m%\u001b[39m (\n\u001b[1;32m    241\u001b[0m                 \u001b[39mlen\u001b[39m(pending), total_futures))\n\u001b[0;32m--> 243\u001b[0m waiter\u001b[39m.\u001b[39;49mevent\u001b[39m.\u001b[39;49mwait(wait_timeout)\n\u001b[1;32m    245\u001b[0m \u001b[39mwith\u001b[39;00m waiter\u001b[39m.\u001b[39mlock:\n\u001b[1;32m    246\u001b[0m     finished \u001b[39m=\u001b[39m waiter\u001b[39m.\u001b[39mfinished_futures\n",
      "File \u001b[0;32m/opt/homebrew/Cellar/python@3.11/3.11.5/Frameworks/Python.framework/Versions/3.11/lib/python3.11/threading.py:622\u001b[0m, in \u001b[0;36mEvent.wait\u001b[0;34m(self, timeout)\u001b[0m\n\u001b[1;32m    620\u001b[0m signaled \u001b[39m=\u001b[39m \u001b[39mself\u001b[39m\u001b[39m.\u001b[39m_flag\n\u001b[1;32m    621\u001b[0m \u001b[39mif\u001b[39;00m \u001b[39mnot\u001b[39;00m signaled:\n\u001b[0;32m--> 622\u001b[0m     signaled \u001b[39m=\u001b[39m \u001b[39mself\u001b[39;49m\u001b[39m.\u001b[39;49m_cond\u001b[39m.\u001b[39;49mwait(timeout)\n\u001b[1;32m    623\u001b[0m \u001b[39mreturn\u001b[39;00m signaled\n",
      "File \u001b[0;32m/opt/homebrew/Cellar/python@3.11/3.11.5/Frameworks/Python.framework/Versions/3.11/lib/python3.11/threading.py:320\u001b[0m, in \u001b[0;36mCondition.wait\u001b[0;34m(self, timeout)\u001b[0m\n\u001b[1;32m    318\u001b[0m \u001b[39mtry\u001b[39;00m:    \u001b[39m# restore state no matter what (e.g., KeyboardInterrupt)\u001b[39;00m\n\u001b[1;32m    319\u001b[0m     \u001b[39mif\u001b[39;00m timeout \u001b[39mis\u001b[39;00m \u001b[39mNone\u001b[39;00m:\n\u001b[0;32m--> 320\u001b[0m         waiter\u001b[39m.\u001b[39;49macquire()\n\u001b[1;32m    321\u001b[0m         gotit \u001b[39m=\u001b[39m \u001b[39mTrue\u001b[39;00m\n\u001b[1;32m    322\u001b[0m     \u001b[39melse\u001b[39;00m:\n",
      "\u001b[0;31mKeyboardInterrupt\u001b[0m: "
     ]
    }
   ],
   "source": [
    "for index, article in tqdm(combined_results.iterrows(), total=combined_results.shape[0]):\n",
    "    article_url = article['url']\n",
    "    wayback_url = article['article_url']\n",
    "    snippet, method_used = fetch_snippet(article_url, wayback_url)\n",
    "    if snippet:\n",
    "        sanitized_snippet = sanitize_snippet(snippet)\n",
    "        combined_results.loc[index, 'snippet'] = sanitized_snippet\n",
    "        print(f\"Snippet fetched using {method_used} method for URL: {article_url}\")"
   ]
  },
  {
   "cell_type": "code",
   "execution_count": null,
   "metadata": {},
   "outputs": [],
   "source": [
    "combined_results.to_csv(f'./data_storage/{start}.csv', index=False)\n",
    "print(f\"Data retrieval complete. Results saved to './data_storage/{start}.csv'.\")"
   ]
  }
 ],
 "metadata": {
  "kernelspec": {
   "display_name": "semantic-search",
   "language": "python",
   "name": "python3"
  },
  "language_info": {
   "codemirror_mode": {
    "name": "ipython",
    "version": 3
   },
   "file_extension": ".py",
   "mimetype": "text/x-python",
   "name": "python",
   "nbconvert_exporter": "python",
   "pygments_lexer": "ipython3",
   "version": "3.11.6"
  }
 },
 "nbformat": 4,
 "nbformat_minor": 2
}
